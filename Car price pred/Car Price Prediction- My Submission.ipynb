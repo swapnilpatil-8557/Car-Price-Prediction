{
 "cells": [
  {
   "cell_type": "markdown",
   "id": "25962b14",
   "metadata": {},
   "source": [
    "# Car Price Prediction -"
   ]
  },
  {
   "cell_type": "code",
   "execution_count": 1,
   "id": "c6bcb6e3",
   "metadata": {},
   "outputs": [],
   "source": [
    "#importing necessary libraries\n",
    "import pandas as pd\n",
    "import numpy as np\n",
    "import seaborn as sns\n",
    "import matplotlib.pyplot as plt\n",
    "%matplotlib inline\n",
    "\n",
    "\n",
    "import warnings\n",
    "warnings.filterwarnings('ignore')"
   ]
  },
  {
   "cell_type": "markdown",
   "id": "df21df0a",
   "metadata": {},
   "source": [
    "### 1. Know your data -"
   ]
  },
  {
   "cell_type": "code",
   "execution_count": 2,
   "id": "46d8365e",
   "metadata": {},
   "outputs": [],
   "source": [
    "#loading the data\n",
    "df=pd.read_csv('car_price_prediction.csv')"
   ]
  },
  {
   "cell_type": "code",
   "execution_count": 3,
   "id": "f11dedc0",
   "metadata": {},
   "outputs": [
    {
     "data": {
      "text/plain": [
       "(19237, 18)"
      ]
     },
     "execution_count": 3,
     "metadata": {},
     "output_type": "execute_result"
    }
   ],
   "source": [
    "#shape of the data\n",
    "df.shape"
   ]
  },
  {
   "cell_type": "code",
   "execution_count": 4,
   "id": "538246f4",
   "metadata": {},
   "outputs": [
    {
     "data": {
      "text/html": [
       "<div>\n",
       "<style scoped>\n",
       "    .dataframe tbody tr th:only-of-type {\n",
       "        vertical-align: middle;\n",
       "    }\n",
       "\n",
       "    .dataframe tbody tr th {\n",
       "        vertical-align: top;\n",
       "    }\n",
       "\n",
       "    .dataframe thead th {\n",
       "        text-align: right;\n",
       "    }\n",
       "</style>\n",
       "<table border=\"1\" class=\"dataframe\">\n",
       "  <thead>\n",
       "    <tr style=\"text-align: right;\">\n",
       "      <th></th>\n",
       "      <th>ID</th>\n",
       "      <th>Price</th>\n",
       "      <th>Levy</th>\n",
       "      <th>Manufacturer</th>\n",
       "      <th>Model</th>\n",
       "      <th>Prod. year</th>\n",
       "      <th>Category</th>\n",
       "      <th>Leather interior</th>\n",
       "      <th>Fuel type</th>\n",
       "      <th>Engine volume</th>\n",
       "      <th>Mileage</th>\n",
       "      <th>Cylinders</th>\n",
       "      <th>Gear box type</th>\n",
       "      <th>Drive wheels</th>\n",
       "      <th>Doors</th>\n",
       "      <th>Wheel</th>\n",
       "      <th>Color</th>\n",
       "      <th>Airbags</th>\n",
       "    </tr>\n",
       "  </thead>\n",
       "  <tbody>\n",
       "    <tr>\n",
       "      <th>4002</th>\n",
       "      <td>45749217</td>\n",
       "      <td>18817</td>\n",
       "      <td>-</td>\n",
       "      <td>KIA</td>\n",
       "      <td>RIO</td>\n",
       "      <td>2016</td>\n",
       "      <td>Hatchback</td>\n",
       "      <td>No</td>\n",
       "      <td>Petrol</td>\n",
       "      <td>1.4</td>\n",
       "      <td>91000 km</td>\n",
       "      <td>4.0</td>\n",
       "      <td>Manual</td>\n",
       "      <td>Front</td>\n",
       "      <td>04-May</td>\n",
       "      <td>Left wheel</td>\n",
       "      <td>Silver</td>\n",
       "      <td>6</td>\n",
       "    </tr>\n",
       "    <tr>\n",
       "      <th>11156</th>\n",
       "      <td>44131728</td>\n",
       "      <td>19444</td>\n",
       "      <td>-</td>\n",
       "      <td>MERCEDES-BENZ</td>\n",
       "      <td>Sprinter 316</td>\n",
       "      <td>2005</td>\n",
       "      <td>Microbus</td>\n",
       "      <td>No</td>\n",
       "      <td>Diesel</td>\n",
       "      <td>2.7 Turbo</td>\n",
       "      <td>25600 km</td>\n",
       "      <td>4.0</td>\n",
       "      <td>Tiptronic</td>\n",
       "      <td>Rear</td>\n",
       "      <td>04-May</td>\n",
       "      <td>Left wheel</td>\n",
       "      <td>Silver</td>\n",
       "      <td>4</td>\n",
       "    </tr>\n",
       "    <tr>\n",
       "      <th>11456</th>\n",
       "      <td>45776709</td>\n",
       "      <td>20385</td>\n",
       "      <td>562</td>\n",
       "      <td>BUICK</td>\n",
       "      <td>Encore</td>\n",
       "      <td>2015</td>\n",
       "      <td>Jeep</td>\n",
       "      <td>Yes</td>\n",
       "      <td>Petrol</td>\n",
       "      <td>1.4</td>\n",
       "      <td>58000 km</td>\n",
       "      <td>4.0</td>\n",
       "      <td>Automatic</td>\n",
       "      <td>Front</td>\n",
       "      <td>04-May</td>\n",
       "      <td>Left wheel</td>\n",
       "      <td>White</td>\n",
       "      <td>10</td>\n",
       "    </tr>\n",
       "    <tr>\n",
       "      <th>12321</th>\n",
       "      <td>43813860</td>\n",
       "      <td>53314</td>\n",
       "      <td>-</td>\n",
       "      <td>TOYOTA</td>\n",
       "      <td>Prius</td>\n",
       "      <td>2017</td>\n",
       "      <td>Sedan</td>\n",
       "      <td>Yes</td>\n",
       "      <td>Plug-in Hybrid</td>\n",
       "      <td>1.8</td>\n",
       "      <td>32000 km</td>\n",
       "      <td>4.0</td>\n",
       "      <td>Variator</td>\n",
       "      <td>Front</td>\n",
       "      <td>04-May</td>\n",
       "      <td>Left wheel</td>\n",
       "      <td>White</td>\n",
       "      <td>8</td>\n",
       "    </tr>\n",
       "    <tr>\n",
       "      <th>8014</th>\n",
       "      <td>45726977</td>\n",
       "      <td>16621</td>\n",
       "      <td>-</td>\n",
       "      <td>TOYOTA</td>\n",
       "      <td>Prius</td>\n",
       "      <td>2010</td>\n",
       "      <td>Hatchback</td>\n",
       "      <td>Yes</td>\n",
       "      <td>Petrol</td>\n",
       "      <td>1.8</td>\n",
       "      <td>164000 km</td>\n",
       "      <td>4.0</td>\n",
       "      <td>Automatic</td>\n",
       "      <td>Front</td>\n",
       "      <td>04-May</td>\n",
       "      <td>Left wheel</td>\n",
       "      <td>Red</td>\n",
       "      <td>10</td>\n",
       "    </tr>\n",
       "    <tr>\n",
       "      <th>9678</th>\n",
       "      <td>45771449</td>\n",
       "      <td>40142</td>\n",
       "      <td>1811</td>\n",
       "      <td>LEXUS</td>\n",
       "      <td>GX 470</td>\n",
       "      <td>2010</td>\n",
       "      <td>Jeep</td>\n",
       "      <td>Yes</td>\n",
       "      <td>Petrol</td>\n",
       "      <td>4.6</td>\n",
       "      <td>357246 km</td>\n",
       "      <td>8.0</td>\n",
       "      <td>Automatic</td>\n",
       "      <td>4x4</td>\n",
       "      <td>04-May</td>\n",
       "      <td>Left wheel</td>\n",
       "      <td>Grey</td>\n",
       "      <td>0</td>\n",
       "    </tr>\n",
       "    <tr>\n",
       "      <th>11664</th>\n",
       "      <td>45455218</td>\n",
       "      <td>16621</td>\n",
       "      <td>639</td>\n",
       "      <td>FORD</td>\n",
       "      <td>Focus se</td>\n",
       "      <td>2014</td>\n",
       "      <td>Hatchback</td>\n",
       "      <td>No</td>\n",
       "      <td>Petrol</td>\n",
       "      <td>2</td>\n",
       "      <td>130326 km</td>\n",
       "      <td>4.0</td>\n",
       "      <td>Automatic</td>\n",
       "      <td>Front</td>\n",
       "      <td>04-May</td>\n",
       "      <td>Left wheel</td>\n",
       "      <td>Grey</td>\n",
       "      <td>6</td>\n",
       "    </tr>\n",
       "    <tr>\n",
       "      <th>4967</th>\n",
       "      <td>45810122</td>\n",
       "      <td>12570</td>\n",
       "      <td>761</td>\n",
       "      <td>CHEVROLET</td>\n",
       "      <td>Lacetti</td>\n",
       "      <td>2010</td>\n",
       "      <td>Sedan</td>\n",
       "      <td>Yes</td>\n",
       "      <td>Petrol</td>\n",
       "      <td>1.8</td>\n",
       "      <td>112720 km</td>\n",
       "      <td>4.0</td>\n",
       "      <td>Automatic</td>\n",
       "      <td>Front</td>\n",
       "      <td>04-May</td>\n",
       "      <td>Left wheel</td>\n",
       "      <td>Grey</td>\n",
       "      <td>4</td>\n",
       "    </tr>\n",
       "    <tr>\n",
       "      <th>10158</th>\n",
       "      <td>45778228</td>\n",
       "      <td>13485</td>\n",
       "      <td>-</td>\n",
       "      <td>AUDI</td>\n",
       "      <td>A6</td>\n",
       "      <td>2008</td>\n",
       "      <td>Sedan</td>\n",
       "      <td>Yes</td>\n",
       "      <td>Petrol</td>\n",
       "      <td>3.2</td>\n",
       "      <td>268800 km</td>\n",
       "      <td>6.0</td>\n",
       "      <td>Tiptronic</td>\n",
       "      <td>4x4</td>\n",
       "      <td>04-May</td>\n",
       "      <td>Left wheel</td>\n",
       "      <td>Silver</td>\n",
       "      <td>8</td>\n",
       "    </tr>\n",
       "    <tr>\n",
       "      <th>5313</th>\n",
       "      <td>45749301</td>\n",
       "      <td>7840</td>\n",
       "      <td>-</td>\n",
       "      <td>HONDA</td>\n",
       "      <td>Elysion 3.0</td>\n",
       "      <td>2004</td>\n",
       "      <td>Minivan</td>\n",
       "      <td>No</td>\n",
       "      <td>Petrol</td>\n",
       "      <td>3</td>\n",
       "      <td>219000 km</td>\n",
       "      <td>6.0</td>\n",
       "      <td>Automatic</td>\n",
       "      <td>Front</td>\n",
       "      <td>04-May</td>\n",
       "      <td>Right-hand drive</td>\n",
       "      <td>Black</td>\n",
       "      <td>6</td>\n",
       "    </tr>\n",
       "  </tbody>\n",
       "</table>\n",
       "</div>"
      ],
      "text/plain": [
       "             ID  Price  Levy   Manufacturer         Model  Prod. year  \\\n",
       "4002   45749217  18817     -            KIA           RIO        2016   \n",
       "11156  44131728  19444     -  MERCEDES-BENZ  Sprinter 316        2005   \n",
       "11456  45776709  20385   562          BUICK        Encore        2015   \n",
       "12321  43813860  53314     -         TOYOTA         Prius        2017   \n",
       "8014   45726977  16621     -         TOYOTA         Prius        2010   \n",
       "9678   45771449  40142  1811          LEXUS        GX 470        2010   \n",
       "11664  45455218  16621   639           FORD      Focus se        2014   \n",
       "4967   45810122  12570   761      CHEVROLET       Lacetti        2010   \n",
       "10158  45778228  13485     -           AUDI            A6        2008   \n",
       "5313   45749301   7840     -          HONDA   Elysion 3.0        2004   \n",
       "\n",
       "        Category Leather interior       Fuel type Engine volume    Mileage  \\\n",
       "4002   Hatchback               No          Petrol           1.4   91000 km   \n",
       "11156   Microbus               No          Diesel     2.7 Turbo   25600 km   \n",
       "11456       Jeep              Yes          Petrol           1.4   58000 km   \n",
       "12321      Sedan              Yes  Plug-in Hybrid           1.8   32000 km   \n",
       "8014   Hatchback              Yes          Petrol           1.8  164000 km   \n",
       "9678        Jeep              Yes          Petrol           4.6  357246 km   \n",
       "11664  Hatchback               No          Petrol             2  130326 km   \n",
       "4967       Sedan              Yes          Petrol           1.8  112720 km   \n",
       "10158      Sedan              Yes          Petrol           3.2  268800 km   \n",
       "5313     Minivan               No          Petrol             3  219000 km   \n",
       "\n",
       "       Cylinders Gear box type Drive wheels   Doors             Wheel   Color  \\\n",
       "4002         4.0        Manual        Front  04-May        Left wheel  Silver   \n",
       "11156        4.0     Tiptronic         Rear  04-May        Left wheel  Silver   \n",
       "11456        4.0     Automatic        Front  04-May        Left wheel   White   \n",
       "12321        4.0      Variator        Front  04-May        Left wheel   White   \n",
       "8014         4.0     Automatic        Front  04-May        Left wheel     Red   \n",
       "9678         8.0     Automatic          4x4  04-May        Left wheel    Grey   \n",
       "11664        4.0     Automatic        Front  04-May        Left wheel    Grey   \n",
       "4967         4.0     Automatic        Front  04-May        Left wheel    Grey   \n",
       "10158        6.0     Tiptronic          4x4  04-May        Left wheel  Silver   \n",
       "5313         6.0     Automatic        Front  04-May  Right-hand drive   Black   \n",
       "\n",
       "       Airbags  \n",
       "4002         6  \n",
       "11156        4  \n",
       "11456       10  \n",
       "12321        8  \n",
       "8014        10  \n",
       "9678         0  \n",
       "11664        6  \n",
       "4967         4  \n",
       "10158        8  \n",
       "5313         6  "
      ]
     },
     "execution_count": 4,
     "metadata": {},
     "output_type": "execute_result"
    }
   ],
   "source": [
    "#how does the data look like\n",
    "df.sample(10)"
   ]
  },
  {
   "cell_type": "code",
   "execution_count": 5,
   "id": "2ba0fc43",
   "metadata": {},
   "outputs": [
    {
     "name": "stdout",
     "output_type": "stream",
     "text": [
      "<class 'pandas.core.frame.DataFrame'>\n",
      "RangeIndex: 19237 entries, 0 to 19236\n",
      "Data columns (total 18 columns):\n",
      " #   Column            Non-Null Count  Dtype  \n",
      "---  ------            --------------  -----  \n",
      " 0   ID                19237 non-null  int64  \n",
      " 1   Price             19237 non-null  int64  \n",
      " 2   Levy              19237 non-null  object \n",
      " 3   Manufacturer      19237 non-null  object \n",
      " 4   Model             19237 non-null  object \n",
      " 5   Prod. year        19237 non-null  int64  \n",
      " 6   Category          19237 non-null  object \n",
      " 7   Leather interior  19237 non-null  object \n",
      " 8   Fuel type         19237 non-null  object \n",
      " 9   Engine volume     19237 non-null  object \n",
      " 10  Mileage           19237 non-null  object \n",
      " 11  Cylinders         19237 non-null  float64\n",
      " 12  Gear box type     19237 non-null  object \n",
      " 13  Drive wheels      19237 non-null  object \n",
      " 14  Doors             19237 non-null  object \n",
      " 15  Wheel             19237 non-null  object \n",
      " 16  Color             19237 non-null  object \n",
      " 17  Airbags           19237 non-null  int64  \n",
      "dtypes: float64(1), int64(4), object(13)\n",
      "memory usage: 2.6+ MB\n"
     ]
    }
   ],
   "source": [
    "df.info()"
   ]
  },
  {
   "cell_type": "markdown",
   "id": "d7b612ef",
   "metadata": {},
   "source": [
    "We can see here the features - Manufacturer, Model, Category,Leather interior,Fuel type,Cylinders,Gear box type,Wheel,Color,Airbags are categorical but given as object type."
   ]
  },
  {
   "cell_type": "code",
   "execution_count": 6,
   "id": "3a9cd71c",
   "metadata": {},
   "outputs": [],
   "source": [
    "#To convert dtype object to category\n",
    "df['Manufacturer']=df['Manufacturer'].astype('category')\n",
    "df['Model']=df['Model'].astype('category')\n",
    "df['Category']=df['Category'].astype('category')\n",
    "df['Leather interior']=df['Leather interior'].astype('category')\n",
    "df['Fuel type']=df['Fuel type'].astype('category')\n",
    "df['Gear box type']=df['Gear box type'].astype('category')\n",
    "df['Wheel']=df['Wheel'].astype('category')\n",
    "df['Color']=df['Color'].astype('category')"
   ]
  },
  {
   "cell_type": "code",
   "execution_count": 7,
   "id": "de4764a7",
   "metadata": {},
   "outputs": [
    {
     "name": "stdout",
     "output_type": "stream",
     "text": [
      "<class 'pandas.core.frame.DataFrame'>\n",
      "RangeIndex: 19237 entries, 0 to 19236\n",
      "Data columns (total 18 columns):\n",
      " #   Column            Non-Null Count  Dtype   \n",
      "---  ------            --------------  -----   \n",
      " 0   ID                19237 non-null  int64   \n",
      " 1   Price             19237 non-null  int64   \n",
      " 2   Levy              19237 non-null  object  \n",
      " 3   Manufacturer      19237 non-null  category\n",
      " 4   Model             19237 non-null  category\n",
      " 5   Prod. year        19237 non-null  int64   \n",
      " 6   Category          19237 non-null  category\n",
      " 7   Leather interior  19237 non-null  category\n",
      " 8   Fuel type         19237 non-null  category\n",
      " 9   Engine volume     19237 non-null  object  \n",
      " 10  Mileage           19237 non-null  object  \n",
      " 11  Cylinders         19237 non-null  float64 \n",
      " 12  Gear box type     19237 non-null  category\n",
      " 13  Drive wheels      19237 non-null  object  \n",
      " 14  Doors             19237 non-null  object  \n",
      " 15  Wheel             19237 non-null  category\n",
      " 16  Color             19237 non-null  category\n",
      " 17  Airbags           19237 non-null  int64   \n",
      "dtypes: category(8), float64(1), int64(4), object(5)\n",
      "memory usage: 1.7+ MB\n"
     ]
    }
   ],
   "source": [
    "#check the dtypes \n",
    "df.info()"
   ]
  },
  {
   "cell_type": "markdown",
   "id": "83ced34e",
   "metadata": {},
   "source": [
    "we can see there are no missing value in data, but when we look at the data. There are missing values as '-' in Levy column."
   ]
  },
  {
   "cell_type": "code",
   "execution_count": 8,
   "id": "83ee77df",
   "metadata": {},
   "outputs": [
    {
     "data": {
      "text/plain": [
       "5819"
      ]
     },
     "execution_count": 8,
     "metadata": {},
     "output_type": "execute_result"
    }
   ],
   "source": [
    "df['Levy'].value_counts()['-']"
   ]
  },
  {
   "cell_type": "code",
   "execution_count": 9,
   "id": "79f16dfb",
   "metadata": {},
   "outputs": [
    {
     "name": "stdout",
     "output_type": "stream",
     "text": [
      "Missing values in the dataset:\n",
      "\n",
      "Column: ID - 0\n",
      "Column: Price - 0\n",
      "Column: Levy - 5819\n",
      "Column: Manufacturer - 0\n",
      "Column: Model - 0\n",
      "Column: Prod. year - 0\n",
      "Column: Category - 0\n",
      "Column: Leather interior - 0\n",
      "Column: Fuel type - 0\n",
      "Column: Engine volume - 0\n",
      "Column: Mileage - 0\n",
      "Column: Cylinders - 0\n",
      "Column: Gear box type - 0\n",
      "Column: Drive wheels - 0\n",
      "Column: Doors - 0\n",
      "Column: Wheel - 0\n",
      "Column: Color - 0\n",
      "Column: Airbags - 0\n"
     ]
    }
   ],
   "source": [
    "#Missing values are as '-' in Levy column\n",
    "print('Missing values in the dataset:\\n')\n",
    "for each_column in df.columns:\n",
    "    print('Column: {} - {}'.format(each_column, list(df[each_column]).count('-')))"
   ]
  },
  {
   "cell_type": "markdown",
   "id": "7eb5ad25",
   "metadata": {},
   "source": [
    "There are total 5819 values that are empty or given as '-'."
   ]
  },
  {
   "cell_type": "code",
   "execution_count": 10,
   "id": "640b7af1",
   "metadata": {},
   "outputs": [],
   "source": [
    "#converting '-' values into nan values\n",
    "df['Levy']=[np.nan if value== '-' else float(value) for value in df['Levy']]"
   ]
  },
  {
   "cell_type": "code",
   "execution_count": 11,
   "id": "88fc2ac3",
   "metadata": {},
   "outputs": [
    {
     "data": {
      "text/plain": [
       "5819"
      ]
     },
     "execution_count": 11,
     "metadata": {},
     "output_type": "execute_result"
    }
   ],
   "source": [
    "#total 5819 nan values in Levy column which we can fill in data preprocessing step.\n",
    "df['Levy'].isnull().sum()"
   ]
  },
  {
   "cell_type": "code",
   "execution_count": 12,
   "id": "0c53633c",
   "metadata": {},
   "outputs": [
    {
     "data": {
      "text/plain": [
       "ID                     0\n",
       "Price                  0\n",
       "Levy                5819\n",
       "Manufacturer           0\n",
       "Model                  0\n",
       "Prod. year             0\n",
       "Category               0\n",
       "Leather interior       0\n",
       "Fuel type              0\n",
       "Engine volume          0\n",
       "Mileage                0\n",
       "Cylinders              0\n",
       "Gear box type          0\n",
       "Drive wheels           0\n",
       "Doors                  0\n",
       "Wheel                  0\n",
       "Color                  0\n",
       "Airbags                0\n",
       "dtype: int64"
      ]
     },
     "execution_count": 12,
     "metadata": {},
     "output_type": "execute_result"
    }
   ],
   "source": [
    "df.isnull().sum()"
   ]
  },
  {
   "cell_type": "markdown",
   "id": "c1ce3e4d",
   "metadata": {},
   "source": [
    "## 2. Univariate Feature Analysis - \n",
    "### 2.1. Categorical Features-"
   ]
  },
  {
   "cell_type": "markdown",
   "id": "c2bb1c24",
   "metadata": {},
   "source": [
    "### 2.1.1 Category -"
   ]
  },
  {
   "cell_type": "code",
   "execution_count": 13,
   "id": "7fecf476",
   "metadata": {},
   "outputs": [
    {
     "data": {
      "text/plain": [
       "Sedan          8736\n",
       "Jeep           5473\n",
       "Hatchback      2847\n",
       "Minivan         647\n",
       "Coupe           532\n",
       "Universal       364\n",
       "Microbus        306\n",
       "Goods wagon     233\n",
       "Pickup           52\n",
       "Cabriolet        36\n",
       "Limousine        11\n",
       "Name: Category, dtype: int64"
      ]
     },
     "execution_count": 13,
     "metadata": {},
     "output_type": "execute_result"
    }
   ],
   "source": [
    "category_count=df['Category'].value_counts()\n",
    "category_count"
   ]
  },
  {
   "cell_type": "code",
   "execution_count": 14,
   "id": "dcd16491",
   "metadata": {},
   "outputs": [
    {
     "data": {
      "text/plain": [
       "Text(0.5, 0, 'Category')"
      ]
     },
     "execution_count": 14,
     "metadata": {},
     "output_type": "execute_result"
    },
    {
     "data": {
      "image/png": "[encoded data removed]",
      "text/plain": [
       "<Figure size 864x432 with 1 Axes>"
      ]
     },
     "metadata": {
      "needs_background": "light"
     },
     "output_type": "display_data"
    }
   ],
   "source": [
    "#Barplot of category vs count\n",
    "plt.figure(figsize=(12,6))\n",
    "sns.barplot(category_count.index,category_count.values)\n",
    "plt.title('Category vs Count',fontsize=12)\n",
    "plt.ylabel('Count')\n",
    "plt.xlabel('Category')"
   ]
  },
  {
   "cell_type": "markdown",
   "id": "b4033beb",
   "metadata": {},
   "source": [
    "Here we can observe that some of the categories has very less data to describe (i.e Cabriolet, Coupe,..etc)"
   ]
  },
  {
   "cell_type": "code",
   "execution_count": 15,
   "id": "b2fb7655",
   "metadata": {},
   "outputs": [
    {
     "data": {
      "text/html": [
       "<div>\n",
       "<style scoped>\n",
       "    .dataframe tbody tr th:only-of-type {\n",
       "        vertical-align: middle;\n",
       "    }\n",
       "\n",
       "    .dataframe tbody tr th {\n",
       "        vertical-align: top;\n",
       "    }\n",
       "\n",
       "    .dataframe thead th {\n",
       "        text-align: right;\n",
       "    }\n",
       "</style>\n",
       "<table border=\"1\" class=\"dataframe\">\n",
       "  <thead>\n",
       "    <tr style=\"text-align: right;\">\n",
       "      <th></th>\n",
       "      <th>Category</th>\n",
       "      <th>Price</th>\n",
       "    </tr>\n",
       "  </thead>\n",
       "  <tbody>\n",
       "    <tr>\n",
       "      <th>0</th>\n",
       "      <td>Cabriolet</td>\n",
       "      <td>24583.694444</td>\n",
       "    </tr>\n",
       "    <tr>\n",
       "      <th>1</th>\n",
       "      <td>Coupe</td>\n",
       "      <td>21250.406015</td>\n",
       "    </tr>\n",
       "    <tr>\n",
       "      <th>2</th>\n",
       "      <td>Goods wagon</td>\n",
       "      <td>122916.180258</td>\n",
       "    </tr>\n",
       "    <tr>\n",
       "      <th>3</th>\n",
       "      <td>Hatchback</td>\n",
       "      <td>11381.245873</td>\n",
       "    </tr>\n",
       "    <tr>\n",
       "      <th>4</th>\n",
       "      <td>Jeep</td>\n",
       "      <td>23684.285949</td>\n",
       "    </tr>\n",
       "    <tr>\n",
       "      <th>5</th>\n",
       "      <td>Limousine</td>\n",
       "      <td>11534.454545</td>\n",
       "    </tr>\n",
       "    <tr>\n",
       "      <th>6</th>\n",
       "      <td>Microbus</td>\n",
       "      <td>18550.928105</td>\n",
       "    </tr>\n",
       "    <tr>\n",
       "      <th>7</th>\n",
       "      <td>Minivan</td>\n",
       "      <td>20531.221020</td>\n",
       "    </tr>\n",
       "    <tr>\n",
       "      <th>8</th>\n",
       "      <td>Pickup</td>\n",
       "      <td>28805.269231</td>\n",
       "    </tr>\n",
       "    <tr>\n",
       "      <th>9</th>\n",
       "      <td>Sedan</td>\n",
       "      <td>14231.545902</td>\n",
       "    </tr>\n",
       "    <tr>\n",
       "      <th>10</th>\n",
       "      <td>Universal</td>\n",
       "      <td>25253.700549</td>\n",
       "    </tr>\n",
       "  </tbody>\n",
       "</table>\n",
       "</div>"
      ],
      "text/plain": [
       "       Category          Price\n",
       "0     Cabriolet   24583.694444\n",
       "1         Coupe   21250.406015\n",
       "2   Goods wagon  122916.180258\n",
       "3     Hatchback   11381.245873\n",
       "4          Jeep   23684.285949\n",
       "5     Limousine   11534.454545\n",
       "6      Microbus   18550.928105\n",
       "7       Minivan   20531.221020\n",
       "8        Pickup   28805.269231\n",
       "9         Sedan   14231.545902\n",
       "10    Universal   25253.700549"
      ]
     },
     "execution_count": 15,
     "metadata": {},
     "output_type": "execute_result"
    }
   ],
   "source": [
    "#calculating the mean price for each category-\n",
    "mean_category=df[['Category','Price']].groupby('Category',as_index=False).mean()\n",
    "mean_category"
   ]
  },
  {
   "cell_type": "code",
   "execution_count": 16,
   "id": "32ce5fbe",
   "metadata": {},
   "outputs": [
    {
     "data": {
      "text/plain": [
       "Text(0, 0.5, 'mean Price')"
      ]
     },
     "execution_count": 16,
     "metadata": {},
     "output_type": "execute_result"
    },
    {
     "data": {
      "image/png": "[encoded data removed]",
      "text/plain": [
       "<Figure size 864x432 with 1 Axes>"
      ]
     },
     "metadata": {
      "needs_background": "light"
     },
     "output_type": "display_data"
    }
   ],
   "source": [
    "#barplot of the mean price vs categories\n",
    "plt.figure(figsize=(12,6))\n",
    "sns.barplot(mean_category['Category'],mean_category['Price'])\n",
    "plt.title('Mean sales price for each category')\n",
    "plt.xlabel('category')\n",
    "plt.ylabel('mean Price')"
   ]
  },
  {
   "cell_type": "markdown",
   "id": "f530a551",
   "metadata": {},
   "source": [
    "### 2.1.2 Leather Interior -"
   ]
  },
  {
   "cell_type": "code",
   "execution_count": 17,
   "id": "e40dc5d6",
   "metadata": {},
   "outputs": [
    {
     "data": {
      "text/plain": [
       "Yes    13954\n",
       "No      5283\n",
       "Name: Leather interior, dtype: int64"
      ]
     },
     "execution_count": 17,
     "metadata": {},
     "output_type": "execute_result"
    }
   ],
   "source": [
    "#value count for the cars having Leather interior\n",
    "leather_count=df['Leather interior'].value_counts()\n",
    "leather_count"
   ]
  },
  {
   "cell_type": "code",
   "execution_count": 18,
   "id": "4ea8c11d",
   "metadata": {},
   "outputs": [
    {
     "data": {
      "text/plain": [
       "Text(0, 0.5, 'Count')"
      ]
     },
     "execution_count": 18,
     "metadata": {},
     "output_type": "execute_result"
    },
    {
     "data": {
      "image/png": "[encoded data removed]",
      "text/plain": [
       "<Figure size 864x432 with 1 Axes>"
      ]
     },
     "metadata": {
      "needs_background": "light"
     },
     "output_type": "display_data"
    }
   ],
   "source": [
    "#plotting the leather interior cars vs the count\n",
    "plt.figure(figsize=(12,6))\n",
    "sns.barplot(leather_count.index,leather_count.values)\n",
    "plt.title('Leather Interior in Cars')\n",
    "plt.xlabel('Yes/No')\n",
    "plt.ylabel('Count')\n"
   ]
  },
  {
   "cell_type": "code",
   "execution_count": 19,
   "id": "c39b69b2",
   "metadata": {},
   "outputs": [
    {
     "data": {
      "text/html": [
       "<div>\n",
       "<style scoped>\n",
       "    .dataframe tbody tr th:only-of-type {\n",
       "        vertical-align: middle;\n",
       "    }\n",
       "\n",
       "    .dataframe tbody tr th {\n",
       "        vertical-align: top;\n",
       "    }\n",
       "\n",
       "    .dataframe thead th {\n",
       "        text-align: right;\n",
       "    }\n",
       "</style>\n",
       "<table border=\"1\" class=\"dataframe\">\n",
       "  <thead>\n",
       "    <tr style=\"text-align: right;\">\n",
       "      <th></th>\n",
       "      <th>Leather interior</th>\n",
       "      <th>Price</th>\n",
       "    </tr>\n",
       "  </thead>\n",
       "  <tbody>\n",
       "    <tr>\n",
       "      <th>0</th>\n",
       "      <td>No</td>\n",
       "      <td>18322.323301</td>\n",
       "    </tr>\n",
       "    <tr>\n",
       "      <th>1</th>\n",
       "      <td>Yes</td>\n",
       "      <td>18644.369930</td>\n",
       "    </tr>\n",
       "  </tbody>\n",
       "</table>\n",
       "</div>"
      ],
      "text/plain": [
       "  Leather interior         Price\n",
       "0               No  18322.323301\n",
       "1              Yes  18644.369930"
      ]
     },
     "execution_count": 19,
     "metadata": {},
     "output_type": "execute_result"
    }
   ],
   "source": [
    "#calculating the mean price for cars having the leather interior\n",
    "mean_leather_int=df[['Leather interior','Price']].groupby('Leather interior',as_index=False).mean()\n",
    "mean_leather_int"
   ]
  },
  {
   "cell_type": "code",
   "execution_count": 20,
   "id": "cfe4fdda",
   "metadata": {},
   "outputs": [
    {
     "data": {
      "text/plain": [
       "Text(0, 0.5, 'Mean Price')"
      ]
     },
     "execution_count": 20,
     "metadata": {},
     "output_type": "execute_result"
    },
    {
     "data": {
      "image/png": "[encoded data removed]",
      "text/plain": [
       "<Figure size 864x432 with 1 Axes>"
      ]
     },
     "metadata": {
      "needs_background": "light"
     },
     "output_type": "display_data"
    }
   ],
   "source": [
    "#plotting the mean price \n",
    "plt.figure(figsize=(12,6))\n",
    "sns.barplot(mean_leather_int['Leather interior'],mean_leather_int['Price'])\n",
    "plt.title('Mean Price for Leather Interior in Cars')\n",
    "plt.xlabel('Yes/No')\n",
    "plt.ylabel('Mean Price')"
   ]
  },
  {
   "cell_type": "markdown",
   "id": "e2345d71",
   "metadata": {},
   "source": [
    "### 2.1.3 Fuel Type-"
   ]
  },
  {
   "cell_type": "code",
   "execution_count": 21,
   "id": "44cee9cd",
   "metadata": {},
   "outputs": [
    {
     "data": {
      "text/plain": [
       "Petrol            10150\n",
       "Diesel             4036\n",
       "Hybrid             3578\n",
       "LPG                 892\n",
       "CNG                 494\n",
       "Plug-in Hybrid       86\n",
       "Hydrogen              1\n",
       "Name: Fuel type, dtype: int64"
      ]
     },
     "execution_count": 21,
     "metadata": {},
     "output_type": "execute_result"
    }
   ],
   "source": [
    "#analysing the fuel type \n",
    "fuel_count=df['Fuel type'].value_counts()\n",
    "fuel_count"
   ]
  },
  {
   "cell_type": "code",
   "execution_count": 22,
   "id": "eb60ca7c",
   "metadata": {},
   "outputs": [
    {
     "data": {
      "text/plain": [
       "Text(0, 0.5, 'Count')"
      ]
     },
     "execution_count": 22,
     "metadata": {},
     "output_type": "execute_result"
    },
    {
     "data": {
      "image/png": "[encoded data removed]",
      "text/plain": [
       "<Figure size 864x432 with 1 Axes>"
      ]
     },
     "metadata": {
      "needs_background": "light"
     },
     "output_type": "display_data"
    }
   ],
   "source": [
    "#plotting the barplot\n",
    "plt.figure(figsize=(12,6))\n",
    "sns.barplot(fuel_count.index,fuel_count.values)\n",
    "plt.title('Fuel type of the cars')\n",
    "plt.xlabel('Fuel Type')\n",
    "plt.ylabel('Count')"
   ]
  },
  {
   "cell_type": "code",
   "execution_count": 23,
   "id": "57a7acf6",
   "metadata": {},
   "outputs": [
    {
     "data": {
      "text/html": [
       "<div>\n",
       "<style scoped>\n",
       "    .dataframe tbody tr th:only-of-type {\n",
       "        vertical-align: middle;\n",
       "    }\n",
       "\n",
       "    .dataframe tbody tr th {\n",
       "        vertical-align: top;\n",
       "    }\n",
       "\n",
       "    .dataframe thead th {\n",
       "        text-align: right;\n",
       "    }\n",
       "</style>\n",
       "<table border=\"1\" class=\"dataframe\">\n",
       "  <thead>\n",
       "    <tr style=\"text-align: right;\">\n",
       "      <th></th>\n",
       "      <th>Fuel type</th>\n",
       "      <th>Price</th>\n",
       "    </tr>\n",
       "  </thead>\n",
       "  <tbody>\n",
       "    <tr>\n",
       "      <th>0</th>\n",
       "      <td>CNG</td>\n",
       "      <td>8509.591093</td>\n",
       "    </tr>\n",
       "    <tr>\n",
       "      <th>1</th>\n",
       "      <td>Diesel</td>\n",
       "      <td>30631.071358</td>\n",
       "    </tr>\n",
       "    <tr>\n",
       "      <th>2</th>\n",
       "      <td>Hybrid</td>\n",
       "      <td>10849.320570</td>\n",
       "    </tr>\n",
       "    <tr>\n",
       "      <th>3</th>\n",
       "      <td>Hydrogen</td>\n",
       "      <td>20385.000000</td>\n",
       "    </tr>\n",
       "    <tr>\n",
       "      <th>4</th>\n",
       "      <td>LPG</td>\n",
       "      <td>13309.438341</td>\n",
       "    </tr>\n",
       "    <tr>\n",
       "      <th>5</th>\n",
       "      <td>Petrol</td>\n",
       "      <td>17377.351527</td>\n",
       "    </tr>\n",
       "    <tr>\n",
       "      <th>6</th>\n",
       "      <td>Plug-in Hybrid</td>\n",
       "      <td>23700.453488</td>\n",
       "    </tr>\n",
       "  </tbody>\n",
       "</table>\n",
       "</div>"
      ],
      "text/plain": [
       "        Fuel type         Price\n",
       "0             CNG   8509.591093\n",
       "1          Diesel  30631.071358\n",
       "2          Hybrid  10849.320570\n",
       "3        Hydrogen  20385.000000\n",
       "4             LPG  13309.438341\n",
       "5          Petrol  17377.351527\n",
       "6  Plug-in Hybrid  23700.453488"
      ]
     },
     "execution_count": 23,
     "metadata": {},
     "output_type": "execute_result"
    }
   ],
   "source": [
    "#calculating the mean price as per the fuel type of cars\n",
    "mean_fuel_type=df[['Fuel type','Price']].groupby('Fuel type',as_index=False).mean()\n",
    "mean_fuel_type"
   ]
  },
  {
   "cell_type": "code",
   "execution_count": 24,
   "id": "48333565",
   "metadata": {},
   "outputs": [
    {
     "data": {
      "text/plain": [
       "Text(0, 0.5, 'Mean Price')"
      ]
     },
     "execution_count": 24,
     "metadata": {},
     "output_type": "execute_result"
    },
    {
     "data": {
      "image/png": "[encoded data removed]",
      "text/plain": [
       "<Figure size 864x432 with 1 Axes>"
      ]
     },
     "metadata": {
      "needs_background": "light"
     },
     "output_type": "display_data"
    }
   ],
   "source": [
    "#plotting the mean barplot -\n",
    "plt.figure(figsize=(12,6))\n",
    "sns.barplot(mean_fuel_type['Fuel type'],mean_fuel_type['Price'])\n",
    "plt.title('Mean Price of the cars vs Fuel Type')\n",
    "plt.xlabel('Fuel Type')\n",
    "plt.ylabel('Mean Price')"
   ]
  },
  {
   "cell_type": "markdown",
   "id": "8f09bda1",
   "metadata": {},
   "source": [
    "### 2.1.4 Gear Box Type -"
   ]
  },
  {
   "cell_type": "code",
   "execution_count": 25,
   "id": "06de573c",
   "metadata": {},
   "outputs": [
    {
     "data": {
      "text/plain": [
       "Automatic    13514\n",
       "Tiptronic     3102\n",
       "Manual        1875\n",
       "Variator       746\n",
       "Name: Gear box type, dtype: int64"
      ]
     },
     "execution_count": 25,
     "metadata": {},
     "output_type": "execute_result"
    }
   ],
   "source": [
    "gear_count=df['Gear box type'].value_counts()\n",
    "gear_count"
   ]
  },
  {
   "cell_type": "code",
   "execution_count": 26,
   "id": "a3e4cad8",
   "metadata": {},
   "outputs": [
    {
     "data": {
      "text/plain": [
       "Text(0, 0.5, 'Count')"
      ]
     },
     "execution_count": 26,
     "metadata": {},
     "output_type": "execute_result"
    },
    {
     "data": {
      "image/png": "[encoded data removed]",
      "text/plain": [
       "<Figure size 864x432 with 1 Axes>"
      ]
     },
     "metadata": {
      "needs_background": "light"
     },
     "output_type": "display_data"
    }
   ],
   "source": [
    "plt.figure(figsize=(12,6))\n",
    "sns.barplot(gear_count.index,gear_count.values)\n",
    "plt.title('Gear Box Type vs Count')\n",
    "plt.xlabel('Gear Box Type')\n",
    "plt.ylabel('Count')"
   ]
  },
  {
   "cell_type": "code",
   "execution_count": 27,
   "id": "2d5cb6c7",
   "metadata": {},
   "outputs": [
    {
     "data": {
      "text/html": [
       "<div>\n",
       "<style scoped>\n",
       "    .dataframe tbody tr th:only-of-type {\n",
       "        vertical-align: middle;\n",
       "    }\n",
       "\n",
       "    .dataframe tbody tr th {\n",
       "        vertical-align: top;\n",
       "    }\n",
       "\n",
       "    .dataframe thead th {\n",
       "        text-align: right;\n",
       "    }\n",
       "</style>\n",
       "<table border=\"1\" class=\"dataframe\">\n",
       "  <thead>\n",
       "    <tr style=\"text-align: right;\">\n",
       "      <th></th>\n",
       "      <th>Gear box type</th>\n",
       "      <th>Price</th>\n",
       "    </tr>\n",
       "  </thead>\n",
       "  <tbody>\n",
       "    <tr>\n",
       "      <th>0</th>\n",
       "      <td>Automatic</td>\n",
       "      <td>15974.326032</td>\n",
       "    </tr>\n",
       "    <tr>\n",
       "      <th>1</th>\n",
       "      <td>Manual</td>\n",
       "      <td>25614.896533</td>\n",
       "    </tr>\n",
       "    <tr>\n",
       "      <th>2</th>\n",
       "      <td>Tiptronic</td>\n",
       "      <td>26448.307221</td>\n",
       "    </tr>\n",
       "    <tr>\n",
       "      <th>3</th>\n",
       "      <td>Variator</td>\n",
       "      <td>14762.399464</td>\n",
       "    </tr>\n",
       "  </tbody>\n",
       "</table>\n",
       "</div>"
      ],
      "text/plain": [
       "  Gear box type         Price\n",
       "0     Automatic  15974.326032\n",
       "1        Manual  25614.896533\n",
       "2     Tiptronic  26448.307221\n",
       "3      Variator  14762.399464"
      ]
     },
     "execution_count": 27,
     "metadata": {},
     "output_type": "execute_result"
    }
   ],
   "source": [
    "#mean price for each of the gearbox type\n",
    "mean_gear_box=df[['Gear box type','Price']].groupby('Gear box type',as_index=False).mean()\n",
    "mean_gear_box"
   ]
  },
  {
   "cell_type": "code",
   "execution_count": 28,
   "id": "8bf9fea6",
   "metadata": {},
   "outputs": [
    {
     "data": {
      "text/plain": [
       "Text(0, 0.5, 'Mean Price')"
      ]
     },
     "execution_count": 28,
     "metadata": {},
     "output_type": "execute_result"
    },
    {
     "data": {
      "image/png": "[encoded data removed]",
      "text/plain": [
       "<Figure size 864x432 with 1 Axes>"
      ]
     },
     "metadata": {
      "needs_background": "light"
     },
     "output_type": "display_data"
    }
   ],
   "source": [
    "#plotting the mean barplot -\n",
    "plt.figure(figsize=(12,6))\n",
    "sns.barplot(mean_gear_box['Gear box type'],mean_gear_box['Price'])\n",
    "plt.title('Mean Price of the cars vs Gear Box Type')\n",
    "plt.xlabel('Gear Box Type')\n",
    "plt.ylabel('Mean Price')"
   ]
  },
  {
   "cell_type": "markdown",
   "id": "15175cc1",
   "metadata": {},
   "source": [
    "### 2.1.5 Drive Wheel - "
   ]
  },
  {
   "cell_type": "code",
   "execution_count": 29,
   "id": "8452d626",
   "metadata": {},
   "outputs": [
    {
     "data": {
      "text/plain": [
       "Front    12874\n",
       "4x4       4058\n",
       "Rear      2305\n",
       "Name: Drive wheels, dtype: int64"
      ]
     },
     "execution_count": 29,
     "metadata": {},
     "output_type": "execute_result"
    }
   ],
   "source": [
    "#Drive wheel type count\n",
    "drive_count=df['Drive wheels'].value_counts()\n",
    "drive_count"
   ]
  },
  {
   "cell_type": "code",
   "execution_count": 30,
   "id": "8bf43385",
   "metadata": {},
   "outputs": [
    {
     "data": {
      "text/plain": [
       "Text(0, 0.5, 'Mean Price')"
      ]
     },
     "execution_count": 30,
     "metadata": {},
     "output_type": "execute_result"
    },
    {
     "data": {
      "image/png": "[encoded data removed]",
      "text/plain": [
       "<Figure size 864x432 with 1 Axes>"
      ]
     },
     "metadata": {
      "needs_background": "light"
     },
     "output_type": "display_data"
    }
   ],
   "source": [
    "#plotting the mean barplot -\n",
    "plt.figure(figsize=(12,6))\n",
    "sns.barplot(drive_count.index,drive_count.values)\n",
    "plt.title('Mean Price of the cars vs Gear Box Type')\n",
    "plt.xlabel('Gear Box Type')\n",
    "plt.ylabel('Mean Price')"
   ]
  },
  {
   "cell_type": "code",
   "execution_count": 31,
   "id": "2c91cd0b",
   "metadata": {},
   "outputs": [
    {
     "data": {
      "text/html": [
       "<div>\n",
       "<style scoped>\n",
       "    .dataframe tbody tr th:only-of-type {\n",
       "        vertical-align: middle;\n",
       "    }\n",
       "\n",
       "    .dataframe tbody tr th {\n",
       "        vertical-align: top;\n",
       "    }\n",
       "\n",
       "    .dataframe thead th {\n",
       "        text-align: right;\n",
       "    }\n",
       "</style>\n",
       "<table border=\"1\" class=\"dataframe\">\n",
       "  <thead>\n",
       "    <tr style=\"text-align: right;\">\n",
       "      <th></th>\n",
       "      <th>Drive wheels</th>\n",
       "      <th>Price</th>\n",
       "    </tr>\n",
       "  </thead>\n",
       "  <tbody>\n",
       "    <tr>\n",
       "      <th>0</th>\n",
       "      <td>4x4</td>\n",
       "      <td>19535.423854</td>\n",
       "    </tr>\n",
       "    <tr>\n",
       "      <th>1</th>\n",
       "      <td>Front</td>\n",
       "      <td>18491.339055</td>\n",
       "    </tr>\n",
       "    <tr>\n",
       "      <th>2</th>\n",
       "      <td>Rear</td>\n",
       "      <td>17192.244252</td>\n",
       "    </tr>\n",
       "  </tbody>\n",
       "</table>\n",
       "</div>"
      ],
      "text/plain": [
       "  Drive wheels         Price\n",
       "0          4x4  19535.423854\n",
       "1        Front  18491.339055\n",
       "2         Rear  17192.244252"
      ]
     },
     "execution_count": 31,
     "metadata": {},
     "output_type": "execute_result"
    }
   ],
   "source": [
    "# Mean price of the cars for driving wheels\n",
    "mean_price_drive=df[['Drive wheels','Price']].groupby('Drive wheels',as_index=False).mean()\n",
    "mean_price_drive"
   ]
  },
  {
   "cell_type": "code",
   "execution_count": 32,
   "id": "43707687",
   "metadata": {},
   "outputs": [
    {
     "data": {
      "text/plain": [
       "Text(0, 0.5, 'Mean Price')"
      ]
     },
     "execution_count": 32,
     "metadata": {},
     "output_type": "execute_result"
    },
    {
     "data": {
      "image/png": "[encoded data removed]",
      "text/plain": [
       "<Figure size 864x432 with 1 Axes>"
      ]
     },
     "metadata": {
      "needs_background": "light"
     },
     "output_type": "display_data"
    }
   ],
   "source": [
    "#plotting the mean barplot -\n",
    "plt.figure(figsize=(12,6))\n",
    "sns.barplot(mean_price_drive['Drive wheels'],mean_price_drive['Price'])\n",
    "plt.title('Mean Price of the cars vs Drive Wheels')\n",
    "plt.xlabel('Drive Wheels')\n",
    "plt.ylabel('Mean Price')"
   ]
  },
  {
   "cell_type": "markdown",
   "id": "39941333",
   "metadata": {},
   "source": [
    "### 2.1.6 Doors -"
   ]
  },
  {
   "cell_type": "code",
   "execution_count": 33,
   "id": "308e1db0",
   "metadata": {},
   "outputs": [
    {
     "data": {
      "text/plain": [
       "04-May    18332\n",
       "02-Mar      777\n",
       ">5          128\n",
       "Name: Doors, dtype: int64"
      ]
     },
     "execution_count": 33,
     "metadata": {},
     "output_type": "execute_result"
    }
   ],
   "source": [
    "#doors count\n",
    "doors_count=df['Doors'].value_counts()\n",
    "doors_count"
   ]
  },
  {
   "cell_type": "code",
   "execution_count": 34,
   "id": "b108cf6f",
   "metadata": {},
   "outputs": [
    {
     "data": {
      "text/plain": [
       "Text(0, 0.5, 'Count')"
      ]
     },
     "execution_count": 34,
     "metadata": {},
     "output_type": "execute_result"
    },
    {
     "data": {
      "image/png": "[encoded data removed]",
      "text/plain": [
       "<Figure size 864x432 with 1 Axes>"
      ]
     },
     "metadata": {
      "needs_background": "light"
     },
     "output_type": "display_data"
    }
   ],
   "source": [
    "#plotting the mean barplot -\n",
    "plt.figure(figsize=(12,6))\n",
    "sns.barplot(doors_count.index,doors_count.values)\n",
    "plt.title('Doors count')\n",
    "plt.xlabel('Doors')\n",
    "plt.ylabel('Count') "
   ]
  },
  {
   "cell_type": "code",
   "execution_count": 35,
   "id": "ae5c1052",
   "metadata": {},
   "outputs": [
    {
     "data": {
      "text/html": [
       "<div>\n",
       "<style scoped>\n",
       "    .dataframe tbody tr th:only-of-type {\n",
       "        vertical-align: middle;\n",
       "    }\n",
       "\n",
       "    .dataframe tbody tr th {\n",
       "        vertical-align: top;\n",
       "    }\n",
       "\n",
       "    .dataframe thead th {\n",
       "        text-align: right;\n",
       "    }\n",
       "</style>\n",
       "<table border=\"1\" class=\"dataframe\">\n",
       "  <thead>\n",
       "    <tr style=\"text-align: right;\">\n",
       "      <th></th>\n",
       "      <th>Doors</th>\n",
       "      <th>Price</th>\n",
       "    </tr>\n",
       "  </thead>\n",
       "  <tbody>\n",
       "    <tr>\n",
       "      <th>0</th>\n",
       "      <td>02-Mar</td>\n",
       "      <td>50379.595882</td>\n",
       "    </tr>\n",
       "    <tr>\n",
       "      <th>1</th>\n",
       "      <td>04-May</td>\n",
       "      <td>17180.945778</td>\n",
       "    </tr>\n",
       "    <tr>\n",
       "      <th>2</th>\n",
       "      <td>&gt;5</td>\n",
       "      <td>22299.437500</td>\n",
       "    </tr>\n",
       "  </tbody>\n",
       "</table>\n",
       "</div>"
      ],
      "text/plain": [
       "    Doors         Price\n",
       "0  02-Mar  50379.595882\n",
       "1  04-May  17180.945778\n",
       "2      >5  22299.437500"
      ]
     },
     "execution_count": 35,
     "metadata": {},
     "output_type": "execute_result"
    }
   ],
   "source": [
    "#mean price as per no of doors\n",
    "mean_price_doors=df[['Doors','Price']].groupby('Doors',as_index=False).mean()\n",
    "mean_price_doors"
   ]
  },
  {
   "cell_type": "code",
   "execution_count": 36,
   "id": "e7a51129",
   "metadata": {},
   "outputs": [
    {
     "data": {
      "text/plain": [
       "Text(0, 0.5, 'Mean Price')"
      ]
     },
     "execution_count": 36,
     "metadata": {},
     "output_type": "execute_result"
    },
    {
     "data": {
      "image/png": "[encoded data removed]",
      "text/plain": [
       "<Figure size 864x432 with 1 Axes>"
      ]
     },
     "metadata": {
      "needs_background": "light"
     },
     "output_type": "display_data"
    }
   ],
   "source": [
    "#plotting the mean barplot -\n",
    "plt.figure(figsize=(12,6))\n",
    "sns.barplot(mean_price_doors['Doors'],mean_price_doors['Price'])\n",
    "plt.title('Mean Price of cars as per No of Doors')\n",
    "plt.xlabel('No of Doors')\n",
    "plt.ylabel('Mean Price') "
   ]
  },
  {
   "cell_type": "markdown",
   "id": "74c3c896",
   "metadata": {},
   "source": [
    "### 2.1.7 Wheel -"
   ]
  },
  {
   "cell_type": "code",
   "execution_count": 37,
   "id": "6e4beec0",
   "metadata": {},
   "outputs": [
    {
     "data": {
      "text/plain": [
       "Left wheel          17753\n",
       "Right-hand drive     1484\n",
       "Name: Wheel, dtype: int64"
      ]
     },
     "execution_count": 37,
     "metadata": {},
     "output_type": "execute_result"
    }
   ],
   "source": [
    "#driving wheel side car count\n",
    "wheel_count=df['Wheel'].value_counts()\n",
    "wheel_count"
   ]
  },
  {
   "cell_type": "code",
   "execution_count": 38,
   "id": "a7b5c541",
   "metadata": {},
   "outputs": [
    {
     "data": {
      "text/html": [
       "<div>\n",
       "<style scoped>\n",
       "    .dataframe tbody tr th:only-of-type {\n",
       "        vertical-align: middle;\n",
       "    }\n",
       "\n",
       "    .dataframe tbody tr th {\n",
       "        vertical-align: top;\n",
       "    }\n",
       "\n",
       "    .dataframe thead th {\n",
       "        text-align: right;\n",
       "    }\n",
       "</style>\n",
       "<table border=\"1\" class=\"dataframe\">\n",
       "  <thead>\n",
       "    <tr style=\"text-align: right;\">\n",
       "      <th></th>\n",
       "      <th>Wheel</th>\n",
       "      <th>Price</th>\n",
       "    </tr>\n",
       "  </thead>\n",
       "  <tbody>\n",
       "    <tr>\n",
       "      <th>0</th>\n",
       "      <td>Left wheel</td>\n",
       "      <td>19363.071425</td>\n",
       "    </tr>\n",
       "    <tr>\n",
       "      <th>1</th>\n",
       "      <td>Right-hand drive</td>\n",
       "      <td>8900.111186</td>\n",
       "    </tr>\n",
       "  </tbody>\n",
       "</table>\n",
       "</div>"
      ],
      "text/plain": [
       "              Wheel         Price\n",
       "0        Left wheel  19363.071425\n",
       "1  Right-hand drive   8900.111186"
      ]
     },
     "execution_count": 38,
     "metadata": {},
     "output_type": "execute_result"
    }
   ],
   "source": [
    "mean_price_wheel=df[['Wheel','Price']].groupby('Wheel',as_index=False).mean()\n",
    "mean_price_wheel"
   ]
  },
  {
   "cell_type": "code",
   "execution_count": 39,
   "id": "9c16e5c7",
   "metadata": {},
   "outputs": [
    {
     "data": {
      "text/plain": [
       "Text(0, 0.5, 'Count')"
      ]
     },
     "execution_count": 39,
     "metadata": {},
     "output_type": "execute_result"
    },
    {
     "data": {
      "image/png": "[encoded data removed]",
      "text/plain": [
       "<Figure size 864x432 with 1 Axes>"
      ]
     },
     "metadata": {
      "needs_background": "light"
     },
     "output_type": "display_data"
    }
   ],
   "source": [
    "plt.figure(figsize=(12,6))\n",
    "sns.barplot(mean_price_wheel['Wheel'],mean_price_wheel['Price'])\n",
    "plt.title('Driving Wheel Side car count')\n",
    "plt.xlabel('Driving Wheel Side')\n",
    "plt.ylabel('Count') "
   ]
  },
  {
   "cell_type": "markdown",
   "id": "23865466",
   "metadata": {},
   "source": [
    "### 2.1.8 Color-"
   ]
  },
  {
   "cell_type": "code",
   "execution_count": 40,
   "id": "116da9ce",
   "metadata": {},
   "outputs": [
    {
     "data": {
      "text/plain": [
       "Black            5033\n",
       "White            4489\n",
       "Silver           3792\n",
       "Grey             2375\n",
       "Blue             1396\n",
       "Red               639\n",
       "Green             322\n",
       "Orange            253\n",
       "Brown             187\n",
       "Carnelian red     179\n",
       "Golden            145\n",
       "Beige             134\n",
       "Sky blue          122\n",
       "Yellow            106\n",
       "Purple             39\n",
       "Pink               26\n",
       "Name: Color, dtype: int64"
      ]
     },
     "execution_count": 40,
     "metadata": {},
     "output_type": "execute_result"
    }
   ],
   "source": [
    "#color wise car count\n",
    "color_count=df['Color'].value_counts()\n",
    "color_count"
   ]
  },
  {
   "cell_type": "code",
   "execution_count": 41,
   "id": "17dc2aa9",
   "metadata": {},
   "outputs": [
    {
     "data": {
      "text/plain": [
       "Text(0, 0.5, 'Count')"
      ]
     },
     "execution_count": 41,
     "metadata": {},
     "output_type": "execute_result"
    },
    {
     "data": {
      "image/png": "[encoded data removed]",
      "text/plain": [
       "<Figure size 432x288 with 1 Axes>"
      ]
     },
     "metadata": {
      "needs_background": "light"
     },
     "output_type": "display_data"
    }
   ],
   "source": [
    "\n",
    "#plotting the barplotplt.figure(figsize=(18,6))\n",
    "sns.barplot(color_count.index,color_count.values)\n",
    "plt.title('Color count')\n",
    "plt.xlabel('Colors')\n",
    "plt.ylabel(\"Count\")"
   ]
  },
  {
   "cell_type": "code",
   "execution_count": 42,
   "id": "88b33ee8",
   "metadata": {},
   "outputs": [
    {
     "data": {
      "text/html": [
       "<div>\n",
       "<style scoped>\n",
       "    .dataframe tbody tr th:only-of-type {\n",
       "        vertical-align: middle;\n",
       "    }\n",
       "\n",
       "    .dataframe tbody tr th {\n",
       "        vertical-align: top;\n",
       "    }\n",
       "\n",
       "    .dataframe thead th {\n",
       "        text-align: right;\n",
       "    }\n",
       "</style>\n",
       "<table border=\"1\" class=\"dataframe\">\n",
       "  <thead>\n",
       "    <tr style=\"text-align: right;\">\n",
       "      <th></th>\n",
       "      <th>Color</th>\n",
       "      <th>Price</th>\n",
       "    </tr>\n",
       "  </thead>\n",
       "  <tbody>\n",
       "    <tr>\n",
       "      <th>0</th>\n",
       "      <td>Beige</td>\n",
       "      <td>15627.559701</td>\n",
       "    </tr>\n",
       "    <tr>\n",
       "      <th>1</th>\n",
       "      <td>Black</td>\n",
       "      <td>18886.917346</td>\n",
       "    </tr>\n",
       "    <tr>\n",
       "      <th>2</th>\n",
       "      <td>Blue</td>\n",
       "      <td>33726.850287</td>\n",
       "    </tr>\n",
       "    <tr>\n",
       "      <th>3</th>\n",
       "      <td>Brown</td>\n",
       "      <td>19709.636364</td>\n",
       "    </tr>\n",
       "    <tr>\n",
       "      <th>4</th>\n",
       "      <td>Carnelian red</td>\n",
       "      <td>15820.927374</td>\n",
       "    </tr>\n",
       "    <tr>\n",
       "      <th>5</th>\n",
       "      <td>Golden</td>\n",
       "      <td>14678.551724</td>\n",
       "    </tr>\n",
       "    <tr>\n",
       "      <th>6</th>\n",
       "      <td>Green</td>\n",
       "      <td>9449.677019</td>\n",
       "    </tr>\n",
       "    <tr>\n",
       "      <th>7</th>\n",
       "      <td>Grey</td>\n",
       "      <td>19203.448000</td>\n",
       "    </tr>\n",
       "    <tr>\n",
       "      <th>8</th>\n",
       "      <td>Orange</td>\n",
       "      <td>13008.422925</td>\n",
       "    </tr>\n",
       "    <tr>\n",
       "      <th>9</th>\n",
       "      <td>Pink</td>\n",
       "      <td>10649.076923</td>\n",
       "    </tr>\n",
       "    <tr>\n",
       "      <th>10</th>\n",
       "      <td>Purple</td>\n",
       "      <td>8837.384615</td>\n",
       "    </tr>\n",
       "    <tr>\n",
       "      <th>11</th>\n",
       "      <td>Red</td>\n",
       "      <td>13553.275430</td>\n",
       "    </tr>\n",
       "    <tr>\n",
       "      <th>12</th>\n",
       "      <td>Silver</td>\n",
       "      <td>15091.806962</td>\n",
       "    </tr>\n",
       "    <tr>\n",
       "      <th>13</th>\n",
       "      <td>Sky blue</td>\n",
       "      <td>14079.000000</td>\n",
       "    </tr>\n",
       "    <tr>\n",
       "      <th>14</th>\n",
       "      <td>White</td>\n",
       "      <td>18204.295389</td>\n",
       "    </tr>\n",
       "    <tr>\n",
       "      <th>15</th>\n",
       "      <td>Yellow</td>\n",
       "      <td>20666.584906</td>\n",
       "    </tr>\n",
       "  </tbody>\n",
       "</table>\n",
       "</div>"
      ],
      "text/plain": [
       "            Color         Price\n",
       "0           Beige  15627.559701\n",
       "1           Black  18886.917346\n",
       "2            Blue  33726.850287\n",
       "3           Brown  19709.636364\n",
       "4   Carnelian red  15820.927374\n",
       "5          Golden  14678.551724\n",
       "6           Green   9449.677019\n",
       "7            Grey  19203.448000\n",
       "8          Orange  13008.422925\n",
       "9            Pink  10649.076923\n",
       "10         Purple   8837.384615\n",
       "11            Red  13553.275430\n",
       "12         Silver  15091.806962\n",
       "13       Sky blue  14079.000000\n",
       "14          White  18204.295389\n",
       "15         Yellow  20666.584906"
      ]
     },
     "execution_count": 42,
     "metadata": {},
     "output_type": "execute_result"
    }
   ],
   "source": [
    "#mean price of the car as per color\n",
    "mean_price_color=df[['Color','Price']].groupby('Color',as_index=False).mean()\n",
    "mean_price_color"
   ]
  },
  {
   "cell_type": "code",
   "execution_count": 43,
   "id": "99df641f",
   "metadata": {},
   "outputs": [
    {
     "data": {
      "text/plain": [
       "Text(0, 0.5, 'Mean Price')"
      ]
     },
     "execution_count": 43,
     "metadata": {},
     "output_type": "execute_result"
    },
    {
     "data": {
      "image/png": "[encoded data removed]",
      "text/plain": [
       "<Figure size 1296x432 with 1 Axes>"
      ]
     },
     "metadata": {
      "needs_background": "light"
     },
     "output_type": "display_data"
    }
   ],
   "source": [
    "#bar plot\n",
    "plt.figure(figsize=(18,6))\n",
    "sns.barplot(mean_price_color['Color'],mean_price_color['Price'])\n",
    "plt.title('Mean Price of the Cars as per Colors')\n",
    "plt.xlabel('Colors')\n",
    "plt.ylabel('Mean Price')"
   ]
  },
  {
   "cell_type": "markdown",
   "id": "bcfb297b",
   "metadata": {},
   "source": [
    "### 2.1.9 Cylinder"
   ]
  },
  {
   "cell_type": "code",
   "execution_count": 44,
   "id": "6a0d88f0",
   "metadata": {},
   "outputs": [
    {
     "data": {
      "text/plain": [
       "4.0     14367\n",
       "6.0      3462\n",
       "8.0       991\n",
       "5.0       169\n",
       "3.0       107\n",
       "2.0        42\n",
       "1.0        38\n",
       "12.0       38\n",
       "10.0       12\n",
       "16.0        5\n",
       "7.0         4\n",
       "9.0         1\n",
       "14.0        1\n",
       "Name: Cylinders, dtype: int64"
      ]
     },
     "execution_count": 44,
     "metadata": {},
     "output_type": "execute_result"
    }
   ],
   "source": [
    "#Number of cylinder wise car count\n",
    "cylinder_count=df['Cylinders'].value_counts()\n",
    "cylinder_count"
   ]
  },
  {
   "cell_type": "code",
   "execution_count": 45,
   "id": "cf3e903a",
   "metadata": {},
   "outputs": [
    {
     "data": {
      "text/html": [
       "<div>\n",
       "<style scoped>\n",
       "    .dataframe tbody tr th:only-of-type {\n",
       "        vertical-align: middle;\n",
       "    }\n",
       "\n",
       "    .dataframe tbody tr th {\n",
       "        vertical-align: top;\n",
       "    }\n",
       "\n",
       "    .dataframe thead th {\n",
       "        text-align: right;\n",
       "    }\n",
       "</style>\n",
       "<table border=\"1\" class=\"dataframe\">\n",
       "  <thead>\n",
       "    <tr style=\"text-align: right;\">\n",
       "      <th></th>\n",
       "      <th>Cylinders</th>\n",
       "      <th>Price</th>\n",
       "    </tr>\n",
       "  </thead>\n",
       "  <tbody>\n",
       "    <tr>\n",
       "      <th>0</th>\n",
       "      <td>1.0</td>\n",
       "      <td>16375.105263</td>\n",
       "    </tr>\n",
       "    <tr>\n",
       "      <th>1</th>\n",
       "      <td>2.0</td>\n",
       "      <td>10358.404762</td>\n",
       "    </tr>\n",
       "    <tr>\n",
       "      <th>2</th>\n",
       "      <td>3.0</td>\n",
       "      <td>9879.093458</td>\n",
       "    </tr>\n",
       "    <tr>\n",
       "      <th>3</th>\n",
       "      <td>4.0</td>\n",
       "      <td>18436.320874</td>\n",
       "    </tr>\n",
       "    <tr>\n",
       "      <th>4</th>\n",
       "      <td>5.0</td>\n",
       "      <td>14640.213018</td>\n",
       "    </tr>\n",
       "    <tr>\n",
       "      <th>5</th>\n",
       "      <td>6.0</td>\n",
       "      <td>16618.038417</td>\n",
       "    </tr>\n",
       "    <tr>\n",
       "      <th>6</th>\n",
       "      <td>7.0</td>\n",
       "      <td>6446.500000</td>\n",
       "    </tr>\n",
       "    <tr>\n",
       "      <th>7</th>\n",
       "      <td>8.0</td>\n",
       "      <td>28198.847629</td>\n",
       "    </tr>\n",
       "    <tr>\n",
       "      <th>8</th>\n",
       "      <td>9.0</td>\n",
       "      <td>2800.000000</td>\n",
       "    </tr>\n",
       "    <tr>\n",
       "      <th>9</th>\n",
       "      <td>10.0</td>\n",
       "      <td>31486.666667</td>\n",
       "    </tr>\n",
       "    <tr>\n",
       "      <th>10</th>\n",
       "      <td>12.0</td>\n",
       "      <td>39757.131579</td>\n",
       "    </tr>\n",
       "    <tr>\n",
       "      <th>11</th>\n",
       "      <td>14.0</td>\n",
       "      <td>15681.000000</td>\n",
       "    </tr>\n",
       "    <tr>\n",
       "      <th>12</th>\n",
       "      <td>16.0</td>\n",
       "      <td>17519.800000</td>\n",
       "    </tr>\n",
       "  </tbody>\n",
       "</table>\n",
       "</div>"
      ],
      "text/plain": [
       "    Cylinders         Price\n",
       "0         1.0  16375.105263\n",
       "1         2.0  10358.404762\n",
       "2         3.0   9879.093458\n",
       "3         4.0  18436.320874\n",
       "4         5.0  14640.213018\n",
       "5         6.0  16618.038417\n",
       "6         7.0   6446.500000\n",
       "7         8.0  28198.847629\n",
       "8         9.0   2800.000000\n",
       "9        10.0  31486.666667\n",
       "10       12.0  39757.131579\n",
       "11       14.0  15681.000000\n",
       "12       16.0  17519.800000"
      ]
     },
     "execution_count": 45,
     "metadata": {},
     "output_type": "execute_result"
    }
   ],
   "source": [
    "#mean price of the car for number of cylinders\n",
    "mean_price_cylinder=df[['Cylinders','Price']].groupby('Cylinders',as_index=False).mean()\n",
    "mean_price_cylinder"
   ]
  },
  {
   "cell_type": "markdown",
   "id": "d0723a68",
   "metadata": {},
   "source": [
    "## 2.2 Numerical Features -"
   ]
  },
  {
   "cell_type": "markdown",
   "id": "e2a5f53c",
   "metadata": {},
   "source": [
    "### 2.2.1 Price"
   ]
  },
  {
   "cell_type": "code",
   "execution_count": 46,
   "id": "c3b91ec9",
   "metadata": {},
   "outputs": [
    {
     "data": {
      "text/plain": [
       "Text(0.5, 1.0, 'Distribution of the Price')"
      ]
     },
     "execution_count": 46,
     "metadata": {},
     "output_type": "execute_result"
    },
    {
     "data": {
      "image/png": "[encoded data removed]",
      "text/plain": [
       "<Figure size 864x432 with 1 Axes>"
      ]
     },
     "metadata": {
      "needs_background": "light"
     },
     "output_type": "display_data"
    }
   ],
   "source": [
    "#Distplot to check the distribution of the target column \n",
    "plt.figure(figsize=(12,6))\n",
    "sns.distplot(df['Price'],label = 'Skewness: %.2f'%(df['Price'].skew())) #skeweness of the data\n",
    "plt.legend(loc = 'best') \n",
    "plt.title('Distribution of the Price')"
   ]
  },
  {
   "cell_type": "markdown",
   "id": "86609c0a",
   "metadata": {},
   "source": [
    "Here we can observe that, the data is highly skewed towards the left"
   ]
  },
  {
   "cell_type": "code",
   "execution_count": 47,
   "id": "8925580a",
   "metadata": {},
   "outputs": [
    {
     "data": {
      "text/plain": [
       "Text(0.5, 1.0, 'Outlier Detection')"
      ]
     },
     "execution_count": 47,
     "metadata": {},
     "output_type": "execute_result"
    },
    {
     "data": {
      "image/png": "[encoded data removed]",
      "text/plain": [
       "<Figure size 864x432 with 1 Axes>"
      ]
     },
     "metadata": {
      "needs_background": "light"
     },
     "output_type": "display_data"
    }
   ],
   "source": [
    "#checking for the outliers\n",
    "plt.figure(figsize=(12,6))\n",
    "sns.boxplot(df['Price'])\n",
    "plt.title('Outlier Detection')"
   ]
  },
  {
   "cell_type": "markdown",
   "id": "80466484",
   "metadata": {},
   "source": [
    "### 2.2.2 Levy-"
   ]
  },
  {
   "cell_type": "code",
   "execution_count": 48,
   "id": "9eef65ce",
   "metadata": {},
   "outputs": [
    {
     "data": {
      "text/plain": [
       "<matplotlib.legend.Legend at 0xdd323117f0>"
      ]
     },
     "execution_count": 48,
     "metadata": {},
     "output_type": "execute_result"
    },
    {
     "data": {
      "image/png": "[encoded data removed]",
      "text/plain": [
       "<Figure size 864x432 with 1 Axes>"
      ]
     },
     "metadata": {
      "needs_background": "light"
     },
     "output_type": "display_data"
    }
   ],
   "source": [
    "#Distribution of the Levy\n",
    "plt.figure(figsize=(12,6))\n",
    "sns.distplot(df['Levy'],label='Skewness: %2f'%(df['Levy'].skew()))\n",
    "plt.legend(loc='best')"
   ]
  },
  {
   "cell_type": "code",
   "execution_count": 49,
   "id": "17da91c4",
   "metadata": {},
   "outputs": [
    {
     "data": {
      "text/plain": [
       "Text(0.5, 1.0, 'Outliers in Levy')"
      ]
     },
     "execution_count": 49,
     "metadata": {},
     "output_type": "execute_result"
    },
    {
     "data": {
      "image/png": "[encoded data removed]",
      "text/plain": [
       "<Figure size 864x432 with 1 Axes>"
      ]
     },
     "metadata": {
      "needs_background": "light"
     },
     "output_type": "display_data"
    }
   ],
   "source": [
    "#checking for outliers\n",
    "plt.figure(figsize=(12,6))\n",
    "sns.boxplot(df['Levy'])\n",
    "plt.title(\"Outliers in Levy\")"
   ]
  },
  {
   "cell_type": "markdown",
   "id": "2dcfd045",
   "metadata": {},
   "source": [
    "### 2.2.3 Mileage"
   ]
  },
  {
   "cell_type": "code",
   "execution_count": 62,
   "id": "90d297b6",
   "metadata": {},
   "outputs": [],
   "source": [
    "#Modifying the Mileage Column\n",
    "new_mile=df['Mileage'].apply(lambda x: x.split(' ')[0])\n",
    "df['Mileage']=new_mile"
   ]
  },
  {
   "cell_type": "code",
   "execution_count": 78,
   "id": "ead52947",
   "metadata": {},
   "outputs": [],
   "source": [
    "df['Mileage']=df['Mileage'].astype('int')"
   ]
  },
  {
   "cell_type": "code",
   "execution_count": 80,
   "id": "22d957b5",
   "metadata": {},
   "outputs": [
    {
     "name": "stdout",
     "output_type": "stream",
     "text": [
      "<class 'pandas.core.frame.DataFrame'>\n",
      "RangeIndex: 19237 entries, 0 to 19236\n",
      "Data columns (total 18 columns):\n",
      " #   Column            Non-Null Count  Dtype   \n",
      "---  ------            --------------  -----   \n",
      " 0   ID                19237 non-null  int64   \n",
      " 1   Price             19237 non-null  int64   \n",
      " 2   Levy              13418 non-null  float64 \n",
      " 3   Manufacturer      19237 non-null  category\n",
      " 4   Model             19237 non-null  category\n",
      " 5   Prod. year        19237 non-null  int64   \n",
      " 6   Category          19237 non-null  category\n",
      " 7   Leather interior  19237 non-null  category\n",
      " 8   Fuel type         19237 non-null  category\n",
      " 9   Engine volume     19237 non-null  object  \n",
      " 10  Mileage           19237 non-null  int32   \n",
      " 11  Cylinders         19237 non-null  float64 \n",
      " 12  Gear box type     19237 non-null  category\n",
      " 13  Drive wheels      19237 non-null  object  \n",
      " 14  Doors             19237 non-null  object  \n",
      " 15  Wheel             19237 non-null  category\n",
      " 16  Color             19237 non-null  category\n",
      " 17  Airbags           19237 non-null  int64   \n",
      "dtypes: category(8), float64(2), int32(1), int64(4), object(3)\n",
      "memory usage: 1.6+ MB\n"
     ]
    }
   ],
   "source": [
    "df.info()"
   ]
  },
  {
   "cell_type": "code",
   "execution_count": 81,
   "id": "821740c8",
   "metadata": {},
   "outputs": [
    {
     "data": {
      "text/plain": [
       "Text(0.5, 1.0, 'Distribution plot of Mileage')"
      ]
     },
     "execution_count": 81,
     "metadata": {},
     "output_type": "execute_result"
    },
    {
     "data": {
      "image/png": "[encoded data removed]",
      "text/plain": [
       "<Figure size 864x432 with 1 Axes>"
      ]
     },
     "metadata": {
      "needs_background": "light"
     },
     "output_type": "display_data"
    }
   ],
   "source": [
    "#Distplot of the Mileage\n",
    "plt.figure(figsize=(12,6))\n",
    "sns.distplot(df['Mileage'],label='Skewness: %2f'%df['Mileage'].skew())\n",
    "plt.legend(loc='best')\n",
    "plt.title('Distribution plot of Mileage')"
   ]
  },
  {
   "cell_type": "code",
   "execution_count": 82,
   "id": "8d91fa9a",
   "metadata": {},
   "outputs": [
    {
     "data": {
      "text/plain": [
       "Text(0.5, 1.0, 'Boxplot of Mileage to detect the outliers')"
      ]
     },
     "execution_count": 82,
     "metadata": {},
     "output_type": "execute_result"
    },
    {
     "data": {
      "image/png": "[encoded data removed]",
      "text/plain": [
       "<Figure size 864x432 with 1 Axes>"
      ]
     },
     "metadata": {
      "needs_background": "light"
     },
     "output_type": "display_data"
    }
   ],
   "source": [
    "plt.figure(figsize=(12,6))\n",
    "sns.boxplot(df['Mileage'])\n",
    "plt.title('Boxplot of Mileage to detect the outliers')"
   ]
  },
  {
   "cell_type": "markdown",
   "id": "b77da01b",
   "metadata": {},
   "source": [
    "### 2.2.4 Engine Volume - "
   ]
  },
  {
   "cell_type": "code",
   "execution_count": 83,
   "id": "026696dc",
   "metadata": {},
   "outputs": [],
   "source": [
    "#modification in Engine Volume\n",
    "modified_ev=[float(value.split(' ')[0]) for value in df['Engine volume']]"
   ]
  },
  {
   "cell_type": "code",
   "execution_count": 84,
   "id": "b9f11af8",
   "metadata": {},
   "outputs": [],
   "source": [
    "df['Engine volume']=modified_ev"
   ]
  },
  {
   "cell_type": "code",
   "execution_count": 85,
   "id": "6ca0d337",
   "metadata": {},
   "outputs": [
    {
     "data": {
      "text/plain": [
       "Text(0.5, 1.0, 'Distribution plot of Engine Volume')"
      ]
     },
     "execution_count": 85,
     "metadata": {},
     "output_type": "execute_result"
    },
    {
     "data": {
      "image/png": "[encoded data removed]",
      "text/plain": [
       "<Figure size 864x432 with 1 Axes>"
      ]
     },
     "metadata": {
      "needs_background": "light"
     },
     "output_type": "display_data"
    }
   ],
   "source": [
    "plt.figure(figsize=(12,6))\n",
    "sns.distplot(df['Engine volume'],label='Skewness: %2f'%df['Engine volume'].skew())\n",
    "plt.legend(loc='best')\n",
    "plt.title('Distribution plot of Engine Volume')"
   ]
  },
  {
   "cell_type": "code",
   "execution_count": 86,
   "id": "18e5033d",
   "metadata": {},
   "outputs": [
    {
     "data": {
      "text/plain": [
       "<AxesSubplot:xlabel='Engine volume'>"
      ]
     },
     "execution_count": 86,
     "metadata": {},
     "output_type": "execute_result"
    },
    {
     "data": {
      "image/png": "[encoded data removed]",
      "text/plain": [
       "<Figure size 864x432 with 1 Axes>"
      ]
     },
     "metadata": {
      "needs_background": "light"
     },
     "output_type": "display_data"
    }
   ],
   "source": [
    "plt.figure(figsize=(12,6))\n",
    "sns.boxplot(df['Engine volume'])"
   ]
  },
  {
   "cell_type": "markdown",
   "id": "9c4ec267",
   "metadata": {},
   "source": [
    "## 3. Detect Outliers -"
   ]
  },
  {
   "cell_type": "markdown",
   "id": "a76ec95b",
   "metadata": {},
   "source": [
    "We can observe from the above visualization that, most of the numerical feature contains the outliers which needs to be removed."
   ]
  },
  {
   "cell_type": "code",
   "execution_count": 87,
   "id": "8ceb0948",
   "metadata": {},
   "outputs": [],
   "source": [
    "from collections import Counter"
   ]
  },
  {
   "cell_type": "code",
   "execution_count": 88,
   "id": "c23a1723",
   "metadata": {},
   "outputs": [
    {
     "name": "stdout",
     "output_type": "stream",
     "text": [
      "We will drop 204 outliers which are [90, 211, 420, 483, 573, 579, 723, 724, 747, 1019, 1083, 1128, 1225, 1364, 1459, 1490, 1509, 1510, 1562, 1662, 1704, 1823, 2010, 2054, 2283, 2366, 2726, 2768, 2799, 2859, 2912, 2922, 2941, 2942, 3101, 3365, 3487, 3684, 3686, 3705, 3707, 3765, 3905, 4068, 4183, 4237, 4294, 4351, 4465, 4629, 4649, 4661, 4662, 4705, 4709, 4722, 4919, 5008, 5259, 5412, 5485, 5541, 5718, 5731, 6405, 6468, 6768, 6826, 6873, 6887, 6950, 7010, 7031, 7094, 7147, 7247, 7254, 7283, 7318, 7353, 7565, 7621, 7667, 7675, 7747, 7749, 7760, 7970, 7997, 8036, 8147, 8246, 8541, 8644, 8755, 8880, 9101, 9172, 9212, 9233, 9247, 9259, 9327, 9367, 9405, 9441, 9452, 9688, 9739, 10082, 10085, 10220, 10468, 10520, 10690, 10710, 10714, 10759, 10948, 11035, 11038, 11041, 11131, 11138, 11210, 11529, 11827, 11906, 11941, 11973, 12081, 12152, 12224, 12848, 12905, 12981, 13088, 13320, 13325, 13351, 13467, 13534, 13631, 13653, 13687, 13745, 13847, 13884, 13889, 13941, 13973, 14193, 14356, 14435, 14523, 14752, 14763, 14871, 14876, 15267, 15405, 15623, 15659, 16279, 16418, 16432, 16525, 16534, 16548, 16614, 16718, 16926, 17005, 17085, 17153, 17167, 17287, 17471, 17506, 17508, 17527, 17728, 17760, 17868, 17870, 17930, 18144, 18559, 18620, 18640, 18720, 18885, 428, 1086, 2418, 2512, 2952, 5860, 6513, 7272, 9114, 10973, 13850, 15665]\n"
     ]
    }
   ],
   "source": [
    "def outliers_detect(dataset,n,feature_list):\n",
    "    outlier_indices=[]\n",
    "    for feature in feature_list:\n",
    "        Q1=np.percentile(df[feature],25)\n",
    "        Q3=np.percentile(df[feature],75)\n",
    "        IQR=Q3-Q1\n",
    "        limits=1.5*IQR\n",
    "        outliers_index=df[(df[feature]<Q1-limits) | (df[feature]>Q3+limits)].index\n",
    "        outlier_indices.extend(outliers_index)\n",
    "    outlier_indices=Counter(outlier_indices)\n",
    "    #print(outlier_indices)\n",
    "    multiple_outliers=list(key for key,value in outlier_indices.items() if value > n)\n",
    "    #print(multiple_outliers)\n",
    "    return multiple_outliers\n",
    "    \n",
    "outliers_to_drop=outliers_detect(df,2,['Price', 'Levy', 'Mileage', 'Cylinders', 'Airbags','Engine volume'])\n",
    "print('We will drop {} outliers which are'.format(len(outliers_to_drop)),outliers_to_drop)"
   ]
  },
  {
   "cell_type": "code",
   "execution_count": 89,
   "id": "90e43b72",
   "metadata": {},
   "outputs": [
    {
     "data": {
      "text/html": [
       "<div>\n",
       "<style scoped>\n",
       "    .dataframe tbody tr th:only-of-type {\n",
       "        vertical-align: middle;\n",
       "    }\n",
       "\n",
       "    .dataframe tbody tr th {\n",
       "        vertical-align: top;\n",
       "    }\n",
       "\n",
       "    .dataframe thead th {\n",
       "        text-align: right;\n",
       "    }\n",
       "</style>\n",
       "<table border=\"1\" class=\"dataframe\">\n",
       "  <thead>\n",
       "    <tr style=\"text-align: right;\">\n",
       "      <th></th>\n",
       "      <th>ID</th>\n",
       "      <th>Price</th>\n",
       "      <th>Levy</th>\n",
       "      <th>Manufacturer</th>\n",
       "      <th>Model</th>\n",
       "      <th>Prod. year</th>\n",
       "      <th>Category</th>\n",
       "      <th>Leather interior</th>\n",
       "      <th>Fuel type</th>\n",
       "      <th>Engine volume</th>\n",
       "      <th>Mileage</th>\n",
       "      <th>Cylinders</th>\n",
       "      <th>Gear box type</th>\n",
       "      <th>Drive wheels</th>\n",
       "      <th>Doors</th>\n",
       "      <th>Wheel</th>\n",
       "      <th>Color</th>\n",
       "      <th>Airbags</th>\n",
       "    </tr>\n",
       "  </thead>\n",
       "  <tbody>\n",
       "    <tr>\n",
       "      <th>90</th>\n",
       "      <td>45807330</td>\n",
       "      <td>77775</td>\n",
       "      <td>1604.0</td>\n",
       "      <td>MERCEDES-BENZ</td>\n",
       "      <td>GL 63 AMG</td>\n",
       "      <td>2014</td>\n",
       "      <td>Jeep</td>\n",
       "      <td>Yes</td>\n",
       "      <td>Petrol</td>\n",
       "      <td>5.5</td>\n",
       "      <td>433811</td>\n",
       "      <td>8.0</td>\n",
       "      <td>Automatic</td>\n",
       "      <td>4x4</td>\n",
       "      <td>04-May</td>\n",
       "      <td>Left wheel</td>\n",
       "      <td>Black</td>\n",
       "      <td>10</td>\n",
       "    </tr>\n",
       "    <tr>\n",
       "      <th>211</th>\n",
       "      <td>45156280</td>\n",
       "      <td>72130</td>\n",
       "      <td>1885.0</td>\n",
       "      <td>PORSCHE</td>\n",
       "      <td>Panamera</td>\n",
       "      <td>2010</td>\n",
       "      <td>Hatchback</td>\n",
       "      <td>Yes</td>\n",
       "      <td>Petrol</td>\n",
       "      <td>4.8</td>\n",
       "      <td>196800</td>\n",
       "      <td>8.0</td>\n",
       "      <td>Tiptronic</td>\n",
       "      <td>4x4</td>\n",
       "      <td>04-May</td>\n",
       "      <td>Left wheel</td>\n",
       "      <td>White</td>\n",
       "      <td>8</td>\n",
       "    </tr>\n",
       "    <tr>\n",
       "      <th>420</th>\n",
       "      <td>45763904</td>\n",
       "      <td>81539</td>\n",
       "      <td>1935.0</td>\n",
       "      <td>LEXUS</td>\n",
       "      <td>GX 460</td>\n",
       "      <td>2016</td>\n",
       "      <td>Jeep</td>\n",
       "      <td>Yes</td>\n",
       "      <td>Petrol</td>\n",
       "      <td>4.6</td>\n",
       "      <td>155976</td>\n",
       "      <td>8.0</td>\n",
       "      <td>Automatic</td>\n",
       "      <td>4x4</td>\n",
       "      <td>04-May</td>\n",
       "      <td>Left wheel</td>\n",
       "      <td>White</td>\n",
       "      <td>0</td>\n",
       "    </tr>\n",
       "    <tr>\n",
       "      <th>483</th>\n",
       "      <td>45761340</td>\n",
       "      <td>69935</td>\n",
       "      <td>1646.0</td>\n",
       "      <td>LEXUS</td>\n",
       "      <td>GX 470</td>\n",
       "      <td>2015</td>\n",
       "      <td>Jeep</td>\n",
       "      <td>Yes</td>\n",
       "      <td>Petrol</td>\n",
       "      <td>4.6</td>\n",
       "      <td>273493</td>\n",
       "      <td>8.0</td>\n",
       "      <td>Automatic</td>\n",
       "      <td>4x4</td>\n",
       "      <td>04-May</td>\n",
       "      <td>Left wheel</td>\n",
       "      <td>Silver</td>\n",
       "      <td>0</td>\n",
       "    </tr>\n",
       "    <tr>\n",
       "      <th>573</th>\n",
       "      <td>45731517</td>\n",
       "      <td>119172</td>\n",
       "      <td>1301.0</td>\n",
       "      <td>BMW</td>\n",
       "      <td>M6</td>\n",
       "      <td>2014</td>\n",
       "      <td>Coupe</td>\n",
       "      <td>Yes</td>\n",
       "      <td>Petrol</td>\n",
       "      <td>4.4</td>\n",
       "      <td>33500</td>\n",
       "      <td>8.0</td>\n",
       "      <td>Tiptronic</td>\n",
       "      <td>Rear</td>\n",
       "      <td>04-May</td>\n",
       "      <td>Left wheel</td>\n",
       "      <td>White</td>\n",
       "      <td>12</td>\n",
       "    </tr>\n",
       "    <tr>\n",
       "      <th>...</th>\n",
       "      <td>...</td>\n",
       "      <td>...</td>\n",
       "      <td>...</td>\n",
       "      <td>...</td>\n",
       "      <td>...</td>\n",
       "      <td>...</td>\n",
       "      <td>...</td>\n",
       "      <td>...</td>\n",
       "      <td>...</td>\n",
       "      <td>...</td>\n",
       "      <td>...</td>\n",
       "      <td>...</td>\n",
       "      <td>...</td>\n",
       "      <td>...</td>\n",
       "      <td>...</td>\n",
       "      <td>...</td>\n",
       "      <td>...</td>\n",
       "      <td>...</td>\n",
       "    </tr>\n",
       "    <tr>\n",
       "      <th>7272</th>\n",
       "      <td>45416515</td>\n",
       "      <td>35438</td>\n",
       "      <td>NaN</td>\n",
       "      <td>BMW</td>\n",
       "      <td>X6</td>\n",
       "      <td>2009</td>\n",
       "      <td>Jeep</td>\n",
       "      <td>Yes</td>\n",
       "      <td>Petrol</td>\n",
       "      <td>4.4</td>\n",
       "      <td>960000</td>\n",
       "      <td>8.0</td>\n",
       "      <td>Tiptronic</td>\n",
       "      <td>4x4</td>\n",
       "      <td>04-May</td>\n",
       "      <td>Left wheel</td>\n",
       "      <td>Silver</td>\n",
       "      <td>12</td>\n",
       "    </tr>\n",
       "    <tr>\n",
       "      <th>9114</th>\n",
       "      <td>45813297</td>\n",
       "      <td>31988</td>\n",
       "      <td>3015.0</td>\n",
       "      <td>FERRARI</td>\n",
       "      <td>F50</td>\n",
       "      <td>2017</td>\n",
       "      <td>Coupe</td>\n",
       "      <td>Yes</td>\n",
       "      <td>Petrol</td>\n",
       "      <td>6.3</td>\n",
       "      <td>419200</td>\n",
       "      <td>12.0</td>\n",
       "      <td>Automatic</td>\n",
       "      <td>Rear</td>\n",
       "      <td>02-Mar</td>\n",
       "      <td>Left wheel</td>\n",
       "      <td>Silver</td>\n",
       "      <td>12</td>\n",
       "    </tr>\n",
       "    <tr>\n",
       "      <th>10973</th>\n",
       "      <td>45416515</td>\n",
       "      <td>35438</td>\n",
       "      <td>NaN</td>\n",
       "      <td>BMW</td>\n",
       "      <td>X6</td>\n",
       "      <td>2009</td>\n",
       "      <td>Jeep</td>\n",
       "      <td>Yes</td>\n",
       "      <td>Petrol</td>\n",
       "      <td>4.4</td>\n",
       "      <td>960000</td>\n",
       "      <td>8.0</td>\n",
       "      <td>Tiptronic</td>\n",
       "      <td>4x4</td>\n",
       "      <td>04-May</td>\n",
       "      <td>Left wheel</td>\n",
       "      <td>Silver</td>\n",
       "      <td>12</td>\n",
       "    </tr>\n",
       "    <tr>\n",
       "      <th>13850</th>\n",
       "      <td>45796827</td>\n",
       "      <td>1000</td>\n",
       "      <td>NaN</td>\n",
       "      <td>MERCEDES-BENZ</td>\n",
       "      <td>GLS 63 AMG</td>\n",
       "      <td>2014</td>\n",
       "      <td>Sedan</td>\n",
       "      <td>Yes</td>\n",
       "      <td>Petrol</td>\n",
       "      <td>6.3</td>\n",
       "      <td>748742</td>\n",
       "      <td>1.0</td>\n",
       "      <td>Manual</td>\n",
       "      <td>Front</td>\n",
       "      <td>02-Mar</td>\n",
       "      <td>Left wheel</td>\n",
       "      <td>Black</td>\n",
       "      <td>12</td>\n",
       "    </tr>\n",
       "    <tr>\n",
       "      <th>15665</th>\n",
       "      <td>45806588</td>\n",
       "      <td>706</td>\n",
       "      <td>1086.0</td>\n",
       "      <td>DODGE</td>\n",
       "      <td>Avenger</td>\n",
       "      <td>2012</td>\n",
       "      <td>Sedan</td>\n",
       "      <td>Yes</td>\n",
       "      <td>Petrol</td>\n",
       "      <td>3.6</td>\n",
       "      <td>667058</td>\n",
       "      <td>6.0</td>\n",
       "      <td>Automatic</td>\n",
       "      <td>Front</td>\n",
       "      <td>04-May</td>\n",
       "      <td>Left wheel</td>\n",
       "      <td>Blue</td>\n",
       "      <td>12</td>\n",
       "    </tr>\n",
       "  </tbody>\n",
       "</table>\n",
       "<p>204 rows × 18 columns</p>\n",
       "</div>"
      ],
      "text/plain": [
       "             ID   Price    Levy   Manufacturer       Model  Prod. year  \\\n",
       "90     45807330   77775  1604.0  MERCEDES-BENZ   GL 63 AMG        2014   \n",
       "211    45156280   72130  1885.0        PORSCHE    Panamera        2010   \n",
       "420    45763904   81539  1935.0          LEXUS      GX 460        2016   \n",
       "483    45761340   69935  1646.0          LEXUS      GX 470        2015   \n",
       "573    45731517  119172  1301.0            BMW          M6        2014   \n",
       "...         ...     ...     ...            ...         ...         ...   \n",
       "7272   45416515   35438     NaN            BMW          X6        2009   \n",
       "9114   45813297   31988  3015.0        FERRARI         F50        2017   \n",
       "10973  45416515   35438     NaN            BMW          X6        2009   \n",
       "13850  45796827    1000     NaN  MERCEDES-BENZ  GLS 63 AMG        2014   \n",
       "15665  45806588     706  1086.0          DODGE     Avenger        2012   \n",
       "\n",
       "        Category Leather interior Fuel type  Engine volume  Mileage  \\\n",
       "90          Jeep              Yes    Petrol            5.5   433811   \n",
       "211    Hatchback              Yes    Petrol            4.8   196800   \n",
       "420         Jeep              Yes    Petrol            4.6   155976   \n",
       "483         Jeep              Yes    Petrol            4.6   273493   \n",
       "573        Coupe              Yes    Petrol            4.4    33500   \n",
       "...          ...              ...       ...            ...      ...   \n",
       "7272        Jeep              Yes    Petrol            4.4   960000   \n",
       "9114       Coupe              Yes    Petrol            6.3   419200   \n",
       "10973       Jeep              Yes    Petrol            4.4   960000   \n",
       "13850      Sedan              Yes    Petrol            6.3   748742   \n",
       "15665      Sedan              Yes    Petrol            3.6   667058   \n",
       "\n",
       "       Cylinders Gear box type Drive wheels   Doors       Wheel   Color  \\\n",
       "90           8.0     Automatic          4x4  04-May  Left wheel   Black   \n",
       "211          8.0     Tiptronic          4x4  04-May  Left wheel   White   \n",
       "420          8.0     Automatic          4x4  04-May  Left wheel   White   \n",
       "483          8.0     Automatic          4x4  04-May  Left wheel  Silver   \n",
       "573          8.0     Tiptronic         Rear  04-May  Left wheel   White   \n",
       "...          ...           ...          ...     ...         ...     ...   \n",
       "7272         8.0     Tiptronic          4x4  04-May  Left wheel  Silver   \n",
       "9114        12.0     Automatic         Rear  02-Mar  Left wheel  Silver   \n",
       "10973        8.0     Tiptronic          4x4  04-May  Left wheel  Silver   \n",
       "13850        1.0        Manual        Front  02-Mar  Left wheel   Black   \n",
       "15665        6.0     Automatic        Front  04-May  Left wheel    Blue   \n",
       "\n",
       "       Airbags  \n",
       "90          10  \n",
       "211          8  \n",
       "420          0  \n",
       "483          0  \n",
       "573         12  \n",
       "...        ...  \n",
       "7272        12  \n",
       "9114        12  \n",
       "10973       12  \n",
       "13850       12  \n",
       "15665       12  \n",
       "\n",
       "[204 rows x 18 columns]"
      ]
     },
     "execution_count": 89,
     "metadata": {},
     "output_type": "execute_result"
    }
   ],
   "source": [
    "#Outliers\n",
    "df.iloc[outliers_to_drop,:]"
   ]
  },
  {
   "cell_type": "code",
   "execution_count": 90,
   "id": "6a45b63b",
   "metadata": {},
   "outputs": [],
   "source": [
    "#drop outliers\n",
    "df=df.drop(outliers_to_drop,axis=0).reset_index(drop=True)"
   ]
  },
  {
   "cell_type": "code",
   "execution_count": 91,
   "id": "2879daee",
   "metadata": {},
   "outputs": [
    {
     "data": {
      "text/html": [
       "<div>\n",
       "<style scoped>\n",
       "    .dataframe tbody tr th:only-of-type {\n",
       "        vertical-align: middle;\n",
       "    }\n",
       "\n",
       "    .dataframe tbody tr th {\n",
       "        vertical-align: top;\n",
       "    }\n",
       "\n",
       "    .dataframe thead th {\n",
       "        text-align: right;\n",
       "    }\n",
       "</style>\n",
       "<table border=\"1\" class=\"dataframe\">\n",
       "  <thead>\n",
       "    <tr style=\"text-align: right;\">\n",
       "      <th></th>\n",
       "      <th>ID</th>\n",
       "      <th>Price</th>\n",
       "      <th>Levy</th>\n",
       "      <th>Manufacturer</th>\n",
       "      <th>Model</th>\n",
       "      <th>Prod. year</th>\n",
       "      <th>Category</th>\n",
       "      <th>Leather interior</th>\n",
       "      <th>Fuel type</th>\n",
       "      <th>Engine volume</th>\n",
       "      <th>Mileage</th>\n",
       "      <th>Cylinders</th>\n",
       "      <th>Gear box type</th>\n",
       "      <th>Drive wheels</th>\n",
       "      <th>Doors</th>\n",
       "      <th>Wheel</th>\n",
       "      <th>Color</th>\n",
       "      <th>Airbags</th>\n",
       "    </tr>\n",
       "  </thead>\n",
       "  <tbody>\n",
       "    <tr>\n",
       "      <th>0</th>\n",
       "      <td>45654403</td>\n",
       "      <td>13328</td>\n",
       "      <td>1399.0</td>\n",
       "      <td>LEXUS</td>\n",
       "      <td>RX 450</td>\n",
       "      <td>2010</td>\n",
       "      <td>Jeep</td>\n",
       "      <td>Yes</td>\n",
       "      <td>Hybrid</td>\n",
       "      <td>3.5</td>\n",
       "      <td>186005</td>\n",
       "      <td>6.0</td>\n",
       "      <td>Automatic</td>\n",
       "      <td>4x4</td>\n",
       "      <td>04-May</td>\n",
       "      <td>Left wheel</td>\n",
       "      <td>Silver</td>\n",
       "      <td>12</td>\n",
       "    </tr>\n",
       "    <tr>\n",
       "      <th>1</th>\n",
       "      <td>44731507</td>\n",
       "      <td>16621</td>\n",
       "      <td>1018.0</td>\n",
       "      <td>CHEVROLET</td>\n",
       "      <td>Equinox</td>\n",
       "      <td>2011</td>\n",
       "      <td>Jeep</td>\n",
       "      <td>No</td>\n",
       "      <td>Petrol</td>\n",
       "      <td>3.0</td>\n",
       "      <td>192000</td>\n",
       "      <td>6.0</td>\n",
       "      <td>Tiptronic</td>\n",
       "      <td>4x4</td>\n",
       "      <td>04-May</td>\n",
       "      <td>Left wheel</td>\n",
       "      <td>Black</td>\n",
       "      <td>8</td>\n",
       "    </tr>\n",
       "    <tr>\n",
       "      <th>2</th>\n",
       "      <td>45774419</td>\n",
       "      <td>8467</td>\n",
       "      <td>NaN</td>\n",
       "      <td>HONDA</td>\n",
       "      <td>FIT</td>\n",
       "      <td>2006</td>\n",
       "      <td>Hatchback</td>\n",
       "      <td>No</td>\n",
       "      <td>Petrol</td>\n",
       "      <td>1.3</td>\n",
       "      <td>200000</td>\n",
       "      <td>4.0</td>\n",
       "      <td>Variator</td>\n",
       "      <td>Front</td>\n",
       "      <td>04-May</td>\n",
       "      <td>Right-hand drive</td>\n",
       "      <td>Black</td>\n",
       "      <td>2</td>\n",
       "    </tr>\n",
       "    <tr>\n",
       "      <th>3</th>\n",
       "      <td>45769185</td>\n",
       "      <td>3607</td>\n",
       "      <td>862.0</td>\n",
       "      <td>FORD</td>\n",
       "      <td>Escape</td>\n",
       "      <td>2011</td>\n",
       "      <td>Jeep</td>\n",
       "      <td>Yes</td>\n",
       "      <td>Hybrid</td>\n",
       "      <td>2.5</td>\n",
       "      <td>168966</td>\n",
       "      <td>4.0</td>\n",
       "      <td>Automatic</td>\n",
       "      <td>4x4</td>\n",
       "      <td>04-May</td>\n",
       "      <td>Left wheel</td>\n",
       "      <td>White</td>\n",
       "      <td>0</td>\n",
       "    </tr>\n",
       "    <tr>\n",
       "      <th>4</th>\n",
       "      <td>45809263</td>\n",
       "      <td>11726</td>\n",
       "      <td>446.0</td>\n",
       "      <td>HONDA</td>\n",
       "      <td>FIT</td>\n",
       "      <td>2014</td>\n",
       "      <td>Hatchback</td>\n",
       "      <td>Yes</td>\n",
       "      <td>Petrol</td>\n",
       "      <td>1.3</td>\n",
       "      <td>91901</td>\n",
       "      <td>4.0</td>\n",
       "      <td>Automatic</td>\n",
       "      <td>Front</td>\n",
       "      <td>04-May</td>\n",
       "      <td>Left wheel</td>\n",
       "      <td>Silver</td>\n",
       "      <td>4</td>\n",
       "    </tr>\n",
       "    <tr>\n",
       "      <th>...</th>\n",
       "      <td>...</td>\n",
       "      <td>...</td>\n",
       "      <td>...</td>\n",
       "      <td>...</td>\n",
       "      <td>...</td>\n",
       "      <td>...</td>\n",
       "      <td>...</td>\n",
       "      <td>...</td>\n",
       "      <td>...</td>\n",
       "      <td>...</td>\n",
       "      <td>...</td>\n",
       "      <td>...</td>\n",
       "      <td>...</td>\n",
       "      <td>...</td>\n",
       "      <td>...</td>\n",
       "      <td>...</td>\n",
       "      <td>...</td>\n",
       "      <td>...</td>\n",
       "    </tr>\n",
       "    <tr>\n",
       "      <th>19028</th>\n",
       "      <td>45798355</td>\n",
       "      <td>8467</td>\n",
       "      <td>NaN</td>\n",
       "      <td>MERCEDES-BENZ</td>\n",
       "      <td>CLK 200</td>\n",
       "      <td>1999</td>\n",
       "      <td>Coupe</td>\n",
       "      <td>Yes</td>\n",
       "      <td>CNG</td>\n",
       "      <td>2.0</td>\n",
       "      <td>300000</td>\n",
       "      <td>4.0</td>\n",
       "      <td>Manual</td>\n",
       "      <td>Rear</td>\n",
       "      <td>02-Mar</td>\n",
       "      <td>Left wheel</td>\n",
       "      <td>Silver</td>\n",
       "      <td>5</td>\n",
       "    </tr>\n",
       "    <tr>\n",
       "      <th>19029</th>\n",
       "      <td>45778856</td>\n",
       "      <td>15681</td>\n",
       "      <td>831.0</td>\n",
       "      <td>HYUNDAI</td>\n",
       "      <td>Sonata</td>\n",
       "      <td>2011</td>\n",
       "      <td>Sedan</td>\n",
       "      <td>Yes</td>\n",
       "      <td>Petrol</td>\n",
       "      <td>2.4</td>\n",
       "      <td>161600</td>\n",
       "      <td>4.0</td>\n",
       "      <td>Tiptronic</td>\n",
       "      <td>Front</td>\n",
       "      <td>04-May</td>\n",
       "      <td>Left wheel</td>\n",
       "      <td>Red</td>\n",
       "      <td>8</td>\n",
       "    </tr>\n",
       "    <tr>\n",
       "      <th>19030</th>\n",
       "      <td>45804997</td>\n",
       "      <td>26108</td>\n",
       "      <td>836.0</td>\n",
       "      <td>HYUNDAI</td>\n",
       "      <td>Tucson</td>\n",
       "      <td>2010</td>\n",
       "      <td>Jeep</td>\n",
       "      <td>Yes</td>\n",
       "      <td>Diesel</td>\n",
       "      <td>2.0</td>\n",
       "      <td>116365</td>\n",
       "      <td>4.0</td>\n",
       "      <td>Automatic</td>\n",
       "      <td>Front</td>\n",
       "      <td>04-May</td>\n",
       "      <td>Left wheel</td>\n",
       "      <td>Grey</td>\n",
       "      <td>4</td>\n",
       "    </tr>\n",
       "    <tr>\n",
       "      <th>19031</th>\n",
       "      <td>45793526</td>\n",
       "      <td>5331</td>\n",
       "      <td>1288.0</td>\n",
       "      <td>CHEVROLET</td>\n",
       "      <td>Captiva</td>\n",
       "      <td>2007</td>\n",
       "      <td>Jeep</td>\n",
       "      <td>Yes</td>\n",
       "      <td>Diesel</td>\n",
       "      <td>2.0</td>\n",
       "      <td>51258</td>\n",
       "      <td>4.0</td>\n",
       "      <td>Automatic</td>\n",
       "      <td>Front</td>\n",
       "      <td>04-May</td>\n",
       "      <td>Left wheel</td>\n",
       "      <td>Black</td>\n",
       "      <td>4</td>\n",
       "    </tr>\n",
       "    <tr>\n",
       "      <th>19032</th>\n",
       "      <td>45813273</td>\n",
       "      <td>470</td>\n",
       "      <td>753.0</td>\n",
       "      <td>HYUNDAI</td>\n",
       "      <td>Sonata</td>\n",
       "      <td>2012</td>\n",
       "      <td>Sedan</td>\n",
       "      <td>Yes</td>\n",
       "      <td>Hybrid</td>\n",
       "      <td>2.4</td>\n",
       "      <td>186923</td>\n",
       "      <td>4.0</td>\n",
       "      <td>Automatic</td>\n",
       "      <td>Front</td>\n",
       "      <td>04-May</td>\n",
       "      <td>Left wheel</td>\n",
       "      <td>White</td>\n",
       "      <td>12</td>\n",
       "    </tr>\n",
       "  </tbody>\n",
       "</table>\n",
       "<p>19033 rows × 18 columns</p>\n",
       "</div>"
      ],
      "text/plain": [
       "             ID  Price    Levy   Manufacturer    Model  Prod. year   Category  \\\n",
       "0      45654403  13328  1399.0          LEXUS   RX 450        2010       Jeep   \n",
       "1      44731507  16621  1018.0      CHEVROLET  Equinox        2011       Jeep   \n",
       "2      45774419   8467     NaN          HONDA      FIT        2006  Hatchback   \n",
       "3      45769185   3607   862.0           FORD   Escape        2011       Jeep   \n",
       "4      45809263  11726   446.0          HONDA      FIT        2014  Hatchback   \n",
       "...         ...    ...     ...            ...      ...         ...        ...   \n",
       "19028  45798355   8467     NaN  MERCEDES-BENZ  CLK 200        1999      Coupe   \n",
       "19029  45778856  15681   831.0        HYUNDAI   Sonata        2011      Sedan   \n",
       "19030  45804997  26108   836.0        HYUNDAI   Tucson        2010       Jeep   \n",
       "19031  45793526   5331  1288.0      CHEVROLET  Captiva        2007       Jeep   \n",
       "19032  45813273    470   753.0        HYUNDAI   Sonata        2012      Sedan   \n",
       "\n",
       "      Leather interior Fuel type  Engine volume  Mileage  Cylinders  \\\n",
       "0                  Yes    Hybrid            3.5   186005        6.0   \n",
       "1                   No    Petrol            3.0   192000        6.0   \n",
       "2                   No    Petrol            1.3   200000        4.0   \n",
       "3                  Yes    Hybrid            2.5   168966        4.0   \n",
       "4                  Yes    Petrol            1.3    91901        4.0   \n",
       "...                ...       ...            ...      ...        ...   \n",
       "19028              Yes       CNG            2.0   300000        4.0   \n",
       "19029              Yes    Petrol            2.4   161600        4.0   \n",
       "19030              Yes    Diesel            2.0   116365        4.0   \n",
       "19031              Yes    Diesel            2.0    51258        4.0   \n",
       "19032              Yes    Hybrid            2.4   186923        4.0   \n",
       "\n",
       "      Gear box type Drive wheels   Doors             Wheel   Color  Airbags  \n",
       "0         Automatic          4x4  04-May        Left wheel  Silver       12  \n",
       "1         Tiptronic          4x4  04-May        Left wheel   Black        8  \n",
       "2          Variator        Front  04-May  Right-hand drive   Black        2  \n",
       "3         Automatic          4x4  04-May        Left wheel   White        0  \n",
       "4         Automatic        Front  04-May        Left wheel  Silver        4  \n",
       "...             ...          ...     ...               ...     ...      ...  \n",
       "19028        Manual         Rear  02-Mar        Left wheel  Silver        5  \n",
       "19029     Tiptronic        Front  04-May        Left wheel     Red        8  \n",
       "19030     Automatic        Front  04-May        Left wheel    Grey        4  \n",
       "19031     Automatic        Front  04-May        Left wheel   Black        4  \n",
       "19032     Automatic        Front  04-May        Left wheel   White       12  \n",
       "\n",
       "[19033 rows x 18 columns]"
      ]
     },
     "execution_count": 91,
     "metadata": {},
     "output_type": "execute_result"
    }
   ],
   "source": [
    "df"
   ]
  },
  {
   "cell_type": "markdown",
   "id": "f69d5b2f",
   "metadata": {},
   "source": [
    "## 4.Handling the missing Values"
   ]
  },
  {
   "cell_type": "code",
   "execution_count": 92,
   "id": "c59cc26d",
   "metadata": {},
   "outputs": [
    {
     "data": {
      "text/plain": [
       "[True,\n",
       " True,\n",
       " False,\n",
       " True,\n",
       " True,\n",
       " True,\n",
       " True,\n",
       " True,\n",
       " True,\n",
       " False,\n",
       " True,\n",
       " False,\n",
       " False,\n",
       " True,\n",
       " True,\n",
       " True,\n",
       " True,\n",
       " True,\n",
       " True,\n",
       " True,\n",
       " True,\n",
       " True,\n",
       " True,\n",
       " False,\n",
       " False,\n",
       " False,\n",
       " True,\n",
       " False,\n",
       " True,\n",
       " True,\n",
       " True,\n",
       " True,\n",
       " False,\n",
       " True,\n",
       " False,\n",
       " True,\n",
       " True,\n",
       " True,\n",
       " True,\n",
       " True,\n",
       " True,\n",
       " True,\n",
       " True,\n",
       " True,\n",
       " True,\n",
       " True,\n",
       " True,\n",
       " True,\n",
       " False,\n",
       " False,\n",
       " True,\n",
       " True,\n",
       " False,\n",
       " True,\n",
       " True,\n",
       " False,\n",
       " False,\n",
       " True,\n",
       " True,\n",
       " True,\n",
       " True,\n",
       " False,\n",
       " True,\n",
       " False,\n",
       " True,\n",
       " True,\n",
       " True,\n",
       " True,\n",
       " True,\n",
       " False,\n",
       " True,\n",
       " True,\n",
       " True,\n",
       " True,\n",
       " True,\n",
       " False,\n",
       " True,\n",
       " False,\n",
       " True,\n",
       " True,\n",
       " True,\n",
       " True,\n",
       " True,\n",
       " False,\n",
       " True,\n",
       " True,\n",
       " True,\n",
       " True,\n",
       " True,\n",
       " True,\n",
       " False,\n",
       " True,\n",
       " True,\n",
       " True,\n",
       " False,\n",
       " False,\n",
       " False,\n",
       " False,\n",
       " True,\n",
       " True,\n",
       " True,\n",
       " True,\n",
       " True,\n",
       " False,\n",
       " True,\n",
       " True,\n",
       " True,\n",
       " True,\n",
       " False,\n",
       " False,\n",
       " True,\n",
       " True,\n",
       " True,\n",
       " False,\n",
       " True,\n",
       " False,\n",
       " False,\n",
       " True,\n",
       " True,\n",
       " True,\n",
       " False,\n",
       " True,\n",
       " True,\n",
       " True,\n",
       " True,\n",
       " True,\n",
       " True,\n",
       " True,\n",
       " False,\n",
       " True,\n",
       " False,\n",
       " True,\n",
       " False,\n",
       " True,\n",
       " True,\n",
       " False,\n",
       " True,\n",
       " True,\n",
       " False,\n",
       " True,\n",
       " True,\n",
       " True,\n",
       " True,\n",
       " False,\n",
       " True,\n",
       " True,\n",
       " False,\n",
       " True,\n",
       " False,\n",
       " True,\n",
       " True,\n",
       " True,\n",
       " True,\n",
       " True,\n",
       " True,\n",
       " True,\n",
       " True,\n",
       " False,\n",
       " True,\n",
       " True,\n",
       " True,\n",
       " True,\n",
       " True,\n",
       " True,\n",
       " False,\n",
       " True,\n",
       " True,\n",
       " True,\n",
       " False,\n",
       " True,\n",
       " False,\n",
       " True,\n",
       " True,\n",
       " False,\n",
       " False,\n",
       " True,\n",
       " True,\n",
       " True,\n",
       " True,\n",
       " True,\n",
       " True,\n",
       " False,\n",
       " False,\n",
       " False,\n",
       " False,\n",
       " True,\n",
       " False,\n",
       " False,\n",
       " False,\n",
       " True,\n",
       " True,\n",
       " True,\n",
       " False,\n",
       " False,\n",
       " True,\n",
       " True,\n",
       " True,\n",
       " True,\n",
       " True,\n",
       " False,\n",
       " True,\n",
       " True,\n",
       " True,\n",
       " False,\n",
       " True,\n",
       " False,\n",
       " False,\n",
       " True,\n",
       " False,\n",
       " True,\n",
       " False,\n",
       " False,\n",
       " False,\n",
       " True,\n",
       " False,\n",
       " False,\n",
       " True,\n",
       " True,\n",
       " True,\n",
       " False,\n",
       " True,\n",
       " True,\n",
       " True,\n",
       " True,\n",
       " True,\n",
       " True,\n",
       " False,\n",
       " True,\n",
       " True,\n",
       " True,\n",
       " True,\n",
       " False,\n",
       " False,\n",
       " True,\n",
       " True,\n",
       " True,\n",
       " True,\n",
       " True,\n",
       " True,\n",
       " False,\n",
       " True,\n",
       " True,\n",
       " False,\n",
       " False,\n",
       " True,\n",
       " True,\n",
       " False,\n",
       " False,\n",
       " True,\n",
       " True,\n",
       " True,\n",
       " False,\n",
       " True,\n",
       " True,\n",
       " True,\n",
       " True,\n",
       " True,\n",
       " True,\n",
       " True,\n",
       " True,\n",
       " True,\n",
       " True,\n",
       " True,\n",
       " False,\n",
       " False,\n",
       " True,\n",
       " True,\n",
       " True,\n",
       " True,\n",
       " True,\n",
       " False,\n",
       " False,\n",
       " True,\n",
       " True,\n",
       " True,\n",
       " True,\n",
       " True,\n",
       " False,\n",
       " True,\n",
       " True,\n",
       " False,\n",
       " True,\n",
       " True,\n",
       " True,\n",
       " True,\n",
       " False,\n",
       " True,\n",
       " False,\n",
       " True,\n",
       " True,\n",
       " False,\n",
       " True,\n",
       " True,\n",
       " True,\n",
       " False,\n",
       " True,\n",
       " False,\n",
       " True,\n",
       " False,\n",
       " False,\n",
       " True,\n",
       " True,\n",
       " True,\n",
       " True,\n",
       " True,\n",
       " True,\n",
       " True,\n",
       " False,\n",
       " False,\n",
       " True,\n",
       " True,\n",
       " True,\n",
       " True,\n",
       " False,\n",
       " False,\n",
       " True,\n",
       " False,\n",
       " True,\n",
       " True,\n",
       " True,\n",
       " False,\n",
       " False,\n",
       " False,\n",
       " False,\n",
       " True,\n",
       " False,\n",
       " True,\n",
       " True,\n",
       " False,\n",
       " True,\n",
       " True,\n",
       " True,\n",
       " True,\n",
       " True,\n",
       " True,\n",
       " True,\n",
       " True,\n",
       " True,\n",
       " True,\n",
       " True,\n",
       " True,\n",
       " False,\n",
       " True,\n",
       " True,\n",
       " True,\n",
       " True,\n",
       " True,\n",
       " True,\n",
       " True,\n",
       " True,\n",
       " False,\n",
       " True,\n",
       " False,\n",
       " True,\n",
       " False,\n",
       " True,\n",
       " True,\n",
       " False,\n",
       " True,\n",
       " True,\n",
       " True,\n",
       " True,\n",
       " False,\n",
       " True,\n",
       " True,\n",
       " True,\n",
       " True,\n",
       " True,\n",
       " True,\n",
       " False,\n",
       " True,\n",
       " True,\n",
       " True,\n",
       " True,\n",
       " True,\n",
       " True,\n",
       " True,\n",
       " False,\n",
       " True,\n",
       " True,\n",
       " True,\n",
       " True,\n",
       " True,\n",
       " True,\n",
       " True,\n",
       " True,\n",
       " True,\n",
       " True,\n",
       " False,\n",
       " False,\n",
       " True,\n",
       " True,\n",
       " False,\n",
       " True,\n",
       " False,\n",
       " False,\n",
       " True,\n",
       " True,\n",
       " False,\n",
       " True,\n",
       " False,\n",
       " True,\n",
       " False,\n",
       " True,\n",
       " True,\n",
       " True,\n",
       " True,\n",
       " True,\n",
       " True,\n",
       " True,\n",
       " True,\n",
       " True,\n",
       " True,\n",
       " True,\n",
       " True,\n",
       " True,\n",
       " True,\n",
       " True,\n",
       " True,\n",
       " False,\n",
       " False,\n",
       " False,\n",
       " False,\n",
       " True,\n",
       " True,\n",
       " False,\n",
       " False,\n",
       " True,\n",
       " True,\n",
       " True,\n",
       " False,\n",
       " True,\n",
       " True,\n",
       " True,\n",
       " True,\n",
       " False,\n",
       " True,\n",
       " True,\n",
       " True,\n",
       " True,\n",
       " False,\n",
       " True,\n",
       " False,\n",
       " True,\n",
       " False,\n",
       " False,\n",
       " True,\n",
       " True,\n",
       " True,\n",
       " False,\n",
       " True,\n",
       " False,\n",
       " True,\n",
       " False,\n",
       " False,\n",
       " True,\n",
       " True,\n",
       " True,\n",
       " False,\n",
       " True,\n",
       " True,\n",
       " True,\n",
       " False,\n",
       " True,\n",
       " True,\n",
       " False,\n",
       " False,\n",
       " False,\n",
       " False,\n",
       " True,\n",
       " True,\n",
       " True,\n",
       " False,\n",
       " False,\n",
       " True,\n",
       " True,\n",
       " True,\n",
       " False,\n",
       " True,\n",
       " True,\n",
       " False,\n",
       " True,\n",
       " True,\n",
       " True,\n",
       " False,\n",
       " True,\n",
       " True,\n",
       " True,\n",
       " True,\n",
       " False,\n",
       " False,\n",
       " False,\n",
       " True,\n",
       " True,\n",
       " True,\n",
       " False,\n",
       " True,\n",
       " True,\n",
       " True,\n",
       " False,\n",
       " True,\n",
       " True,\n",
       " True,\n",
       " False,\n",
       " True,\n",
       " True,\n",
       " False,\n",
       " True,\n",
       " False,\n",
       " True,\n",
       " True,\n",
       " True,\n",
       " True,\n",
       " True,\n",
       " False,\n",
       " True,\n",
       " False,\n",
       " True,\n",
       " True,\n",
       " True,\n",
       " False,\n",
       " True,\n",
       " True,\n",
       " True,\n",
       " True,\n",
       " True,\n",
       " True,\n",
       " True,\n",
       " False,\n",
       " False,\n",
       " True,\n",
       " True,\n",
       " False,\n",
       " True,\n",
       " True,\n",
       " True,\n",
       " True,\n",
       " False,\n",
       " True,\n",
       " False,\n",
       " True,\n",
       " True,\n",
       " True,\n",
       " True,\n",
       " True,\n",
       " False,\n",
       " True,\n",
       " True,\n",
       " True,\n",
       " False,\n",
       " True,\n",
       " True,\n",
       " True,\n",
       " False,\n",
       " False,\n",
       " True,\n",
       " True,\n",
       " False,\n",
       " True,\n",
       " False,\n",
       " False,\n",
       " True,\n",
       " False,\n",
       " True,\n",
       " False,\n",
       " True,\n",
       " False,\n",
       " False,\n",
       " True,\n",
       " True,\n",
       " False,\n",
       " True,\n",
       " False,\n",
       " True,\n",
       " True,\n",
       " True,\n",
       " True,\n",
       " True,\n",
       " False,\n",
       " True,\n",
       " False,\n",
       " True,\n",
       " False,\n",
       " True,\n",
       " False,\n",
       " True,\n",
       " True,\n",
       " True,\n",
       " False,\n",
       " False,\n",
       " False,\n",
       " False,\n",
       " False,\n",
       " False,\n",
       " True,\n",
       " True,\n",
       " False,\n",
       " True,\n",
       " True,\n",
       " False,\n",
       " True,\n",
       " True,\n",
       " False,\n",
       " True,\n",
       " True,\n",
       " True,\n",
       " True,\n",
       " True,\n",
       " True,\n",
       " False,\n",
       " True,\n",
       " False,\n",
       " True,\n",
       " True,\n",
       " True,\n",
       " False,\n",
       " True,\n",
       " False,\n",
       " True,\n",
       " False,\n",
       " False,\n",
       " True,\n",
       " False,\n",
       " False,\n",
       " False,\n",
       " True,\n",
       " True,\n",
       " False,\n",
       " True,\n",
       " False,\n",
       " False,\n",
       " True,\n",
       " True,\n",
       " True,\n",
       " True,\n",
       " True,\n",
       " True,\n",
       " True,\n",
       " False,\n",
       " False,\n",
       " True,\n",
       " True,\n",
       " True,\n",
       " False,\n",
       " True,\n",
       " False,\n",
       " True,\n",
       " True,\n",
       " True,\n",
       " True,\n",
       " True,\n",
       " True,\n",
       " True,\n",
       " True,\n",
       " True,\n",
       " False,\n",
       " True,\n",
       " True,\n",
       " False,\n",
       " True,\n",
       " True,\n",
       " True,\n",
       " True,\n",
       " True,\n",
       " True,\n",
       " False,\n",
       " True,\n",
       " False,\n",
       " True,\n",
       " True,\n",
       " True,\n",
       " False,\n",
       " True,\n",
       " False,\n",
       " True,\n",
       " True,\n",
       " True,\n",
       " True,\n",
       " False,\n",
       " False,\n",
       " True,\n",
       " True,\n",
       " True,\n",
       " True,\n",
       " True,\n",
       " True,\n",
       " False,\n",
       " True,\n",
       " True,\n",
       " True,\n",
       " False,\n",
       " False,\n",
       " True,\n",
       " True,\n",
       " True,\n",
       " True,\n",
       " True,\n",
       " True,\n",
       " True,\n",
       " True,\n",
       " False,\n",
       " True,\n",
       " False,\n",
       " True,\n",
       " False,\n",
       " True,\n",
       " True,\n",
       " True,\n",
       " True,\n",
       " False,\n",
       " True,\n",
       " True,\n",
       " True,\n",
       " True,\n",
       " True,\n",
       " True,\n",
       " False,\n",
       " True,\n",
       " True,\n",
       " True,\n",
       " False,\n",
       " True,\n",
       " True,\n",
       " True,\n",
       " True,\n",
       " True,\n",
       " True,\n",
       " True,\n",
       " True,\n",
       " True,\n",
       " True,\n",
       " False,\n",
       " False,\n",
       " False,\n",
       " True,\n",
       " True,\n",
       " True,\n",
       " True,\n",
       " True,\n",
       " True,\n",
       " True,\n",
       " True,\n",
       " True,\n",
       " False,\n",
       " False,\n",
       " True,\n",
       " True,\n",
       " False,\n",
       " True,\n",
       " True,\n",
       " True,\n",
       " True,\n",
       " True,\n",
       " False,\n",
       " False,\n",
       " False,\n",
       " False,\n",
       " False,\n",
       " True,\n",
       " True,\n",
       " True,\n",
       " True,\n",
       " False,\n",
       " True,\n",
       " True,\n",
       " False,\n",
       " True,\n",
       " False,\n",
       " True,\n",
       " False,\n",
       " True,\n",
       " False,\n",
       " True,\n",
       " True,\n",
       " False,\n",
       " True,\n",
       " True,\n",
       " True,\n",
       " True,\n",
       " True,\n",
       " True,\n",
       " True,\n",
       " True,\n",
       " False,\n",
       " True,\n",
       " True,\n",
       " True,\n",
       " True,\n",
       " True,\n",
       " True,\n",
       " True,\n",
       " True,\n",
       " False,\n",
       " True,\n",
       " False,\n",
       " True,\n",
       " True,\n",
       " True,\n",
       " True,\n",
       " True,\n",
       " True,\n",
       " True,\n",
       " True,\n",
       " False,\n",
       " True,\n",
       " True,\n",
       " True,\n",
       " True,\n",
       " True,\n",
       " True,\n",
       " True,\n",
       " False,\n",
       " True,\n",
       " False,\n",
       " True,\n",
       " True,\n",
       " True,\n",
       " False,\n",
       " True,\n",
       " False,\n",
       " False,\n",
       " True,\n",
       " True,\n",
       " True,\n",
       " False,\n",
       " True,\n",
       " True,\n",
       " True,\n",
       " False,\n",
       " True,\n",
       " True,\n",
       " True,\n",
       " True,\n",
       " True,\n",
       " True,\n",
       " True,\n",
       " True,\n",
       " False,\n",
       " True,\n",
       " True,\n",
       " True,\n",
       " True,\n",
       " True,\n",
       " False,\n",
       " False,\n",
       " True,\n",
       " False,\n",
       " True,\n",
       " True,\n",
       " True,\n",
       " False,\n",
       " True,\n",
       " False,\n",
       " True,\n",
       " True,\n",
       " True,\n",
       " True,\n",
       " False,\n",
       " False,\n",
       " True,\n",
       " True,\n",
       " False,\n",
       " True,\n",
       " True,\n",
       " True,\n",
       " True,\n",
       " True,\n",
       " False,\n",
       " True,\n",
       " True,\n",
       " True,\n",
       " True,\n",
       " True,\n",
       " True,\n",
       " True,\n",
       " False,\n",
       " True,\n",
       " False,\n",
       " True,\n",
       " True,\n",
       " True,\n",
       " False,\n",
       " True,\n",
       " True,\n",
       " True,\n",
       " True,\n",
       " False,\n",
       " False,\n",
       " False,\n",
       " True,\n",
       " False,\n",
       " True,\n",
       " False,\n",
       " False,\n",
       " True,\n",
       " False,\n",
       " True,\n",
       " True,\n",
       " True,\n",
       " True,\n",
       " True,\n",
       " True,\n",
       " True,\n",
       " True,\n",
       " True,\n",
       " False,\n",
       " True,\n",
       " False,\n",
       " True,\n",
       " False,\n",
       " True,\n",
       " False,\n",
       " True,\n",
       " True,\n",
       " True,\n",
       " True,\n",
       " False,\n",
       " False,\n",
       " True,\n",
       " True,\n",
       " True,\n",
       " True,\n",
       " True,\n",
       " False,\n",
       " True,\n",
       " False,\n",
       " False,\n",
       " False,\n",
       " False,\n",
       " True,\n",
       " False,\n",
       " True,\n",
       " True,\n",
       " True,\n",
       " False,\n",
       " False,\n",
       " False,\n",
       " True,\n",
       " True,\n",
       " False,\n",
       " False,\n",
       " True,\n",
       " False,\n",
       " True,\n",
       " True,\n",
       " False,\n",
       " True,\n",
       " False,\n",
       " False,\n",
       " True,\n",
       " True,\n",
       " True,\n",
       " True,\n",
       " True,\n",
       " True,\n",
       " True,\n",
       " True,\n",
       " False,\n",
       " True,\n",
       " True,\n",
       " True,\n",
       " True,\n",
       " True,\n",
       " False,\n",
       " False,\n",
       " True,\n",
       " True,\n",
       " True,\n",
       " True,\n",
       " True,\n",
       " True,\n",
       " False,\n",
       " True,\n",
       " False,\n",
       " False,\n",
       " False,\n",
       " True,\n",
       " True,\n",
       " True,\n",
       " True,\n",
       " True,\n",
       " True,\n",
       " False,\n",
       " False,\n",
       " True,\n",
       " True,\n",
       " False,\n",
       " True,\n",
       " False,\n",
       " True,\n",
       " True,\n",
       " True,\n",
       " True,\n",
       " True,\n",
       " False,\n",
       " True,\n",
       " True,\n",
       " True,\n",
       " True,\n",
       " True,\n",
       " ...]"
      ]
     },
     "execution_count": 92,
     "metadata": {},
     "output_type": "execute_result"
    }
   ],
   "source": [
    "#Fetching the nan values\n",
    "#if the value is null then false else true\n",
    "# ~ mean not equal to\n",
    "levy_index=list(~df['Levy'].isnull())\n",
    "levy_index"
   ]
  },
  {
   "cell_type": "code",
   "execution_count": 93,
   "id": "b8e44975",
   "metadata": {},
   "outputs": [
    {
     "data": {
      "text/plain": [
       "781.0"
      ]
     },
     "execution_count": 93,
     "metadata": {},
     "output_type": "execute_result"
    }
   ],
   "source": [
    "#median is calculated form the record which having true values (i.e. non-null values)\n",
    "med=np.median(df['Levy'].loc[levy_index])\n",
    "med"
   ]
  },
  {
   "cell_type": "code",
   "execution_count": 94,
   "id": "2d4f8469",
   "metadata": {},
   "outputs": [],
   "source": [
    "#fill na\n",
    "df['Levy']=df['Levy'].fillna(med)"
   ]
  },
  {
   "cell_type": "code",
   "execution_count": 95,
   "id": "5ec4ced0",
   "metadata": {},
   "outputs": [
    {
     "data": {
      "text/plain": [
       "0"
      ]
     },
     "execution_count": 95,
     "metadata": {},
     "output_type": "execute_result"
    }
   ],
   "source": [
    "df['Levy'].isnull().sum()"
   ]
  },
  {
   "cell_type": "code",
   "execution_count": 104,
   "id": "922780a5",
   "metadata": {},
   "outputs": [],
   "source": [
    "df['Mileage']=[np.nan if value==0 else value for value in df['Mileage']]"
   ]
  },
  {
   "cell_type": "code",
   "execution_count": 105,
   "id": "a2df317f",
   "metadata": {},
   "outputs": [
    {
     "data": {
      "text/plain": [
       "718"
      ]
     },
     "execution_count": 105,
     "metadata": {},
     "output_type": "execute_result"
    }
   ],
   "source": [
    "df['Mileage'].isnull().sum()"
   ]
  },
  {
   "cell_type": "code",
   "execution_count": 106,
   "id": "1bb4fe27",
   "metadata": {},
   "outputs": [],
   "source": [
    "df['Mileage']=df['Mileage'].fillna(df['Mileage'].mean())"
   ]
  },
  {
   "cell_type": "code",
   "execution_count": 108,
   "id": "ec62a8ff",
   "metadata": {},
   "outputs": [
    {
     "data": {
      "text/plain": [
       "ID                  0\n",
       "Price               0\n",
       "Levy                0\n",
       "Manufacturer        0\n",
       "Model               0\n",
       "Prod. year          0\n",
       "Category            0\n",
       "Leather interior    0\n",
       "Fuel type           0\n",
       "Engine volume       0\n",
       "Mileage             0\n",
       "Cylinders           0\n",
       "Gear box type       0\n",
       "Drive wheels        0\n",
       "Doors               0\n",
       "Wheel               0\n",
       "Color               0\n",
       "Airbags             0\n",
       "dtype: int64"
      ]
     },
     "execution_count": 108,
     "metadata": {},
     "output_type": "execute_result"
    }
   ],
   "source": [
    "df.isnull().sum()"
   ]
  },
  {
   "cell_type": "markdown",
   "id": "db84e706",
   "metadata": {},
   "source": [
    "## 5. Feature Engineering -"
   ]
  },
  {
   "cell_type": "markdown",
   "id": "2d8645c6",
   "metadata": {},
   "source": [
    "Feature engineering is the most important part in data preprocessing. Creating new features for the better understanding of the data.\n",
    "1. Category Feaure based on mean price\n",
    "2. Fuel Type\n",
    "3. Gearbox Type\n",
    "4. No. of Doors\n",
    "5. Production Years to Age of the car"
   ]
  },
  {
   "cell_type": "markdown",
   "id": "9bdfa71e",
   "metadata": {},
   "source": [
    "### 5.1. Category - "
   ]
  },
  {
   "cell_type": "code",
   "execution_count": 109,
   "id": "b904b9be",
   "metadata": {},
   "outputs": [
    {
     "data": {
      "text/html": [
       "<div>\n",
       "<style scoped>\n",
       "    .dataframe tbody tr th:only-of-type {\n",
       "        vertical-align: middle;\n",
       "    }\n",
       "\n",
       "    .dataframe tbody tr th {\n",
       "        vertical-align: top;\n",
       "    }\n",
       "\n",
       "    .dataframe thead th {\n",
       "        text-align: right;\n",
       "    }\n",
       "</style>\n",
       "<table border=\"1\" class=\"dataframe\">\n",
       "  <thead>\n",
       "    <tr style=\"text-align: right;\">\n",
       "      <th></th>\n",
       "      <th>Category</th>\n",
       "      <th>Price</th>\n",
       "    </tr>\n",
       "  </thead>\n",
       "  <tbody>\n",
       "    <tr>\n",
       "      <th>0</th>\n",
       "      <td>Cabriolet</td>\n",
       "      <td>24583.694444</td>\n",
       "    </tr>\n",
       "    <tr>\n",
       "      <th>1</th>\n",
       "      <td>Coupe</td>\n",
       "      <td>21250.406015</td>\n",
       "    </tr>\n",
       "    <tr>\n",
       "      <th>2</th>\n",
       "      <td>Goods wagon</td>\n",
       "      <td>122916.180258</td>\n",
       "    </tr>\n",
       "    <tr>\n",
       "      <th>3</th>\n",
       "      <td>Hatchback</td>\n",
       "      <td>11381.245873</td>\n",
       "    </tr>\n",
       "    <tr>\n",
       "      <th>4</th>\n",
       "      <td>Jeep</td>\n",
       "      <td>23684.285949</td>\n",
       "    </tr>\n",
       "    <tr>\n",
       "      <th>5</th>\n",
       "      <td>Limousine</td>\n",
       "      <td>11534.454545</td>\n",
       "    </tr>\n",
       "    <tr>\n",
       "      <th>6</th>\n",
       "      <td>Microbus</td>\n",
       "      <td>18550.928105</td>\n",
       "    </tr>\n",
       "    <tr>\n",
       "      <th>7</th>\n",
       "      <td>Minivan</td>\n",
       "      <td>20531.221020</td>\n",
       "    </tr>\n",
       "    <tr>\n",
       "      <th>8</th>\n",
       "      <td>Pickup</td>\n",
       "      <td>28805.269231</td>\n",
       "    </tr>\n",
       "    <tr>\n",
       "      <th>9</th>\n",
       "      <td>Sedan</td>\n",
       "      <td>14231.545902</td>\n",
       "    </tr>\n",
       "    <tr>\n",
       "      <th>10</th>\n",
       "      <td>Universal</td>\n",
       "      <td>25253.700549</td>\n",
       "    </tr>\n",
       "  </tbody>\n",
       "</table>\n",
       "</div>"
      ],
      "text/plain": [
       "       Category          Price\n",
       "0     Cabriolet   24583.694444\n",
       "1         Coupe   21250.406015\n",
       "2   Goods wagon  122916.180258\n",
       "3     Hatchback   11381.245873\n",
       "4          Jeep   23684.285949\n",
       "5     Limousine   11534.454545\n",
       "6      Microbus   18550.928105\n",
       "7       Minivan   20531.221020\n",
       "8        Pickup   28805.269231\n",
       "9         Sedan   14231.545902\n",
       "10    Universal   25253.700549"
      ]
     },
     "execution_count": 109,
     "metadata": {},
     "output_type": "execute_result"
    }
   ],
   "source": [
    "mean_category"
   ]
  },
  {
   "cell_type": "code",
   "execution_count": 110,
   "id": "5917af93",
   "metadata": {},
   "outputs": [
    {
     "name": "stdout",
     "output_type": "stream",
     "text": [
      "['Hatchback', 'Limousine', 'Microbus', 'Sedan']\n",
      "['Cabriolet', 'Coupe', 'Goods wagon', 'Jeep', 'Minivan', 'Pickup', 'Universal']\n"
     ]
    }
   ],
   "source": [
    "#Differentiated in class based on the mean price of the Category\n",
    "class1=[]\n",
    "class2=[]\n",
    "for i in range(len(mean_category)):\n",
    "    if mean_category.loc[i,'Price']<20000:\n",
    "        class1.append(mean_category.loc[i,'Category'])\n",
    "    else:\n",
    "        class2.append(mean_category.loc[i,'Category'])\n",
    "print(class1)\n",
    "print(class2)"
   ]
  },
  {
   "cell_type": "code",
   "execution_count": 111,
   "id": "74175551",
   "metadata": {},
   "outputs": [],
   "source": [
    "category_data=df['Category']\n",
    "new_category_data=[]\n",
    "\n",
    "for value in category_data:\n",
    "    if value in class1:\n",
    "        new_category_data.append(1)\n",
    "    else:\n",
    "        new_category_data.append(2)\n",
    "\n",
    "df['Category']=new_category_data"
   ]
  },
  {
   "cell_type": "markdown",
   "id": "9b29c3a2",
   "metadata": {},
   "source": [
    "### 5.2 Fuel Type- "
   ]
  },
  {
   "cell_type": "code",
   "execution_count": 112,
   "id": "03347e97",
   "metadata": {},
   "outputs": [
    {
     "data": {
      "text/plain": [
       "['Hybrid', 'Petrol', 'Diesel', 'CNG', 'Plug-in Hybrid', 'LPG', 'Hydrogen']\n",
       "Categories (7, object): ['CNG', 'Diesel', 'Hybrid', 'Hydrogen', 'LPG', 'Petrol', 'Plug-in Hybrid']"
      ]
     },
     "execution_count": 112,
     "metadata": {},
     "output_type": "execute_result"
    }
   ],
   "source": [
    "df['Fuel type'].unique()"
   ]
  },
  {
   "cell_type": "code",
   "execution_count": 113,
   "id": "21df1a35",
   "metadata": {},
   "outputs": [
    {
     "data": {
      "text/plain": [
       "0         Other\n",
       "1        Petrol\n",
       "2        Petrol\n",
       "3         Other\n",
       "4        Petrol\n",
       "          ...  \n",
       "19028       CNG\n",
       "19029    Petrol\n",
       "19030    Diesel\n",
       "19031    Diesel\n",
       "19032     Other\n",
       "Name: Fuel type, Length: 19033, dtype: object"
      ]
     },
     "execution_count": 113,
     "metadata": {},
     "output_type": "execute_result"
    }
   ],
   "source": [
    "fuel_data=df['Fuel type']\n",
    "other=['Hybrid','Plug-in Hybrid','Hydrogen']\n",
    "fuel_new_data=[]\n",
    "\n",
    "for value in fuel_data:\n",
    "    if value in other:\n",
    "        fuel_new_data.append('Other')\n",
    "    else:\n",
    "        fuel_new_data.append(value)\n",
    "        \n",
    "df['Fuel type']=fuel_new_data\n",
    "df['Fuel type']    "
   ]
  },
  {
   "cell_type": "code",
   "execution_count": 114,
   "id": "f40fcd36",
   "metadata": {},
   "outputs": [
    {
     "data": {
      "text/plain": [
       "array(['Other', 'Petrol', 'Diesel', 'CNG', 'LPG'], dtype=object)"
      ]
     },
     "execution_count": 114,
     "metadata": {},
     "output_type": "execute_result"
    }
   ],
   "source": [
    "df['Fuel type'].unique()"
   ]
  },
  {
   "cell_type": "code",
   "execution_count": 115,
   "id": "a727c819",
   "metadata": {},
   "outputs": [
    {
     "data": {
      "text/html": [
       "<div>\n",
       "<style scoped>\n",
       "    .dataframe tbody tr th:only-of-type {\n",
       "        vertical-align: middle;\n",
       "    }\n",
       "\n",
       "    .dataframe tbody tr th {\n",
       "        vertical-align: top;\n",
       "    }\n",
       "\n",
       "    .dataframe thead th {\n",
       "        text-align: right;\n",
       "    }\n",
       "</style>\n",
       "<table border=\"1\" class=\"dataframe\">\n",
       "  <thead>\n",
       "    <tr style=\"text-align: right;\">\n",
       "      <th></th>\n",
       "      <th>ID</th>\n",
       "      <th>Price</th>\n",
       "      <th>Levy</th>\n",
       "      <th>Manufacturer</th>\n",
       "      <th>Model</th>\n",
       "      <th>Prod. year</th>\n",
       "      <th>Category</th>\n",
       "      <th>Leather interior</th>\n",
       "      <th>Fuel type</th>\n",
       "      <th>Engine volume</th>\n",
       "      <th>Mileage</th>\n",
       "      <th>Cylinders</th>\n",
       "      <th>Gear box type</th>\n",
       "      <th>Drive wheels</th>\n",
       "      <th>Doors</th>\n",
       "      <th>Wheel</th>\n",
       "      <th>Color</th>\n",
       "      <th>Airbags</th>\n",
       "    </tr>\n",
       "  </thead>\n",
       "  <tbody>\n",
       "    <tr>\n",
       "      <th>0</th>\n",
       "      <td>45654403</td>\n",
       "      <td>13328</td>\n",
       "      <td>1399.0</td>\n",
       "      <td>LEXUS</td>\n",
       "      <td>RX 450</td>\n",
       "      <td>2010</td>\n",
       "      <td>2</td>\n",
       "      <td>Yes</td>\n",
       "      <td>Other</td>\n",
       "      <td>3.5</td>\n",
       "      <td>186005.0</td>\n",
       "      <td>6.0</td>\n",
       "      <td>Automatic</td>\n",
       "      <td>4x4</td>\n",
       "      <td>04-May</td>\n",
       "      <td>Left wheel</td>\n",
       "      <td>Silver</td>\n",
       "      <td>12</td>\n",
       "    </tr>\n",
       "    <tr>\n",
       "      <th>1</th>\n",
       "      <td>44731507</td>\n",
       "      <td>16621</td>\n",
       "      <td>1018.0</td>\n",
       "      <td>CHEVROLET</td>\n",
       "      <td>Equinox</td>\n",
       "      <td>2011</td>\n",
       "      <td>2</td>\n",
       "      <td>No</td>\n",
       "      <td>Petrol</td>\n",
       "      <td>3.0</td>\n",
       "      <td>192000.0</td>\n",
       "      <td>6.0</td>\n",
       "      <td>Tiptronic</td>\n",
       "      <td>4x4</td>\n",
       "      <td>04-May</td>\n",
       "      <td>Left wheel</td>\n",
       "      <td>Black</td>\n",
       "      <td>8</td>\n",
       "    </tr>\n",
       "    <tr>\n",
       "      <th>2</th>\n",
       "      <td>45774419</td>\n",
       "      <td>8467</td>\n",
       "      <td>781.0</td>\n",
       "      <td>HONDA</td>\n",
       "      <td>FIT</td>\n",
       "      <td>2006</td>\n",
       "      <td>1</td>\n",
       "      <td>No</td>\n",
       "      <td>Petrol</td>\n",
       "      <td>1.3</td>\n",
       "      <td>200000.0</td>\n",
       "      <td>4.0</td>\n",
       "      <td>Variator</td>\n",
       "      <td>Front</td>\n",
       "      <td>04-May</td>\n",
       "      <td>Right-hand drive</td>\n",
       "      <td>Black</td>\n",
       "      <td>2</td>\n",
       "    </tr>\n",
       "    <tr>\n",
       "      <th>3</th>\n",
       "      <td>45769185</td>\n",
       "      <td>3607</td>\n",
       "      <td>862.0</td>\n",
       "      <td>FORD</td>\n",
       "      <td>Escape</td>\n",
       "      <td>2011</td>\n",
       "      <td>2</td>\n",
       "      <td>Yes</td>\n",
       "      <td>Other</td>\n",
       "      <td>2.5</td>\n",
       "      <td>168966.0</td>\n",
       "      <td>4.0</td>\n",
       "      <td>Automatic</td>\n",
       "      <td>4x4</td>\n",
       "      <td>04-May</td>\n",
       "      <td>Left wheel</td>\n",
       "      <td>White</td>\n",
       "      <td>0</td>\n",
       "    </tr>\n",
       "    <tr>\n",
       "      <th>4</th>\n",
       "      <td>45809263</td>\n",
       "      <td>11726</td>\n",
       "      <td>446.0</td>\n",
       "      <td>HONDA</td>\n",
       "      <td>FIT</td>\n",
       "      <td>2014</td>\n",
       "      <td>1</td>\n",
       "      <td>Yes</td>\n",
       "      <td>Petrol</td>\n",
       "      <td>1.3</td>\n",
       "      <td>91901.0</td>\n",
       "      <td>4.0</td>\n",
       "      <td>Automatic</td>\n",
       "      <td>Front</td>\n",
       "      <td>04-May</td>\n",
       "      <td>Left wheel</td>\n",
       "      <td>Silver</td>\n",
       "      <td>4</td>\n",
       "    </tr>\n",
       "  </tbody>\n",
       "</table>\n",
       "</div>"
      ],
      "text/plain": [
       "         ID  Price    Levy Manufacturer    Model  Prod. year  Category  \\\n",
       "0  45654403  13328  1399.0        LEXUS   RX 450        2010         2   \n",
       "1  44731507  16621  1018.0    CHEVROLET  Equinox        2011         2   \n",
       "2  45774419   8467   781.0        HONDA      FIT        2006         1   \n",
       "3  45769185   3607   862.0         FORD   Escape        2011         2   \n",
       "4  45809263  11726   446.0        HONDA      FIT        2014         1   \n",
       "\n",
       "  Leather interior Fuel type  Engine volume   Mileage  Cylinders  \\\n",
       "0              Yes     Other            3.5  186005.0        6.0   \n",
       "1               No    Petrol            3.0  192000.0        6.0   \n",
       "2               No    Petrol            1.3  200000.0        4.0   \n",
       "3              Yes     Other            2.5  168966.0        4.0   \n",
       "4              Yes    Petrol            1.3   91901.0        4.0   \n",
       "\n",
       "  Gear box type Drive wheels   Doors             Wheel   Color  Airbags  \n",
       "0     Automatic          4x4  04-May        Left wheel  Silver       12  \n",
       "1     Tiptronic          4x4  04-May        Left wheel   Black        8  \n",
       "2      Variator        Front  04-May  Right-hand drive   Black        2  \n",
       "3     Automatic          4x4  04-May        Left wheel   White        0  \n",
       "4     Automatic        Front  04-May        Left wheel  Silver        4  "
      ]
     },
     "execution_count": 115,
     "metadata": {},
     "output_type": "execute_result"
    }
   ],
   "source": [
    "df.head()"
   ]
  },
  {
   "cell_type": "markdown",
   "id": "cef82637",
   "metadata": {},
   "source": [
    "### 5.3 Gear box Type"
   ]
  },
  {
   "cell_type": "code",
   "execution_count": 116,
   "id": "9d429782",
   "metadata": {},
   "outputs": [
    {
     "data": {
      "text/plain": [
       "['Automatic', 'Tiptronic', 'Variator', 'Manual']\n",
       "Categories (4, object): ['Automatic', 'Manual', 'Tiptronic', 'Variator']"
      ]
     },
     "execution_count": 116,
     "metadata": {},
     "output_type": "execute_result"
    }
   ],
   "source": [
    "df['Gear box type'].unique()"
   ]
  },
  {
   "cell_type": "code",
   "execution_count": 117,
   "id": "e61af00a",
   "metadata": {},
   "outputs": [],
   "source": [
    "gear_box_data=df['Gear box type']\n",
    "new_gear_box_data=[]\n",
    "\n",
    "for value in gear_box_data:\n",
    "    if value in {'Tiptronic','Variator'}:\n",
    "        new_gear_box_data.append('Other')\n",
    "    else:\n",
    "        new_gear_box_data.append(value)\n",
    "    \n",
    "df['Gear box type']=new_gear_box_data"
   ]
  },
  {
   "cell_type": "code",
   "execution_count": 118,
   "id": "c8bf75c7",
   "metadata": {},
   "outputs": [
    {
     "data": {
      "text/plain": [
       "array(['Automatic', 'Other', 'Manual'], dtype=object)"
      ]
     },
     "execution_count": 118,
     "metadata": {},
     "output_type": "execute_result"
    }
   ],
   "source": [
    "df['Gear box type'].unique()"
   ]
  },
  {
   "cell_type": "markdown",
   "id": "8405c371",
   "metadata": {},
   "source": [
    "### 5.4 Doors -"
   ]
  },
  {
   "cell_type": "code",
   "execution_count": 119,
   "id": "c8b01e82",
   "metadata": {},
   "outputs": [
    {
     "data": {
      "text/plain": [
       "array(['04-May', '02-Mar', '>5'], dtype=object)"
      ]
     },
     "execution_count": 119,
     "metadata": {},
     "output_type": "execute_result"
    }
   ],
   "source": [
    "df['Doors'].unique()"
   ]
  },
  {
   "cell_type": "code",
   "execution_count": 120,
   "id": "61edda36",
   "metadata": {},
   "outputs": [
    {
     "data": {
      "text/plain": [
       "{'2-3', '4-5', '>5'}"
      ]
     },
     "execution_count": 120,
     "metadata": {},
     "output_type": "execute_result"
    }
   ],
   "source": [
    "door_data=df['Doors']\n",
    "new_door_data=[]\n",
    "\n",
    "for value in door_data:\n",
    "    if value=='04-May':\n",
    "        new_door_data.append('4-5')\n",
    "    elif value=='02-Mar':\n",
    "        new_door_data.append('2-3')\n",
    "    else:\n",
    "        new_door_data.append(value)\n",
    "set(new_door_data)"
   ]
  },
  {
   "cell_type": "code",
   "execution_count": 121,
   "id": "c9332391",
   "metadata": {},
   "outputs": [],
   "source": [
    "df['Doors']=new_door_data"
   ]
  },
  {
   "cell_type": "code",
   "execution_count": 122,
   "id": "59eaa53c",
   "metadata": {},
   "outputs": [
    {
     "data": {
      "text/plain": [
       "array(['4-5', '2-3', '>5'], dtype=object)"
      ]
     },
     "execution_count": 122,
     "metadata": {},
     "output_type": "execute_result"
    }
   ],
   "source": [
    "df['Doors'].unique()"
   ]
  },
  {
   "cell_type": "code",
   "execution_count": 123,
   "id": "834dda94",
   "metadata": {},
   "outputs": [
    {
     "data": {
      "text/html": [
       "<div>\n",
       "<style scoped>\n",
       "    .dataframe tbody tr th:only-of-type {\n",
       "        vertical-align: middle;\n",
       "    }\n",
       "\n",
       "    .dataframe tbody tr th {\n",
       "        vertical-align: top;\n",
       "    }\n",
       "\n",
       "    .dataframe thead th {\n",
       "        text-align: right;\n",
       "    }\n",
       "</style>\n",
       "<table border=\"1\" class=\"dataframe\">\n",
       "  <thead>\n",
       "    <tr style=\"text-align: right;\">\n",
       "      <th></th>\n",
       "      <th>ID</th>\n",
       "      <th>Price</th>\n",
       "      <th>Levy</th>\n",
       "      <th>Manufacturer</th>\n",
       "      <th>Model</th>\n",
       "      <th>Prod. year</th>\n",
       "      <th>Category</th>\n",
       "      <th>Leather interior</th>\n",
       "      <th>Fuel type</th>\n",
       "      <th>Engine volume</th>\n",
       "      <th>Mileage</th>\n",
       "      <th>Cylinders</th>\n",
       "      <th>Gear box type</th>\n",
       "      <th>Drive wheels</th>\n",
       "      <th>Doors</th>\n",
       "      <th>Wheel</th>\n",
       "      <th>Color</th>\n",
       "      <th>Airbags</th>\n",
       "    </tr>\n",
       "  </thead>\n",
       "  <tbody>\n",
       "    <tr>\n",
       "      <th>0</th>\n",
       "      <td>45654403</td>\n",
       "      <td>13328</td>\n",
       "      <td>1399.0</td>\n",
       "      <td>LEXUS</td>\n",
       "      <td>RX 450</td>\n",
       "      <td>2010</td>\n",
       "      <td>2</td>\n",
       "      <td>Yes</td>\n",
       "      <td>Other</td>\n",
       "      <td>3.5</td>\n",
       "      <td>186005.0</td>\n",
       "      <td>6.0</td>\n",
       "      <td>Automatic</td>\n",
       "      <td>4x4</td>\n",
       "      <td>4-5</td>\n",
       "      <td>Left wheel</td>\n",
       "      <td>Silver</td>\n",
       "      <td>12</td>\n",
       "    </tr>\n",
       "    <tr>\n",
       "      <th>1</th>\n",
       "      <td>44731507</td>\n",
       "      <td>16621</td>\n",
       "      <td>1018.0</td>\n",
       "      <td>CHEVROLET</td>\n",
       "      <td>Equinox</td>\n",
       "      <td>2011</td>\n",
       "      <td>2</td>\n",
       "      <td>No</td>\n",
       "      <td>Petrol</td>\n",
       "      <td>3.0</td>\n",
       "      <td>192000.0</td>\n",
       "      <td>6.0</td>\n",
       "      <td>Other</td>\n",
       "      <td>4x4</td>\n",
       "      <td>4-5</td>\n",
       "      <td>Left wheel</td>\n",
       "      <td>Black</td>\n",
       "      <td>8</td>\n",
       "    </tr>\n",
       "    <tr>\n",
       "      <th>2</th>\n",
       "      <td>45774419</td>\n",
       "      <td>8467</td>\n",
       "      <td>781.0</td>\n",
       "      <td>HONDA</td>\n",
       "      <td>FIT</td>\n",
       "      <td>2006</td>\n",
       "      <td>1</td>\n",
       "      <td>No</td>\n",
       "      <td>Petrol</td>\n",
       "      <td>1.3</td>\n",
       "      <td>200000.0</td>\n",
       "      <td>4.0</td>\n",
       "      <td>Other</td>\n",
       "      <td>Front</td>\n",
       "      <td>4-5</td>\n",
       "      <td>Right-hand drive</td>\n",
       "      <td>Black</td>\n",
       "      <td>2</td>\n",
       "    </tr>\n",
       "    <tr>\n",
       "      <th>3</th>\n",
       "      <td>45769185</td>\n",
       "      <td>3607</td>\n",
       "      <td>862.0</td>\n",
       "      <td>FORD</td>\n",
       "      <td>Escape</td>\n",
       "      <td>2011</td>\n",
       "      <td>2</td>\n",
       "      <td>Yes</td>\n",
       "      <td>Other</td>\n",
       "      <td>2.5</td>\n",
       "      <td>168966.0</td>\n",
       "      <td>4.0</td>\n",
       "      <td>Automatic</td>\n",
       "      <td>4x4</td>\n",
       "      <td>4-5</td>\n",
       "      <td>Left wheel</td>\n",
       "      <td>White</td>\n",
       "      <td>0</td>\n",
       "    </tr>\n",
       "    <tr>\n",
       "      <th>4</th>\n",
       "      <td>45809263</td>\n",
       "      <td>11726</td>\n",
       "      <td>446.0</td>\n",
       "      <td>HONDA</td>\n",
       "      <td>FIT</td>\n",
       "      <td>2014</td>\n",
       "      <td>1</td>\n",
       "      <td>Yes</td>\n",
       "      <td>Petrol</td>\n",
       "      <td>1.3</td>\n",
       "      <td>91901.0</td>\n",
       "      <td>4.0</td>\n",
       "      <td>Automatic</td>\n",
       "      <td>Front</td>\n",
       "      <td>4-5</td>\n",
       "      <td>Left wheel</td>\n",
       "      <td>Silver</td>\n",
       "      <td>4</td>\n",
       "    </tr>\n",
       "  </tbody>\n",
       "</table>\n",
       "</div>"
      ],
      "text/plain": [
       "         ID  Price    Levy Manufacturer    Model  Prod. year  Category  \\\n",
       "0  45654403  13328  1399.0        LEXUS   RX 450        2010         2   \n",
       "1  44731507  16621  1018.0    CHEVROLET  Equinox        2011         2   \n",
       "2  45774419   8467   781.0        HONDA      FIT        2006         1   \n",
       "3  45769185   3607   862.0         FORD   Escape        2011         2   \n",
       "4  45809263  11726   446.0        HONDA      FIT        2014         1   \n",
       "\n",
       "  Leather interior Fuel type  Engine volume   Mileage  Cylinders  \\\n",
       "0              Yes     Other            3.5  186005.0        6.0   \n",
       "1               No    Petrol            3.0  192000.0        6.0   \n",
       "2               No    Petrol            1.3  200000.0        4.0   \n",
       "3              Yes     Other            2.5  168966.0        4.0   \n",
       "4              Yes    Petrol            1.3   91901.0        4.0   \n",
       "\n",
       "  Gear box type Drive wheels Doors             Wheel   Color  Airbags  \n",
       "0     Automatic          4x4   4-5        Left wheel  Silver       12  \n",
       "1         Other          4x4   4-5        Left wheel   Black        8  \n",
       "2         Other        Front   4-5  Right-hand drive   Black        2  \n",
       "3     Automatic          4x4   4-5        Left wheel   White        0  \n",
       "4     Automatic        Front   4-5        Left wheel  Silver        4  "
      ]
     },
     "execution_count": 123,
     "metadata": {},
     "output_type": "execute_result"
    }
   ],
   "source": [
    "df.head()"
   ]
  },
  {
   "cell_type": "markdown",
   "id": "6adb2f78",
   "metadata": {},
   "source": [
    "### 5.5 Production Year - Age"
   ]
  },
  {
   "cell_type": "code",
   "execution_count": 124,
   "id": "d374cc3d",
   "metadata": {},
   "outputs": [
    {
     "data": {
      "text/plain": [
       "array([2010, 2011, 2006, 2014, 2016, 2013, 2007, 1999, 1997, 2018, 2008,\n",
       "       2012, 2017, 2001, 1995, 2009, 2000, 2019, 2015, 2004, 1998, 1990,\n",
       "       2005, 2003, 1985, 1996, 2002, 1993, 1992, 1988, 1977, 1989, 1994,\n",
       "       2020, 1984, 1986, 1991, 1983, 1953, 1964, 1974, 1987, 1943, 1978,\n",
       "       1976, 1957, 1980, 1939, 1968, 1947, 1982, 1981, 1973], dtype=int64)"
      ]
     },
     "execution_count": 124,
     "metadata": {},
     "output_type": "execute_result"
    }
   ],
   "source": [
    "df['Prod. year'].unique()"
   ]
  },
  {
   "cell_type": "code",
   "execution_count": 125,
   "id": "372b06ec",
   "metadata": {},
   "outputs": [],
   "source": [
    "prod_data=df['Prod. year']\n",
    "Age=[]\n",
    "\n",
    "for value in prod_data:\n",
    "    Age.append(2022-value)\n",
    "\n",
    "df[\"Age\"]=Age"
   ]
  },
  {
   "cell_type": "code",
   "execution_count": 126,
   "id": "95188960",
   "metadata": {},
   "outputs": [
    {
     "data": {
      "text/plain": [
       "array([12, 11, 16,  8,  6,  9, 15, 23, 25,  4, 14, 10,  5, 21, 27, 13, 22,\n",
       "        3,  7, 18, 24, 32, 17, 19, 37, 26, 20, 29, 30, 34, 45, 33, 28,  2,\n",
       "       38, 36, 31, 39, 69, 58, 48, 35, 79, 44, 46, 65, 42, 83, 54, 75, 40,\n",
       "       41, 49], dtype=int64)"
      ]
     },
     "execution_count": 126,
     "metadata": {},
     "output_type": "execute_result"
    }
   ],
   "source": [
    "df[\"Age\"].unique()"
   ]
  },
  {
   "cell_type": "code",
   "execution_count": 127,
   "id": "db666c3f",
   "metadata": {},
   "outputs": [
    {
     "data": {
      "text/html": [
       "<div>\n",
       "<style scoped>\n",
       "    .dataframe tbody tr th:only-of-type {\n",
       "        vertical-align: middle;\n",
       "    }\n",
       "\n",
       "    .dataframe tbody tr th {\n",
       "        vertical-align: top;\n",
       "    }\n",
       "\n",
       "    .dataframe thead th {\n",
       "        text-align: right;\n",
       "    }\n",
       "</style>\n",
       "<table border=\"1\" class=\"dataframe\">\n",
       "  <thead>\n",
       "    <tr style=\"text-align: right;\">\n",
       "      <th></th>\n",
       "      <th>ID</th>\n",
       "      <th>Price</th>\n",
       "      <th>Levy</th>\n",
       "      <th>Manufacturer</th>\n",
       "      <th>Model</th>\n",
       "      <th>Prod. year</th>\n",
       "      <th>Category</th>\n",
       "      <th>Leather interior</th>\n",
       "      <th>Fuel type</th>\n",
       "      <th>Engine volume</th>\n",
       "      <th>Mileage</th>\n",
       "      <th>Cylinders</th>\n",
       "      <th>Gear box type</th>\n",
       "      <th>Drive wheels</th>\n",
       "      <th>Doors</th>\n",
       "      <th>Wheel</th>\n",
       "      <th>Color</th>\n",
       "      <th>Airbags</th>\n",
       "      <th>Age</th>\n",
       "    </tr>\n",
       "  </thead>\n",
       "  <tbody>\n",
       "    <tr>\n",
       "      <th>0</th>\n",
       "      <td>45654403</td>\n",
       "      <td>13328</td>\n",
       "      <td>1399.0</td>\n",
       "      <td>LEXUS</td>\n",
       "      <td>RX 450</td>\n",
       "      <td>2010</td>\n",
       "      <td>2</td>\n",
       "      <td>Yes</td>\n",
       "      <td>Other</td>\n",
       "      <td>3.5</td>\n",
       "      <td>186005.0</td>\n",
       "      <td>6.0</td>\n",
       "      <td>Automatic</td>\n",
       "      <td>4x4</td>\n",
       "      <td>4-5</td>\n",
       "      <td>Left wheel</td>\n",
       "      <td>Silver</td>\n",
       "      <td>12</td>\n",
       "      <td>12</td>\n",
       "    </tr>\n",
       "    <tr>\n",
       "      <th>1</th>\n",
       "      <td>44731507</td>\n",
       "      <td>16621</td>\n",
       "      <td>1018.0</td>\n",
       "      <td>CHEVROLET</td>\n",
       "      <td>Equinox</td>\n",
       "      <td>2011</td>\n",
       "      <td>2</td>\n",
       "      <td>No</td>\n",
       "      <td>Petrol</td>\n",
       "      <td>3.0</td>\n",
       "      <td>192000.0</td>\n",
       "      <td>6.0</td>\n",
       "      <td>Other</td>\n",
       "      <td>4x4</td>\n",
       "      <td>4-5</td>\n",
       "      <td>Left wheel</td>\n",
       "      <td>Black</td>\n",
       "      <td>8</td>\n",
       "      <td>11</td>\n",
       "    </tr>\n",
       "    <tr>\n",
       "      <th>2</th>\n",
       "      <td>45774419</td>\n",
       "      <td>8467</td>\n",
       "      <td>781.0</td>\n",
       "      <td>HONDA</td>\n",
       "      <td>FIT</td>\n",
       "      <td>2006</td>\n",
       "      <td>1</td>\n",
       "      <td>No</td>\n",
       "      <td>Petrol</td>\n",
       "      <td>1.3</td>\n",
       "      <td>200000.0</td>\n",
       "      <td>4.0</td>\n",
       "      <td>Other</td>\n",
       "      <td>Front</td>\n",
       "      <td>4-5</td>\n",
       "      <td>Right-hand drive</td>\n",
       "      <td>Black</td>\n",
       "      <td>2</td>\n",
       "      <td>16</td>\n",
       "    </tr>\n",
       "    <tr>\n",
       "      <th>3</th>\n",
       "      <td>45769185</td>\n",
       "      <td>3607</td>\n",
       "      <td>862.0</td>\n",
       "      <td>FORD</td>\n",
       "      <td>Escape</td>\n",
       "      <td>2011</td>\n",
       "      <td>2</td>\n",
       "      <td>Yes</td>\n",
       "      <td>Other</td>\n",
       "      <td>2.5</td>\n",
       "      <td>168966.0</td>\n",
       "      <td>4.0</td>\n",
       "      <td>Automatic</td>\n",
       "      <td>4x4</td>\n",
       "      <td>4-5</td>\n",
       "      <td>Left wheel</td>\n",
       "      <td>White</td>\n",
       "      <td>0</td>\n",
       "      <td>11</td>\n",
       "    </tr>\n",
       "    <tr>\n",
       "      <th>4</th>\n",
       "      <td>45809263</td>\n",
       "      <td>11726</td>\n",
       "      <td>446.0</td>\n",
       "      <td>HONDA</td>\n",
       "      <td>FIT</td>\n",
       "      <td>2014</td>\n",
       "      <td>1</td>\n",
       "      <td>Yes</td>\n",
       "      <td>Petrol</td>\n",
       "      <td>1.3</td>\n",
       "      <td>91901.0</td>\n",
       "      <td>4.0</td>\n",
       "      <td>Automatic</td>\n",
       "      <td>Front</td>\n",
       "      <td>4-5</td>\n",
       "      <td>Left wheel</td>\n",
       "      <td>Silver</td>\n",
       "      <td>4</td>\n",
       "      <td>8</td>\n",
       "    </tr>\n",
       "  </tbody>\n",
       "</table>\n",
       "</div>"
      ],
      "text/plain": [
       "         ID  Price    Levy Manufacturer    Model  Prod. year  Category  \\\n",
       "0  45654403  13328  1399.0        LEXUS   RX 450        2010         2   \n",
       "1  44731507  16621  1018.0    CHEVROLET  Equinox        2011         2   \n",
       "2  45774419   8467   781.0        HONDA      FIT        2006         1   \n",
       "3  45769185   3607   862.0         FORD   Escape        2011         2   \n",
       "4  45809263  11726   446.0        HONDA      FIT        2014         1   \n",
       "\n",
       "  Leather interior Fuel type  Engine volume   Mileage  Cylinders  \\\n",
       "0              Yes     Other            3.5  186005.0        6.0   \n",
       "1               No    Petrol            3.0  192000.0        6.0   \n",
       "2               No    Petrol            1.3  200000.0        4.0   \n",
       "3              Yes     Other            2.5  168966.0        4.0   \n",
       "4              Yes    Petrol            1.3   91901.0        4.0   \n",
       "\n",
       "  Gear box type Drive wheels Doors             Wheel   Color  Airbags  Age  \n",
       "0     Automatic          4x4   4-5        Left wheel  Silver       12   12  \n",
       "1         Other          4x4   4-5        Left wheel   Black        8   11  \n",
       "2         Other        Front   4-5  Right-hand drive   Black        2   16  \n",
       "3     Automatic          4x4   4-5        Left wheel   White        0   11  \n",
       "4     Automatic        Front   4-5        Left wheel  Silver        4    8  "
      ]
     },
     "execution_count": 127,
     "metadata": {},
     "output_type": "execute_result"
    }
   ],
   "source": [
    "df.head()"
   ]
  },
  {
   "cell_type": "markdown",
   "id": "c8d5c1ec",
   "metadata": {},
   "source": [
    "## Data Transformation -"
   ]
  },
  {
   "cell_type": "markdown",
   "id": "317d9c43",
   "metadata": {},
   "source": [
    "### 1. Price"
   ]
  },
  {
   "cell_type": "code",
   "execution_count": 128,
   "id": "db45d217",
   "metadata": {},
   "outputs": [],
   "source": [
    "from scipy import stats"
   ]
  },
  {
   "cell_type": "code",
   "execution_count": 129,
   "id": "9c6364c8",
   "metadata": {},
   "outputs": [
    {
     "data": {
      "text/plain": [
       "<AxesSubplot:xlabel='Price', ylabel='Density'>"
      ]
     },
     "execution_count": 129,
     "metadata": {},
     "output_type": "execute_result"
    },
    {
     "data": {
      "image/png": "[encoded data removed]",
      "text/plain": [
       "<Figure size 432x288 with 1 Axes>"
      ]
     },
     "metadata": {
      "needs_background": "light"
     },
     "output_type": "display_data"
    }
   ],
   "source": [
    "sns.distplot(df['Price'])"
   ]
  },
  {
   "cell_type": "code",
   "execution_count": 130,
   "id": "35d7d302",
   "metadata": {},
   "outputs": [
    {
     "data": {
      "text/plain": [
       "<AxesSubplot:xlabel='Price', ylabel='Density'>"
      ]
     },
     "execution_count": 130,
     "metadata": {},
     "output_type": "execute_result"
    },
    {
     "data": {
      "image/png": "[encoded data removed]",
      "text/plain": [
       "<Figure size 432x288 with 1 Axes>"
      ]
     },
     "metadata": {
      "needs_background": "light"
     },
     "output_type": "display_data"
    }
   ],
   "source": [
    "df[\"Price\"]=np.log(df['Price'])\n",
    "\n",
    "sns.distplot(df['Price'])"
   ]
  },
  {
   "cell_type": "markdown",
   "id": "fdf4c825",
   "metadata": {},
   "source": [
    "### 2. Levy -"
   ]
  },
  {
   "cell_type": "code",
   "execution_count": 131,
   "id": "4cc98304",
   "metadata": {},
   "outputs": [
    {
     "data": {
      "text/plain": [
       "<AxesSubplot:xlabel='Levy', ylabel='Density'>"
      ]
     },
     "execution_count": 131,
     "metadata": {},
     "output_type": "execute_result"
    },
    {
     "data": {
      "image/png": "[encoded data removed]",
      "text/plain": [
       "<Figure size 432x288 with 1 Axes>"
      ]
     },
     "metadata": {
      "needs_background": "light"
     },
     "output_type": "display_data"
    }
   ],
   "source": [
    "sns.distplot(df['Levy'])"
   ]
  },
  {
   "cell_type": "code",
   "execution_count": 132,
   "id": "6f22ce6b",
   "metadata": {},
   "outputs": [
    {
     "data": {
      "text/plain": [
       "<AxesSubplot:xlabel='Levy', ylabel='Density'>"
      ]
     },
     "execution_count": 132,
     "metadata": {},
     "output_type": "execute_result"
    },
    {
     "data": {
      "image/png": "[encoded data removed]",
      "text/plain": [
       "<Figure size 432x288 with 1 Axes>"
      ]
     },
     "metadata": {
      "needs_background": "light"
     },
     "output_type": "display_data"
    }
   ],
   "source": [
    "df['Levy']=np.log(df['Levy'])\n",
    "\n",
    "sns.distplot(df['Levy'])"
   ]
  },
  {
   "cell_type": "code",
   "execution_count": 133,
   "id": "02e2a1f5",
   "metadata": {},
   "outputs": [
    {
     "data": {
      "text/plain": [
       "ID                  0\n",
       "Price               0\n",
       "Levy                0\n",
       "Manufacturer        0\n",
       "Model               0\n",
       "Prod. year          0\n",
       "Category            0\n",
       "Leather interior    0\n",
       "Fuel type           0\n",
       "Engine volume       0\n",
       "Mileage             0\n",
       "Cylinders           0\n",
       "Gear box type       0\n",
       "Drive wheels        0\n",
       "Doors               0\n",
       "Wheel               0\n",
       "Color               0\n",
       "Airbags             0\n",
       "Age                 0\n",
       "dtype: int64"
      ]
     },
     "execution_count": 133,
     "metadata": {},
     "output_type": "execute_result"
    }
   ],
   "source": [
    "df.isnull().sum()"
   ]
  },
  {
   "cell_type": "markdown",
   "id": "37e3e150",
   "metadata": {},
   "source": [
    "### 3. Mileage-"
   ]
  },
  {
   "cell_type": "code",
   "execution_count": 134,
   "id": "41daca36",
   "metadata": {},
   "outputs": [
    {
     "data": {
      "text/plain": [
       "<AxesSubplot:xlabel='Mileage', ylabel='Density'>"
      ]
     },
     "execution_count": 134,
     "metadata": {},
     "output_type": "execute_result"
    },
    {
     "data": {
      "image/png": "[encoded data removed]",
      "text/plain": [
       "<Figure size 432x288 with 1 Axes>"
      ]
     },
     "metadata": {
      "needs_background": "light"
     },
     "output_type": "display_data"
    }
   ],
   "source": [
    "sns.distplot(df['Mileage'])"
   ]
  },
  {
   "cell_type": "code",
   "execution_count": 135,
   "id": "f7f17e7d",
   "metadata": {},
   "outputs": [
    {
     "data": {
      "text/plain": [
       "<AxesSubplot:xlabel='Mileage', ylabel='Density'>"
      ]
     },
     "execution_count": 135,
     "metadata": {},
     "output_type": "execute_result"
    },
    {
     "data": {
      "image/png": "[encoded data removed]",
      "text/plain": [
       "<Figure size 432x288 with 1 Axes>"
      ]
     },
     "metadata": {
      "needs_background": "light"
     },
     "output_type": "display_data"
    }
   ],
   "source": [
    "df['Mileage']=np.log(df['Mileage'])\n",
    "\n",
    "sns.distplot(df['Mileage'])"
   ]
  },
  {
   "cell_type": "markdown",
   "id": "223178ad",
   "metadata": {},
   "source": [
    "### 4. Age"
   ]
  },
  {
   "cell_type": "code",
   "execution_count": 136,
   "id": "99b27e94",
   "metadata": {},
   "outputs": [
    {
     "data": {
      "text/plain": [
       "<AxesSubplot:xlabel='Age', ylabel='Density'>"
      ]
     },
     "execution_count": 136,
     "metadata": {},
     "output_type": "execute_result"
    },
    {
     "data": {
      "image/png": "[encoded data removed]",
      "text/plain": [
       "<Figure size 432x288 with 1 Axes>"
      ]
     },
     "metadata": {
      "needs_background": "light"
     },
     "output_type": "display_data"
    }
   ],
   "source": [
    "sns.distplot(df['Age'])"
   ]
  },
  {
   "cell_type": "code",
   "execution_count": 137,
   "id": "dd0377d6",
   "metadata": {},
   "outputs": [
    {
     "data": {
      "text/plain": [
       "<AxesSubplot:xlabel='Age', ylabel='Density'>"
      ]
     },
     "execution_count": 137,
     "metadata": {},
     "output_type": "execute_result"
    },
    {
     "data": {
      "image/png": "[encoded data removed]",
      "text/plain": [
       "<Figure size 432x288 with 1 Axes>"
      ]
     },
     "metadata": {
      "needs_background": "light"
     },
     "output_type": "display_data"
    }
   ],
   "source": [
    "log=np.log(df['Age'])\n",
    "df['Age']=log\n",
    "sns.distplot(log)"
   ]
  },
  {
   "cell_type": "markdown",
   "id": "d4f7a433",
   "metadata": {},
   "source": [
    "### 5. Engine Volume-"
   ]
  },
  {
   "cell_type": "code",
   "execution_count": 138,
   "id": "61a0b4b9",
   "metadata": {},
   "outputs": [],
   "source": [
    "engine_data=[1 if value ==0 else value for value in df['Engine volume']]"
   ]
  },
  {
   "cell_type": "code",
   "execution_count": 139,
   "id": "fac01e89",
   "metadata": {},
   "outputs": [],
   "source": [
    "df['Engine volume']=engine_data"
   ]
  },
  {
   "cell_type": "code",
   "execution_count": 140,
   "id": "891afb54",
   "metadata": {},
   "outputs": [
    {
     "data": {
      "text/plain": [
       "array([ 3.5,  3. ,  1.3,  2.5,  2. ,  1.8,  2.4,  4. ,  1.6,  3.3,  2.2,\n",
       "        4.7,  1.5,  4.4,  1.4,  3.6,  2.3,  2.8,  3.2,  3.8,  4.6,  1.2,\n",
       "        5. ,  1.7,  2.9,  0.5,  1.9,  2.7,  5.5,  5.3,  0.4,  1.1,  2.1,\n",
       "        0.7,  4.8,  3.7,  1. ,  2.6,  0.8,  0.2,  5.7,  6.2,  3.4,  4.3,\n",
       "        4.2, 20. ,  0.3,  5.9,  5.4,  5.6,  0.6,  4.5,  7.3,  0.1,  6.3,\n",
       "        3.1,  6.4,  3.9,  6. ,  0.9,  5.2,  5.8])"
      ]
     },
     "execution_count": 140,
     "metadata": {},
     "output_type": "execute_result"
    }
   ],
   "source": [
    "df['Engine volume'].unique()"
   ]
  },
  {
   "cell_type": "code",
   "execution_count": 141,
   "id": "a27a56ac",
   "metadata": {},
   "outputs": [
    {
     "data": {
      "text/plain": [
       "<AxesSubplot:xlabel='Engine volume', ylabel='Density'>"
      ]
     },
     "execution_count": 141,
     "metadata": {},
     "output_type": "execute_result"
    },
    {
     "data": {
      "image/png": "[encoded data removed]",
      "text/plain": [
       "<Figure size 432x288 with 1 Axes>"
      ]
     },
     "metadata": {
      "needs_background": "light"
     },
     "output_type": "display_data"
    }
   ],
   "source": [
    "sns.distplot(df['Engine volume'])"
   ]
  },
  {
   "cell_type": "code",
   "execution_count": 142,
   "id": "8b5269d1",
   "metadata": {},
   "outputs": [],
   "source": [
    "df['Engine volume']=np.log(df['Engine volume'])"
   ]
  },
  {
   "cell_type": "code",
   "execution_count": 143,
   "id": "c75da296",
   "metadata": {},
   "outputs": [
    {
     "data": {
      "text/plain": [
       "<AxesSubplot:xlabel='Engine volume', ylabel='Density'>"
      ]
     },
     "execution_count": 143,
     "metadata": {},
     "output_type": "execute_result"
    },
    {
     "data": {
      "image/png": "[encoded data removed]",
      "text/plain": [
       "<Figure size 432x288 with 1 Axes>"
      ]
     },
     "metadata": {
      "needs_background": "light"
     },
     "output_type": "display_data"
    }
   ],
   "source": [
    "sns.distplot(df['Engine volume'])"
   ]
  },
  {
   "cell_type": "markdown",
   "id": "acb2de97",
   "metadata": {},
   "source": [
    "## 7.Normalization - "
   ]
  },
  {
   "cell_type": "code",
   "execution_count": 144,
   "id": "033fc26c",
   "metadata": {},
   "outputs": [],
   "source": [
    "#Min-Max Scaler \n",
    "from sklearn.preprocessing import MinMaxScaler\n",
    "scaler=MinMaxScaler()"
   ]
  },
  {
   "cell_type": "code",
   "execution_count": 145,
   "id": "a9e0780a",
   "metadata": {},
   "outputs": [],
   "source": [
    "list=['Levy', 'Engine volume', 'Mileage', 'Cylinders', 'Airbags', 'Age']"
   ]
  },
  {
   "cell_type": "code",
   "execution_count": 146,
   "id": "f591f0f4",
   "metadata": {},
   "outputs": [],
   "source": [
    "for value in list:\n",
    "    df[value]=scaler.fit_transform(df[value][:,np.newaxis])   #[:,np.newaxis]= to creat a new dimesion"
   ]
  },
  {
   "cell_type": "code",
   "execution_count": 147,
   "id": "604bb0bf",
   "metadata": {},
   "outputs": [
    {
     "data": {
      "text/html": [
       "<div>\n",
       "<style scoped>\n",
       "    .dataframe tbody tr th:only-of-type {\n",
       "        vertical-align: middle;\n",
       "    }\n",
       "\n",
       "    .dataframe tbody tr th {\n",
       "        vertical-align: top;\n",
       "    }\n",
       "\n",
       "    .dataframe thead th {\n",
       "        text-align: right;\n",
       "    }\n",
       "</style>\n",
       "<table border=\"1\" class=\"dataframe\">\n",
       "  <thead>\n",
       "    <tr style=\"text-align: right;\">\n",
       "      <th></th>\n",
       "      <th>ID</th>\n",
       "      <th>Price</th>\n",
       "      <th>Levy</th>\n",
       "      <th>Manufacturer</th>\n",
       "      <th>Model</th>\n",
       "      <th>Prod. year</th>\n",
       "      <th>Category</th>\n",
       "      <th>Leather interior</th>\n",
       "      <th>Fuel type</th>\n",
       "      <th>Engine volume</th>\n",
       "      <th>Mileage</th>\n",
       "      <th>Cylinders</th>\n",
       "      <th>Gear box type</th>\n",
       "      <th>Drive wheels</th>\n",
       "      <th>Doors</th>\n",
       "      <th>Wheel</th>\n",
       "      <th>Color</th>\n",
       "      <th>Airbags</th>\n",
       "      <th>Age</th>\n",
       "    </tr>\n",
       "  </thead>\n",
       "  <tbody>\n",
       "    <tr>\n",
       "      <th>0</th>\n",
       "      <td>45654403</td>\n",
       "      <td>9.497622</td>\n",
       "      <td>0.566554</td>\n",
       "      <td>LEXUS</td>\n",
       "      <td>RX 450</td>\n",
       "      <td>2010</td>\n",
       "      <td>2</td>\n",
       "      <td>Yes</td>\n",
       "      <td>Other</td>\n",
       "      <td>0.671033</td>\n",
       "      <td>0.505669</td>\n",
       "      <td>0.333333</td>\n",
       "      <td>Automatic</td>\n",
       "      <td>4x4</td>\n",
       "      <td>4-5</td>\n",
       "      <td>Left wheel</td>\n",
       "      <td>Silver</td>\n",
       "      <td>0.750</td>\n",
       "      <td>0.480920</td>\n",
       "    </tr>\n",
       "    <tr>\n",
       "      <th>1</th>\n",
       "      <td>44731507</td>\n",
       "      <td>9.718422</td>\n",
       "      <td>0.501707</td>\n",
       "      <td>CHEVROLET</td>\n",
       "      <td>Equinox</td>\n",
       "      <td>2011</td>\n",
       "      <td>2</td>\n",
       "      <td>No</td>\n",
       "      <td>Petrol</td>\n",
       "      <td>0.641939</td>\n",
       "      <td>0.507345</td>\n",
       "      <td>0.333333</td>\n",
       "      <td>Other</td>\n",
       "      <td>4x4</td>\n",
       "      <td>4-5</td>\n",
       "      <td>Left wheel</td>\n",
       "      <td>Black</td>\n",
       "      <td>0.500</td>\n",
       "      <td>0.457565</td>\n",
       "    </tr>\n",
       "    <tr>\n",
       "      <th>2</th>\n",
       "      <td>45774419</td>\n",
       "      <td>9.043932</td>\n",
       "      <td>0.447651</td>\n",
       "      <td>HONDA</td>\n",
       "      <td>FIT</td>\n",
       "      <td>2006</td>\n",
       "      <td>1</td>\n",
       "      <td>No</td>\n",
       "      <td>Petrol</td>\n",
       "      <td>0.484106</td>\n",
       "      <td>0.509503</td>\n",
       "      <td>0.200000</td>\n",
       "      <td>Other</td>\n",
       "      <td>Front</td>\n",
       "      <td>4-5</td>\n",
       "      <td>Right-hand drive</td>\n",
       "      <td>Black</td>\n",
       "      <td>0.125</td>\n",
       "      <td>0.558135</td>\n",
       "    </tr>\n",
       "    <tr>\n",
       "      <th>3</th>\n",
       "      <td>45769185</td>\n",
       "      <td>8.190632</td>\n",
       "      <td>0.467779</td>\n",
       "      <td>FORD</td>\n",
       "      <td>Escape</td>\n",
       "      <td>2011</td>\n",
       "      <td>2</td>\n",
       "      <td>Yes</td>\n",
       "      <td>Other</td>\n",
       "      <td>0.607528</td>\n",
       "      <td>0.500592</td>\n",
       "      <td>0.200000</td>\n",
       "      <td>Automatic</td>\n",
       "      <td>4x4</td>\n",
       "      <td>4-5</td>\n",
       "      <td>Left wheel</td>\n",
       "      <td>White</td>\n",
       "      <td>0.000</td>\n",
       "      <td>0.457565</td>\n",
       "    </tr>\n",
       "    <tr>\n",
       "      <th>4</th>\n",
       "      <td>45809263</td>\n",
       "      <td>9.369564</td>\n",
       "      <td>0.333374</td>\n",
       "      <td>HONDA</td>\n",
       "      <td>FIT</td>\n",
       "      <td>2014</td>\n",
       "      <td>1</td>\n",
       "      <td>Yes</td>\n",
       "      <td>Petrol</td>\n",
       "      <td>0.484106</td>\n",
       "      <td>0.468409</td>\n",
       "      <td>0.200000</td>\n",
       "      <td>Automatic</td>\n",
       "      <td>Front</td>\n",
       "      <td>4-5</td>\n",
       "      <td>Left wheel</td>\n",
       "      <td>Silver</td>\n",
       "      <td>0.250</td>\n",
       "      <td>0.372090</td>\n",
       "    </tr>\n",
       "  </tbody>\n",
       "</table>\n",
       "</div>"
      ],
      "text/plain": [
       "         ID     Price      Levy Manufacturer    Model  Prod. year  Category  \\\n",
       "0  45654403  9.497622  0.566554        LEXUS   RX 450        2010         2   \n",
       "1  44731507  9.718422  0.501707    CHEVROLET  Equinox        2011         2   \n",
       "2  45774419  9.043932  0.447651        HONDA      FIT        2006         1   \n",
       "3  45769185  8.190632  0.467779         FORD   Escape        2011         2   \n",
       "4  45809263  9.369564  0.333374        HONDA      FIT        2014         1   \n",
       "\n",
       "  Leather interior Fuel type  Engine volume   Mileage  Cylinders  \\\n",
       "0              Yes     Other       0.671033  0.505669   0.333333   \n",
       "1               No    Petrol       0.641939  0.507345   0.333333   \n",
       "2               No    Petrol       0.484106  0.509503   0.200000   \n",
       "3              Yes     Other       0.607528  0.500592   0.200000   \n",
       "4              Yes    Petrol       0.484106  0.468409   0.200000   \n",
       "\n",
       "  Gear box type Drive wheels Doors             Wheel   Color  Airbags  \\\n",
       "0     Automatic          4x4   4-5        Left wheel  Silver    0.750   \n",
       "1         Other          4x4   4-5        Left wheel   Black    0.500   \n",
       "2         Other        Front   4-5  Right-hand drive   Black    0.125   \n",
       "3     Automatic          4x4   4-5        Left wheel   White    0.000   \n",
       "4     Automatic        Front   4-5        Left wheel  Silver    0.250   \n",
       "\n",
       "        Age  \n",
       "0  0.480920  \n",
       "1  0.457565  \n",
       "2  0.558135  \n",
       "3  0.457565  \n",
       "4  0.372090  "
      ]
     },
     "execution_count": 147,
     "metadata": {},
     "output_type": "execute_result"
    }
   ],
   "source": [
    "df.head()"
   ]
  },
  {
   "cell_type": "markdown",
   "id": "b1da82ae",
   "metadata": {},
   "source": [
    "## 8.Removing the Unwanted Features -  "
   ]
  },
  {
   "cell_type": "code",
   "execution_count": 148,
   "id": "ad2f2cb2",
   "metadata": {},
   "outputs": [],
   "source": [
    "#Dropped unwanted features\n",
    "df=df.drop(['ID', 'Manufacturer', 'Model', 'Leather interior', 'Drive wheels', 'Color','Prod. year'],axis=1)"
   ]
  },
  {
   "cell_type": "code",
   "execution_count": 149,
   "id": "b679ea8c",
   "metadata": {},
   "outputs": [
    {
     "data": {
      "text/html": [
       "<div>\n",
       "<style scoped>\n",
       "    .dataframe tbody tr th:only-of-type {\n",
       "        vertical-align: middle;\n",
       "    }\n",
       "\n",
       "    .dataframe tbody tr th {\n",
       "        vertical-align: top;\n",
       "    }\n",
       "\n",
       "    .dataframe thead th {\n",
       "        text-align: right;\n",
       "    }\n",
       "</style>\n",
       "<table border=\"1\" class=\"dataframe\">\n",
       "  <thead>\n",
       "    <tr style=\"text-align: right;\">\n",
       "      <th></th>\n",
       "      <th>Price</th>\n",
       "      <th>Levy</th>\n",
       "      <th>Category</th>\n",
       "      <th>Fuel type</th>\n",
       "      <th>Engine volume</th>\n",
       "      <th>Mileage</th>\n",
       "      <th>Cylinders</th>\n",
       "      <th>Gear box type</th>\n",
       "      <th>Doors</th>\n",
       "      <th>Wheel</th>\n",
       "      <th>Airbags</th>\n",
       "      <th>Age</th>\n",
       "    </tr>\n",
       "  </thead>\n",
       "  <tbody>\n",
       "    <tr>\n",
       "      <th>0</th>\n",
       "      <td>9.497622</td>\n",
       "      <td>0.566554</td>\n",
       "      <td>2</td>\n",
       "      <td>Other</td>\n",
       "      <td>0.671033</td>\n",
       "      <td>0.505669</td>\n",
       "      <td>0.333333</td>\n",
       "      <td>Automatic</td>\n",
       "      <td>4-5</td>\n",
       "      <td>Left wheel</td>\n",
       "      <td>0.750</td>\n",
       "      <td>0.480920</td>\n",
       "    </tr>\n",
       "    <tr>\n",
       "      <th>1</th>\n",
       "      <td>9.718422</td>\n",
       "      <td>0.501707</td>\n",
       "      <td>2</td>\n",
       "      <td>Petrol</td>\n",
       "      <td>0.641939</td>\n",
       "      <td>0.507345</td>\n",
       "      <td>0.333333</td>\n",
       "      <td>Other</td>\n",
       "      <td>4-5</td>\n",
       "      <td>Left wheel</td>\n",
       "      <td>0.500</td>\n",
       "      <td>0.457565</td>\n",
       "    </tr>\n",
       "    <tr>\n",
       "      <th>2</th>\n",
       "      <td>9.043932</td>\n",
       "      <td>0.447651</td>\n",
       "      <td>1</td>\n",
       "      <td>Petrol</td>\n",
       "      <td>0.484106</td>\n",
       "      <td>0.509503</td>\n",
       "      <td>0.200000</td>\n",
       "      <td>Other</td>\n",
       "      <td>4-5</td>\n",
       "      <td>Right-hand drive</td>\n",
       "      <td>0.125</td>\n",
       "      <td>0.558135</td>\n",
       "    </tr>\n",
       "    <tr>\n",
       "      <th>3</th>\n",
       "      <td>8.190632</td>\n",
       "      <td>0.467779</td>\n",
       "      <td>2</td>\n",
       "      <td>Other</td>\n",
       "      <td>0.607528</td>\n",
       "      <td>0.500592</td>\n",
       "      <td>0.200000</td>\n",
       "      <td>Automatic</td>\n",
       "      <td>4-5</td>\n",
       "      <td>Left wheel</td>\n",
       "      <td>0.000</td>\n",
       "      <td>0.457565</td>\n",
       "    </tr>\n",
       "    <tr>\n",
       "      <th>4</th>\n",
       "      <td>9.369564</td>\n",
       "      <td>0.333374</td>\n",
       "      <td>1</td>\n",
       "      <td>Petrol</td>\n",
       "      <td>0.484106</td>\n",
       "      <td>0.468409</td>\n",
       "      <td>0.200000</td>\n",
       "      <td>Automatic</td>\n",
       "      <td>4-5</td>\n",
       "      <td>Left wheel</td>\n",
       "      <td>0.250</td>\n",
       "      <td>0.372090</td>\n",
       "    </tr>\n",
       "  </tbody>\n",
       "</table>\n",
       "</div>"
      ],
      "text/plain": [
       "      Price      Levy  Category Fuel type  Engine volume   Mileage  Cylinders  \\\n",
       "0  9.497622  0.566554         2     Other       0.671033  0.505669   0.333333   \n",
       "1  9.718422  0.501707         2    Petrol       0.641939  0.507345   0.333333   \n",
       "2  9.043932  0.447651         1    Petrol       0.484106  0.509503   0.200000   \n",
       "3  8.190632  0.467779         2     Other       0.607528  0.500592   0.200000   \n",
       "4  9.369564  0.333374         1    Petrol       0.484106  0.468409   0.200000   \n",
       "\n",
       "  Gear box type Doors             Wheel  Airbags       Age  \n",
       "0     Automatic   4-5        Left wheel    0.750  0.480920  \n",
       "1         Other   4-5        Left wheel    0.500  0.457565  \n",
       "2         Other   4-5  Right-hand drive    0.125  0.558135  \n",
       "3     Automatic   4-5        Left wheel    0.000  0.457565  \n",
       "4     Automatic   4-5        Left wheel    0.250  0.372090  "
      ]
     },
     "execution_count": 149,
     "metadata": {},
     "output_type": "execute_result"
    }
   ],
   "source": [
    "df.head()"
   ]
  },
  {
   "cell_type": "markdown",
   "id": "b9415446",
   "metadata": {},
   "source": [
    "## 9. Feature Selection -"
   ]
  },
  {
   "cell_type": "code",
   "execution_count": 150,
   "id": "270016ac",
   "metadata": {},
   "outputs": [
    {
     "data": {
      "text/html": [
       "<div>\n",
       "<style scoped>\n",
       "    .dataframe tbody tr th:only-of-type {\n",
       "        vertical-align: middle;\n",
       "    }\n",
       "\n",
       "    .dataframe tbody tr th {\n",
       "        vertical-align: top;\n",
       "    }\n",
       "\n",
       "    .dataframe thead th {\n",
       "        text-align: right;\n",
       "    }\n",
       "</style>\n",
       "<table border=\"1\" class=\"dataframe\">\n",
       "  <thead>\n",
       "    <tr style=\"text-align: right;\">\n",
       "      <th></th>\n",
       "      <th>Levy</th>\n",
       "      <th>Engine volume</th>\n",
       "      <th>Mileage</th>\n",
       "      <th>Cylinders</th>\n",
       "      <th>Airbags</th>\n",
       "      <th>Age</th>\n",
       "    </tr>\n",
       "  </thead>\n",
       "  <tbody>\n",
       "    <tr>\n",
       "      <th>0</th>\n",
       "      <td>0.566554</td>\n",
       "      <td>0.671033</td>\n",
       "      <td>0.505669</td>\n",
       "      <td>0.333333</td>\n",
       "      <td>0.7500</td>\n",
       "      <td>0.480920</td>\n",
       "    </tr>\n",
       "    <tr>\n",
       "      <th>1</th>\n",
       "      <td>0.501707</td>\n",
       "      <td>0.641939</td>\n",
       "      <td>0.507345</td>\n",
       "      <td>0.333333</td>\n",
       "      <td>0.5000</td>\n",
       "      <td>0.457565</td>\n",
       "    </tr>\n",
       "    <tr>\n",
       "      <th>2</th>\n",
       "      <td>0.447651</td>\n",
       "      <td>0.484106</td>\n",
       "      <td>0.509503</td>\n",
       "      <td>0.200000</td>\n",
       "      <td>0.1250</td>\n",
       "      <td>0.558135</td>\n",
       "    </tr>\n",
       "    <tr>\n",
       "      <th>3</th>\n",
       "      <td>0.467779</td>\n",
       "      <td>0.607528</td>\n",
       "      <td>0.500592</td>\n",
       "      <td>0.200000</td>\n",
       "      <td>0.0000</td>\n",
       "      <td>0.457565</td>\n",
       "    </tr>\n",
       "    <tr>\n",
       "      <th>4</th>\n",
       "      <td>0.333374</td>\n",
       "      <td>0.484106</td>\n",
       "      <td>0.468409</td>\n",
       "      <td>0.200000</td>\n",
       "      <td>0.2500</td>\n",
       "      <td>0.372090</td>\n",
       "    </tr>\n",
       "    <tr>\n",
       "      <th>...</th>\n",
       "      <td>...</td>\n",
       "      <td>...</td>\n",
       "      <td>...</td>\n",
       "      <td>...</td>\n",
       "      <td>...</td>\n",
       "      <td>...</td>\n",
       "    </tr>\n",
       "    <tr>\n",
       "      <th>19028</th>\n",
       "      <td>0.447651</td>\n",
       "      <td>0.565412</td>\n",
       "      <td>0.530930</td>\n",
       "      <td>0.200000</td>\n",
       "      <td>0.3125</td>\n",
       "      <td>0.655542</td>\n",
       "    </tr>\n",
       "    <tr>\n",
       "      <th>19029</th>\n",
       "      <td>0.460308</td>\n",
       "      <td>0.599823</td>\n",
       "      <td>0.498236</td>\n",
       "      <td>0.200000</td>\n",
       "      <td>0.5000</td>\n",
       "      <td>0.457565</td>\n",
       "    </tr>\n",
       "    <tr>\n",
       "      <th>19030</th>\n",
       "      <td>0.461532</td>\n",
       "      <td>0.565412</td>\n",
       "      <td>0.480882</td>\n",
       "      <td>0.200000</td>\n",
       "      <td>0.2500</td>\n",
       "      <td>0.480920</td>\n",
       "    </tr>\n",
       "    <tr>\n",
       "      <th>19031</th>\n",
       "      <td>0.549692</td>\n",
       "      <td>0.565412</td>\n",
       "      <td>0.437555</td>\n",
       "      <td>0.200000</td>\n",
       "      <td>0.2500</td>\n",
       "      <td>0.540813</td>\n",
       "    </tr>\n",
       "    <tr>\n",
       "      <th>19032</th>\n",
       "      <td>0.440204</td>\n",
       "      <td>0.599823</td>\n",
       "      <td>0.505929</td>\n",
       "      <td>0.200000</td>\n",
       "      <td>0.7500</td>\n",
       "      <td>0.431983</td>\n",
       "    </tr>\n",
       "  </tbody>\n",
       "</table>\n",
       "<p>19033 rows × 6 columns</p>\n",
       "</div>"
      ],
      "text/plain": [
       "           Levy  Engine volume   Mileage  Cylinders  Airbags       Age\n",
       "0      0.566554       0.671033  0.505669   0.333333   0.7500  0.480920\n",
       "1      0.501707       0.641939  0.507345   0.333333   0.5000  0.457565\n",
       "2      0.447651       0.484106  0.509503   0.200000   0.1250  0.558135\n",
       "3      0.467779       0.607528  0.500592   0.200000   0.0000  0.457565\n",
       "4      0.333374       0.484106  0.468409   0.200000   0.2500  0.372090\n",
       "...         ...            ...       ...        ...      ...       ...\n",
       "19028  0.447651       0.565412  0.530930   0.200000   0.3125  0.655542\n",
       "19029  0.460308       0.599823  0.498236   0.200000   0.5000  0.457565\n",
       "19030  0.461532       0.565412  0.480882   0.200000   0.2500  0.480920\n",
       "19031  0.549692       0.565412  0.437555   0.200000   0.2500  0.540813\n",
       "19032  0.440204       0.599823  0.505929   0.200000   0.7500  0.431983\n",
       "\n",
       "[19033 rows x 6 columns]"
      ]
     },
     "execution_count": 150,
     "metadata": {},
     "output_type": "execute_result"
    }
   ],
   "source": [
    "#selected numerical features to find the multicollinearity\n",
    "for_corr=df[['Levy', 'Engine volume', 'Mileage', 'Cylinders', 'Airbags', 'Age']]\n",
    "for_corr"
   ]
  },
  {
   "cell_type": "code",
   "execution_count": 151,
   "id": "78b4882a",
   "metadata": {},
   "outputs": [
    {
     "data": {
      "text/plain": [
       "<AxesSubplot:>"
      ]
     },
     "execution_count": 151,
     "metadata": {},
     "output_type": "execute_result"
    },
    {
     "data": {
      "image/png": "[encoded data removed]",
      "text/plain": [
       "<Figure size 432x288 with 2 Axes>"
      ]
     },
     "metadata": {
      "needs_background": "light"
     },
     "output_type": "display_data"
    }
   ],
   "source": [
    "#checking for correlation etween the features\n",
    "sns.heatmap(for_corr.corr(),annot=True)"
   ]
  },
  {
   "cell_type": "markdown",
   "id": "f48abb83",
   "metadata": {},
   "source": [
    "As there is no multicolinearity in the above features we will take all these features"
   ]
  },
  {
   "cell_type": "code",
   "execution_count": 154,
   "id": "e14905f0",
   "metadata": {},
   "outputs": [],
   "source": [
    "#defining the dependent & independent features\n",
    "x=df.drop('Price',axis=1)\n",
    "y=df['Price']"
   ]
  },
  {
   "cell_type": "markdown",
   "id": "24969b5b",
   "metadata": {},
   "source": [
    "## 10. Feature Encoding -"
   ]
  },
  {
   "cell_type": "code",
   "execution_count": 155,
   "id": "e54b9067",
   "metadata": {},
   "outputs": [],
   "source": [
    "x=pd.get_dummies(x,columns=['Category','Fuel type','Gear box type','Doors','Wheel'])"
   ]
  },
  {
   "cell_type": "code",
   "execution_count": 157,
   "id": "e3544373",
   "metadata": {},
   "outputs": [
    {
     "data": {
      "text/plain": [
       "0    9.497622\n",
       "1    9.718422\n",
       "2    9.043932\n",
       "3    8.190632\n",
       "4    9.369564\n",
       "Name: Price, dtype: float64"
      ]
     },
     "execution_count": 157,
     "metadata": {},
     "output_type": "execute_result"
    }
   ],
   "source": [
    "y.head()"
   ]
  },
  {
   "cell_type": "markdown",
   "id": "d9754831",
   "metadata": {},
   "source": [
    "## 11. Model Building -"
   ]
  },
  {
   "cell_type": "code",
   "execution_count": 202,
   "id": "ebbb7d92",
   "metadata": {},
   "outputs": [],
   "source": [
    "from sklearn.model_selection import train_test_split \n",
    "from sklearn.linear_model import LinearRegression\n",
    "from sklearn.svm import SVR\n",
    "from sklearn.tree import DecisionTreeRegressor\n",
    "from sklearn.ensemble import RandomForestRegressor\n",
    "from sklearn.model_selection import GridSearchCV\n",
    "\n",
    "from sklearn.metrics import mean_squared_error,r2_score"
   ]
  },
  {
   "cell_type": "code",
   "execution_count": 159,
   "id": "569fc21d",
   "metadata": {},
   "outputs": [],
   "source": [
    "x_train,x_test,y_train,y_test=train_test_split(x,y,test_size=0.25,random_state=25)"
   ]
  },
  {
   "cell_type": "code",
   "execution_count": 164,
   "id": "7f55d91b",
   "metadata": {},
   "outputs": [],
   "source": [
    "from collections import OrderedDict"
   ]
  },
  {
   "cell_type": "code",
   "execution_count": 165,
   "id": "a97d1dff",
   "metadata": {},
   "outputs": [],
   "source": [
    "model_rmse=OrderedDict()"
   ]
  },
  {
   "cell_type": "code",
   "execution_count": 166,
   "id": "a95a1120",
   "metadata": {},
   "outputs": [],
   "source": [
    "model_r2=OrderedDict()"
   ]
  },
  {
   "cell_type": "markdown",
   "id": "453720cc",
   "metadata": {},
   "source": [
    "### Linear Regression -"
   ]
  },
  {
   "cell_type": "code",
   "execution_count": 167,
   "id": "f9be9fd7",
   "metadata": {},
   "outputs": [],
   "source": [
    "linreg=LinearRegression()"
   ]
  },
  {
   "cell_type": "code",
   "execution_count": 168,
   "id": "a349821f",
   "metadata": {},
   "outputs": [
    {
     "data": {
      "text/html": [
       "<style>#sk-container-id-2 {color: black;background-color: white;}#sk-container-id-2 pre{padding: 0;}#sk-container-id-2 div.sk-toggleable {background-color: white;}#sk-container-id-2 label.sk-toggleable__label {cursor: pointer;display: block;width: 100%;margin-bottom: 0;padding: 0.3em;box-sizing: border-box;text-align: center;}#sk-container-id-2 label.sk-toggleable__label-arrow:before {content: \"▸\";float: left;margin-right: 0.25em;color: #696969;}#sk-container-id-2 label.sk-toggleable__label-arrow:hover:before {color: black;}#sk-container-id-2 div.sk-estimator:hover label.sk-toggleable__label-arrow:before {color: black;}#sk-container-id-2 div.sk-toggleable__content {max-height: 0;max-width: 0;overflow: hidden;text-align: left;background-color: #f0f8ff;}#sk-container-id-2 div.sk-toggleable__content pre {margin: 0.2em;color: black;border-radius: 0.25em;background-color: #f0f8ff;}#sk-container-id-2 input.sk-toggleable__control:checked~div.sk-toggleable__content {max-height: 200px;max-width: 100%;overflow: auto;}#sk-container-id-2 input.sk-toggleable__control:checked~label.sk-toggleable__label-arrow:before {content: \"▾\";}#sk-container-id-2 div.sk-estimator input.sk-toggleable__control:checked~label.sk-toggleable__label {background-color: #d4ebff;}#sk-container-id-2 div.sk-label input.sk-toggleable__control:checked~label.sk-toggleable__label {background-color: #d4ebff;}#sk-container-id-2 input.sk-hidden--visually {border: 0;clip: rect(1px 1px 1px 1px);clip: rect(1px, 1px, 1px, 1px);height: 1px;margin: -1px;overflow: hidden;padding: 0;position: absolute;width: 1px;}#sk-container-id-2 div.sk-estimator {font-family: monospace;background-color: #f0f8ff;border: 1px dotted black;border-radius: 0.25em;box-sizing: border-box;margin-bottom: 0.5em;}#sk-container-id-2 div.sk-estimator:hover {background-color: #d4ebff;}#sk-container-id-2 div.sk-parallel-item::after {content: \"\";width: 100%;border-bottom: 1px solid gray;flex-grow: 1;}#sk-container-id-2 div.sk-label:hover label.sk-toggleable__label {background-color: #d4ebff;}#sk-container-id-2 div.sk-serial::before {content: \"\";position: absolute;border-left: 1px solid gray;box-sizing: border-box;top: 0;bottom: 0;left: 50%;z-index: 0;}#sk-container-id-2 div.sk-serial {display: flex;flex-direction: column;align-items: center;background-color: white;padding-right: 0.2em;padding-left: 0.2em;position: relative;}#sk-container-id-2 div.sk-item {position: relative;z-index: 1;}#sk-container-id-2 div.sk-parallel {display: flex;align-items: stretch;justify-content: center;background-color: white;position: relative;}#sk-container-id-2 div.sk-item::before, #sk-container-id-2 div.sk-parallel-item::before {content: \"\";position: absolute;border-left: 1px solid gray;box-sizing: border-box;top: 0;bottom: 0;left: 50%;z-index: -1;}#sk-container-id-2 div.sk-parallel-item {display: flex;flex-direction: column;z-index: 1;position: relative;background-color: white;}#sk-container-id-2 div.sk-parallel-item:first-child::after {align-self: flex-end;width: 50%;}#sk-container-id-2 div.sk-parallel-item:last-child::after {align-self: flex-start;width: 50%;}#sk-container-id-2 div.sk-parallel-item:only-child::after {width: 0;}#sk-container-id-2 div.sk-dashed-wrapped {border: 1px dashed gray;margin: 0 0.4em 0.5em 0.4em;box-sizing: border-box;padding-bottom: 0.4em;background-color: white;}#sk-container-id-2 div.sk-label label {font-family: monospace;font-weight: bold;display: inline-block;line-height: 1.2em;}#sk-container-id-2 div.sk-label-container {text-align: center;}#sk-container-id-2 div.sk-container {/* jupyter's `normalize.less` sets `[hidden] { display: none; }` but bootstrap.min.css set `[hidden] { display: none !important; }` so we also need the `!important` here to be able to override the default hidden behavior on the sphinx rendered scikit-learn.org. See: https://github.com/scikit-learn/scikit-learn/issues/21755 */display: inline-block !important;position: relative;}#sk-container-id-2 div.sk-text-repr-fallback {display: none;}</style><div id=\"sk-container-id-2\" class=\"sk-top-container\"><div class=\"sk-text-repr-fallback\"><pre>LinearRegression()</pre><b>In a Jupyter environment, please rerun this cell to show the HTML representation or trust the notebook. <br />On GitHub, the HTML representation is unable to render, please try loading this page with nbviewer.org.</b></div><div class=\"sk-container\" hidden><div class=\"sk-item\"><div class=\"sk-estimator sk-toggleable\"><input class=\"sk-toggleable__control sk-hidden--visually\" id=\"sk-estimator-id-2\" type=\"checkbox\" checked><label for=\"sk-estimator-id-2\" class=\"sk-toggleable__label sk-toggleable__label-arrow\">LinearRegression</label><div class=\"sk-toggleable__content\"><pre>LinearRegression()</pre></div></div></div></div></div>"
      ],
      "text/plain": [
       "LinearRegression()"
      ]
     },
     "execution_count": 168,
     "metadata": {},
     "output_type": "execute_result"
    }
   ],
   "source": [
    "linreg.fit(x_train,y_train)"
   ]
  },
  {
   "cell_type": "code",
   "execution_count": 185,
   "id": "37fb7b8b",
   "metadata": {},
   "outputs": [],
   "source": [
    "y_pred_lr=linreg.predict(x_test)"
   ]
  },
  {
   "cell_type": "code",
   "execution_count": 186,
   "id": "67664eda",
   "metadata": {},
   "outputs": [
    {
     "name": "stdout",
     "output_type": "stream",
     "text": [
      "RMSE of Linear Regression is 1.429 and r2_score is 0.185\n"
     ]
    }
   ],
   "source": [
    "mse_lr=round(mean_squared_error(y_test,y_pred_lr),3)\n",
    "rmse_lr=round(np.sqrt(mse_lr),3)\n",
    "r2_lr=round(r2_score(y_test,y_pred_lr),3)\n",
    "\n",
    "model_rmse['Linear Regression']=rmse_lr\n",
    "model_r2['Linear Regression']=r2_lr\n",
    "\n",
    "print('RMSE of Linear Regression is {} and r2_score is {}'.format(rmse_lr,r2_lr))"
   ]
  },
  {
   "cell_type": "markdown",
   "id": "93a7a2bd",
   "metadata": {},
   "source": [
    "## Support Vector Machine -"
   ]
  },
  {
   "cell_type": "code",
   "execution_count": 179,
   "id": "6d6194b4",
   "metadata": {},
   "outputs": [],
   "source": [
    "svm=SVR()"
   ]
  },
  {
   "cell_type": "code",
   "execution_count": 180,
   "id": "da7dfc8d",
   "metadata": {},
   "outputs": [
    {
     "data": {
      "text/html": [
       "<style>#sk-container-id-3 {color: black;background-color: white;}#sk-container-id-3 pre{padding: 0;}#sk-container-id-3 div.sk-toggleable {background-color: white;}#sk-container-id-3 label.sk-toggleable__label {cursor: pointer;display: block;width: 100%;margin-bottom: 0;padding: 0.3em;box-sizing: border-box;text-align: center;}#sk-container-id-3 label.sk-toggleable__label-arrow:before {content: \"▸\";float: left;margin-right: 0.25em;color: #696969;}#sk-container-id-3 label.sk-toggleable__label-arrow:hover:before {color: black;}#sk-container-id-3 div.sk-estimator:hover label.sk-toggleable__label-arrow:before {color: black;}#sk-container-id-3 div.sk-toggleable__content {max-height: 0;max-width: 0;overflow: hidden;text-align: left;background-color: #f0f8ff;}#sk-container-id-3 div.sk-toggleable__content pre {margin: 0.2em;color: black;border-radius: 0.25em;background-color: #f0f8ff;}#sk-container-id-3 input.sk-toggleable__control:checked~div.sk-toggleable__content {max-height: 200px;max-width: 100%;overflow: auto;}#sk-container-id-3 input.sk-toggleable__control:checked~label.sk-toggleable__label-arrow:before {content: \"▾\";}#sk-container-id-3 div.sk-estimator input.sk-toggleable__control:checked~label.sk-toggleable__label {background-color: #d4ebff;}#sk-container-id-3 div.sk-label input.sk-toggleable__control:checked~label.sk-toggleable__label {background-color: #d4ebff;}#sk-container-id-3 input.sk-hidden--visually {border: 0;clip: rect(1px 1px 1px 1px);clip: rect(1px, 1px, 1px, 1px);height: 1px;margin: -1px;overflow: hidden;padding: 0;position: absolute;width: 1px;}#sk-container-id-3 div.sk-estimator {font-family: monospace;background-color: #f0f8ff;border: 1px dotted black;border-radius: 0.25em;box-sizing: border-box;margin-bottom: 0.5em;}#sk-container-id-3 div.sk-estimator:hover {background-color: #d4ebff;}#sk-container-id-3 div.sk-parallel-item::after {content: \"\";width: 100%;border-bottom: 1px solid gray;flex-grow: 1;}#sk-container-id-3 div.sk-label:hover label.sk-toggleable__label {background-color: #d4ebff;}#sk-container-id-3 div.sk-serial::before {content: \"\";position: absolute;border-left: 1px solid gray;box-sizing: border-box;top: 0;bottom: 0;left: 50%;z-index: 0;}#sk-container-id-3 div.sk-serial {display: flex;flex-direction: column;align-items: center;background-color: white;padding-right: 0.2em;padding-left: 0.2em;position: relative;}#sk-container-id-3 div.sk-item {position: relative;z-index: 1;}#sk-container-id-3 div.sk-parallel {display: flex;align-items: stretch;justify-content: center;background-color: white;position: relative;}#sk-container-id-3 div.sk-item::before, #sk-container-id-3 div.sk-parallel-item::before {content: \"\";position: absolute;border-left: 1px solid gray;box-sizing: border-box;top: 0;bottom: 0;left: 50%;z-index: -1;}#sk-container-id-3 div.sk-parallel-item {display: flex;flex-direction: column;z-index: 1;position: relative;background-color: white;}#sk-container-id-3 div.sk-parallel-item:first-child::after {align-self: flex-end;width: 50%;}#sk-container-id-3 div.sk-parallel-item:last-child::after {align-self: flex-start;width: 50%;}#sk-container-id-3 div.sk-parallel-item:only-child::after {width: 0;}#sk-container-id-3 div.sk-dashed-wrapped {border: 1px dashed gray;margin: 0 0.4em 0.5em 0.4em;box-sizing: border-box;padding-bottom: 0.4em;background-color: white;}#sk-container-id-3 div.sk-label label {font-family: monospace;font-weight: bold;display: inline-block;line-height: 1.2em;}#sk-container-id-3 div.sk-label-container {text-align: center;}#sk-container-id-3 div.sk-container {/* jupyter's `normalize.less` sets `[hidden] { display: none; }` but bootstrap.min.css set `[hidden] { display: none !important; }` so we also need the `!important` here to be able to override the default hidden behavior on the sphinx rendered scikit-learn.org. See: https://github.com/scikit-learn/scikit-learn/issues/21755 */display: inline-block !important;position: relative;}#sk-container-id-3 div.sk-text-repr-fallback {display: none;}</style><div id=\"sk-container-id-3\" class=\"sk-top-container\"><div class=\"sk-text-repr-fallback\"><pre>SVR()</pre><b>In a Jupyter environment, please rerun this cell to show the HTML representation or trust the notebook. <br />On GitHub, the HTML representation is unable to render, please try loading this page with nbviewer.org.</b></div><div class=\"sk-container\" hidden><div class=\"sk-item\"><div class=\"sk-estimator sk-toggleable\"><input class=\"sk-toggleable__control sk-hidden--visually\" id=\"sk-estimator-id-3\" type=\"checkbox\" checked><label for=\"sk-estimator-id-3\" class=\"sk-toggleable__label sk-toggleable__label-arrow\">SVR</label><div class=\"sk-toggleable__content\"><pre>SVR()</pre></div></div></div></div></div>"
      ],
      "text/plain": [
       "SVR()"
      ]
     },
     "execution_count": 180,
     "metadata": {},
     "output_type": "execute_result"
    }
   ],
   "source": [
    "svm.fit(x_train,y_train)"
   ]
  },
  {
   "cell_type": "code",
   "execution_count": 187,
   "id": "12b9e8cd",
   "metadata": {},
   "outputs": [],
   "source": [
    "y_pred_svm=svm.predict(x_test)"
   ]
  },
  {
   "cell_type": "code",
   "execution_count": 199,
   "id": "060eaec9",
   "metadata": {},
   "outputs": [
    {
     "name": "stdout",
     "output_type": "stream",
     "text": [
      "RMSE of Support Vector Regression is 1.317 and r2_score is 0.307\n"
     ]
    }
   ],
   "source": [
    "mse_svm=round(mean_squared_error(y_test,y_pred_svm),3)\n",
    "rmse_svm=round(np.sqrt(mse_svm),3)\n",
    "r2_svm=round(r2_score(y_test,y_pred_svm),3)\n",
    "\n",
    "model_rmse['Support Vector Regressor']=rmse_svm\n",
    "model_r2['Support Vector Regressor']=r2_svm\n",
    "\n",
    "print('RMSE of Support Vector Regression is {} and r2_score is {}'.format(rmse_svm,r2_svm))"
   ]
  },
  {
   "cell_type": "markdown",
   "id": "b064a7d8",
   "metadata": {},
   "source": [
    "## Decision Tree Regressor -"
   ]
  },
  {
   "cell_type": "code",
   "execution_count": 194,
   "id": "57eeb3ab",
   "metadata": {},
   "outputs": [],
   "source": [
    "dtr=DecisionTreeRegressor()"
   ]
  },
  {
   "cell_type": "code",
   "execution_count": 195,
   "id": "6c5d19ea",
   "metadata": {},
   "outputs": [
    {
     "data": {
      "text/html": [
       "<style>#sk-container-id-5 {color: black;background-color: white;}#sk-container-id-5 pre{padding: 0;}#sk-container-id-5 div.sk-toggleable {background-color: white;}#sk-container-id-5 label.sk-toggleable__label {cursor: pointer;display: block;width: 100%;margin-bottom: 0;padding: 0.3em;box-sizing: border-box;text-align: center;}#sk-container-id-5 label.sk-toggleable__label-arrow:before {content: \"▸\";float: left;margin-right: 0.25em;color: #696969;}#sk-container-id-5 label.sk-toggleable__label-arrow:hover:before {color: black;}#sk-container-id-5 div.sk-estimator:hover label.sk-toggleable__label-arrow:before {color: black;}#sk-container-id-5 div.sk-toggleable__content {max-height: 0;max-width: 0;overflow: hidden;text-align: left;background-color: #f0f8ff;}#sk-container-id-5 div.sk-toggleable__content pre {margin: 0.2em;color: black;border-radius: 0.25em;background-color: #f0f8ff;}#sk-container-id-5 input.sk-toggleable__control:checked~div.sk-toggleable__content {max-height: 200px;max-width: 100%;overflow: auto;}#sk-container-id-5 input.sk-toggleable__control:checked~label.sk-toggleable__label-arrow:before {content: \"▾\";}#sk-container-id-5 div.sk-estimator input.sk-toggleable__control:checked~label.sk-toggleable__label {background-color: #d4ebff;}#sk-container-id-5 div.sk-label input.sk-toggleable__control:checked~label.sk-toggleable__label {background-color: #d4ebff;}#sk-container-id-5 input.sk-hidden--visually {border: 0;clip: rect(1px 1px 1px 1px);clip: rect(1px, 1px, 1px, 1px);height: 1px;margin: -1px;overflow: hidden;padding: 0;position: absolute;width: 1px;}#sk-container-id-5 div.sk-estimator {font-family: monospace;background-color: #f0f8ff;border: 1px dotted black;border-radius: 0.25em;box-sizing: border-box;margin-bottom: 0.5em;}#sk-container-id-5 div.sk-estimator:hover {background-color: #d4ebff;}#sk-container-id-5 div.sk-parallel-item::after {content: \"\";width: 100%;border-bottom: 1px solid gray;flex-grow: 1;}#sk-container-id-5 div.sk-label:hover label.sk-toggleable__label {background-color: #d4ebff;}#sk-container-id-5 div.sk-serial::before {content: \"\";position: absolute;border-left: 1px solid gray;box-sizing: border-box;top: 0;bottom: 0;left: 50%;z-index: 0;}#sk-container-id-5 div.sk-serial {display: flex;flex-direction: column;align-items: center;background-color: white;padding-right: 0.2em;padding-left: 0.2em;position: relative;}#sk-container-id-5 div.sk-item {position: relative;z-index: 1;}#sk-container-id-5 div.sk-parallel {display: flex;align-items: stretch;justify-content: center;background-color: white;position: relative;}#sk-container-id-5 div.sk-item::before, #sk-container-id-5 div.sk-parallel-item::before {content: \"\";position: absolute;border-left: 1px solid gray;box-sizing: border-box;top: 0;bottom: 0;left: 50%;z-index: -1;}#sk-container-id-5 div.sk-parallel-item {display: flex;flex-direction: column;z-index: 1;position: relative;background-color: white;}#sk-container-id-5 div.sk-parallel-item:first-child::after {align-self: flex-end;width: 50%;}#sk-container-id-5 div.sk-parallel-item:last-child::after {align-self: flex-start;width: 50%;}#sk-container-id-5 div.sk-parallel-item:only-child::after {width: 0;}#sk-container-id-5 div.sk-dashed-wrapped {border: 1px dashed gray;margin: 0 0.4em 0.5em 0.4em;box-sizing: border-box;padding-bottom: 0.4em;background-color: white;}#sk-container-id-5 div.sk-label label {font-family: monospace;font-weight: bold;display: inline-block;line-height: 1.2em;}#sk-container-id-5 div.sk-label-container {text-align: center;}#sk-container-id-5 div.sk-container {/* jupyter's `normalize.less` sets `[hidden] { display: none; }` but bootstrap.min.css set `[hidden] { display: none !important; }` so we also need the `!important` here to be able to override the default hidden behavior on the sphinx rendered scikit-learn.org. See: https://github.com/scikit-learn/scikit-learn/issues/21755 */display: inline-block !important;position: relative;}#sk-container-id-5 div.sk-text-repr-fallback {display: none;}</style><div id=\"sk-container-id-5\" class=\"sk-top-container\"><div class=\"sk-text-repr-fallback\"><pre>DecisionTreeRegressor()</pre><b>In a Jupyter environment, please rerun this cell to show the HTML representation or trust the notebook. <br />On GitHub, the HTML representation is unable to render, please try loading this page with nbviewer.org.</b></div><div class=\"sk-container\" hidden><div class=\"sk-item\"><div class=\"sk-estimator sk-toggleable\"><input class=\"sk-toggleable__control sk-hidden--visually\" id=\"sk-estimator-id-5\" type=\"checkbox\" checked><label for=\"sk-estimator-id-5\" class=\"sk-toggleable__label sk-toggleable__label-arrow\">DecisionTreeRegressor</label><div class=\"sk-toggleable__content\"><pre>DecisionTreeRegressor()</pre></div></div></div></div></div>"
      ],
      "text/plain": [
       "DecisionTreeRegressor()"
      ]
     },
     "execution_count": 195,
     "metadata": {},
     "output_type": "execute_result"
    }
   ],
   "source": [
    "dtr.fit(x_train,y_train)"
   ]
  },
  {
   "cell_type": "code",
   "execution_count": 196,
   "id": "a7dc484c",
   "metadata": {},
   "outputs": [],
   "source": [
    "y_pred_dtr=dtr.predict(x_test)"
   ]
  },
  {
   "cell_type": "code",
   "execution_count": 198,
   "id": "1c8f91a3",
   "metadata": {},
   "outputs": [
    {
     "name": "stdout",
     "output_type": "stream",
     "text": [
      "RMSE of Decision Tree Regression is 1.346 and r2_score is 0.277\n"
     ]
    }
   ],
   "source": [
    "mse_dtr=round(mean_squared_error(y_test,y_pred_dtr),3)\n",
    "rmse_dtr=round(np.sqrt(mse_dtr),3)\n",
    "r2_dtr=round(r2_score(y_test,y_pred_dtr),3)\n",
    "\n",
    "model_rmse['Decision Tree Regressor']=rmse_dtr\n",
    "model_r2['Decision Tree Regressor']=r2_dtr\n",
    "\n",
    "print('RMSE of Decision Tree Regression is {} and r2_score is {}'.format(rmse_dtr,r2_dtr))"
   ]
  },
  {
   "cell_type": "markdown",
   "id": "3f6b88f9",
   "metadata": {},
   "source": [
    "## Random Forest Regressor - (10 Trees)"
   ]
  },
  {
   "cell_type": "code",
   "execution_count": 222,
   "id": "bbc7dd6c",
   "metadata": {},
   "outputs": [
    {
     "name": "stdout",
     "output_type": "stream",
     "text": [
      "RMSE of Decision Tree Regression with n_estimator 10 is 1.071 and r2_score is 0.542\n",
      "RMSE of Decision Tree Regression with n_estimator 30 is 1.023 and r2_score is 0.582\n",
      "RMSE of Decision Tree Regression with n_estimator 50 is 1.023 and r2_score is 0.582\n",
      "RMSE of Decision Tree Regression with n_estimator 100 is 1.016 and r2_score is 0.587\n",
      "RMSE of Decision Tree Regression with n_estimator 1000 is 1.014 and r2_score is 0.589\n",
      "[1.071, 1.023, 1.023, 1.016, 1.014]\n",
      "[0.542, 0.582, 0.582, 0.587, 0.589]\n"
     ]
    }
   ],
   "source": [
    "tree_numbers=[10,30,50,100,1000]\n",
    "rmse_score=[]\n",
    "r2_sc=[]\n",
    "for i in tree_numbers:\n",
    "    rfr=RandomForestRegressor(n_estimators=i)\n",
    "    rfr.fit(x_train,y_train)\n",
    "    y_pred=rfr.predict(x_test)\n",
    "    mse=round(mean_squared_error(y_test,y_pred),3)\n",
    "    rmse=round(np.sqrt(mse),3)\n",
    "    r2=round(r2_score(y_test,y_pred),3)\n",
    "    \n",
    "    rmse_score.append(rmse)\n",
    "    r2_sc.append(r2)\n",
    "    print('RMSE of Decision Tree Regression with n_estimator {} is {} and r2_score is {}'.format(i,rmse,r2))\n",
    "print(rmse_score)\n",
    "print(r2_sc)"
   ]
  },
  {
   "cell_type": "code",
   "execution_count": 224,
   "id": "556ddcb2",
   "metadata": {},
   "outputs": [
    {
     "data": {
      "text/plain": [
       "OrderedDict([('Linear Regression', 1.429),\n",
       "             ('Support Vector Regressor', 1.317),\n",
       "             ('Decision Tree Regressor', 1.346),\n",
       "             ('Random Forest with 10 Trees', 1.014)])"
      ]
     },
     "execution_count": 224,
     "metadata": {},
     "output_type": "execute_result"
    }
   ],
   "source": [
    "model_rmse"
   ]
  },
  {
   "cell_type": "code",
   "execution_count": 225,
   "id": "d8fc34b1",
   "metadata": {},
   "outputs": [
    {
     "data": {
      "text/plain": [
       "OrderedDict([('Linear Regression', 0.185),\n",
       "             ('Support Vector Regressor', 0.307),\n",
       "             ('Decision Tree Regressor', 0.277),\n",
       "             ('Random Forest with 10 Trees', 0.59)])"
      ]
     },
     "execution_count": 225,
     "metadata": {},
     "output_type": "execute_result"
    }
   ],
   "source": [
    "model_r2"
   ]
  },
  {
   "cell_type": "markdown",
   "id": "9140d6a1",
   "metadata": {},
   "source": [
    "### Conclusion - \n",
    "From the above resut we can observe that the Random Forest with 1000 Trees has least RMSE of 1.014 & high R2 score 0.589"
   ]
  }
 ],
 "metadata": {
  "kernelspec": {
   "display_name": "Python 3 (ipykernel)",
   "language": "python",
   "name": "python3"
  },
  "language_info": {
   "codemirror_mode": {
    "name": "ipython",
    "version": 3
   },
   "file_extension": ".py",
   "mimetype": "text/x-python",
   "name": "python",
   "nbconvert_exporter": "python",
   "pygments_lexer": "ipython3",
   "version": "3.9.12"
  }
 },
 "nbformat": 4,
 "nbformat_minor": 5
}
